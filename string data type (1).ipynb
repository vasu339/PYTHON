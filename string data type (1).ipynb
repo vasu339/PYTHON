{
 "cells": [
  {
   "cell_type": "markdown",
   "id": "ec39f9fd-710c-4ca4-976c-e7436781779a",
   "metadata": {},
   "source": [
    "# String Data Type"
   ]
  },
  {
   "cell_type": "code",
   "execution_count": 5,
   "id": "f249ea81-3f20-4b9c-91d0-ab71f24bf50f",
   "metadata": {},
   "outputs": [
    {
     "name": "stdout",
     "output_type": "stream",
     "text": [
      "python\n",
      "python\n",
      "python\n",
      "python\n"
     ]
    }
   ],
   "source": [
    "#String is a sequence of characters\n",
    "\n",
    "str1='python'\n",
    "str2=\"python\"\n",
    "str3='''python'''\n",
    "str4=\"\"\"python\"\"\"\n",
    "print(str1)\n",
    "print(str2)\n",
    "print(str3)\n",
    "print(str4)"
   ]
  },
  {
   "cell_type": "code",
   "execution_count": 53,
   "id": "d1df4462-6047-42a0-a8b6-123c9158ecf3",
   "metadata": {},
   "outputs": [
    {
     "name": "stdout",
     "output_type": "stream",
     "text": [
      "web technologies\n",
      "data science\n",
      "kalki housefull\n",
      "google microsoft\n",
      "iam vasundhar\n"
     ]
    }
   ],
   "source": [
    "#conccatenation\n",
    "\n",
    "str1=\"web\"\n",
    "str2=\"technologies\"\n",
    "str3='data'\n",
    "str4='science'\n",
    "str5='''kalki'''\n",
    "str6='''housefull'''\n",
    "str7=\"google\"\n",
    "str8=\"microsoft\"\n",
    "str9=\"iam\"\n",
    "str10=\"vasundhar\"\n",
    "print(str1 +\" \"+ str2)\n",
    "print(str3 +\" \"+ str4)\n",
    "print(str5 +\" \"+ str6)\n",
    "print(str7 +\" \"+ str8)\n",
    "print(str9 +\" \"+ str10)\n"
   ]
  },
  {
   "cell_type": "code",
   "execution_count": null,
   "id": "11ec3d9f-6d46-46ba-88f4-486681abb67e",
   "metadata": {},
   "outputs": [],
   "source": []
  },
  {
   "cell_type": "code",
   "execution_count": 29,
   "id": "109cb352-47b5-4bd3-a13a-0c78e1a7f368",
   "metadata": {},
   "outputs": [
    {
     "name": "stdout",
     "output_type": "stream",
     "text": [
      "kalki housefull kalki housefull kalki housefull kalki housefull kalki housefull kalki housefull kalki housefull kalki housefull kalki housefull \n",
      "vasundhar vasundhar vasundhar vasundhar vasundhar vasundhar vasundhar vasundhar vasundhar vasundhar \n"
     ]
    }
   ],
   "source": [
    "#repetations\n",
    "\n",
    "str1='''kalki housefull '''\n",
    "print(str1 * 9)\n",
    "str2= \"vasundhar \"\n",
    "print(str2 * 10)\n",
    "\n",
    "\n"
   ]
  },
  {
   "cell_type": "code",
   "execution_count": 33,
   "id": "aa3e62a3-629e-416f-a967-4c14a0d541f4",
   "metadata": {},
   "outputs": [
    {
     "name": "stdout",
     "output_type": "stream",
     "text": [
      "t\n",
      "s\n"
     ]
    }
   ],
   "source": [
    "#indexing\n",
    "\n",
    "str1=\"today my topic is strings\"\n",
    "print(str1[9]) #positive\n",
    "print(str1[-7])  #negative"
   ]
  },
  {
   "cell_type": "code",
   "execution_count": 39,
   "id": "73215e0f-9d7a-47d7-ad3e-f072bc035bfd",
   "metadata": {},
   "outputs": [
    {
     "name": "stdout",
     "output_type": "stream",
     "text": [
      "iam gonna learn\n",
      "string\n"
     ]
    }
   ],
   "source": [
    "#slicing\n",
    "\n",
    "str=\"today iam gonna learn about string\"\n",
    "substr1=str[6:21]\n",
    "substr2=str[28:34]\n",
    "print(substr1)\n",
    "print(substr2)"
   ]
  },
  {
   "cell_type": "code",
   "execution_count": 51,
   "id": "c43bf97a-6852-44b7-b4f4-cda6ad859574",
   "metadata": {},
   "outputs": [
    {
     "name": "stdout",
     "output_type": "stream",
     "text": [
      "my name is vasu and iam 21 years old and my height is 5.7\n"
     ]
    }
   ],
   "source": [
    "#format of python\n",
    "\n",
    "formatted_str=f\"my name is {'vasu'} and iam {21} years old and my height is {5.7}\"\n",
    "print(formatted_str)\n"
   ]
  },
  {
   "cell_type": "code",
   "execution_count": 49,
   "id": "d4400e37-a9c1-4f33-8c22-4d68e9021fb3",
   "metadata": {},
   "outputs": [
    {
     "name": "stdout",
     "output_type": "stream",
     "text": [
      "my name is vasu and iam 21 years old and my height is 5.7\n"
     ]
    }
   ],
   "source": [
    "name=\"vasu\"\n",
    "age=21\n",
    "height=5.7\n",
    "format_str=f\"my name is {name} and iam {age} years old and my height is {height}\"\n",
    "print(format_str)"
   ]
  },
  {
   "cell_type": "code",
   "execution_count": 59,
   "id": "8279998c-3441-41b7-95c6-72bcdfc2753a",
   "metadata": {},
   "outputs": [
    {
     "name": "stdout",
     "output_type": "stream",
     "text": [
      "12\n",
      "5\n",
      "34\n"
     ]
    }
   ],
   "source": [
    "#string method\n",
    "#lenght()\n",
    "\n",
    "str1=\"web\"\n",
    "str2=\"technologies\"\n",
    "str3='data'\n",
    "str4='science'\n",
    "str5='''kalki'''\n",
    "str6='''housefull'''\n",
    "str7=\"google\"\n",
    "str8=\"today iam gonna learn about string\"\n",
    "lenght1=len(str2)\n",
    "print(lenght1)\n",
    "lenght2=len(str5)\n",
    "print(lenght2)\n",
    "lenght3=len(str8)\n",
    "print(lenght3)\n"
   ]
  },
  {
   "cell_type": "code",
   "execution_count": 69,
   "id": "381cd5c7-3d79-47d9-99ac-9a2f1db21fc4",
   "metadata": {},
   "outputs": [
    {
     "name": "stdout",
     "output_type": "stream",
     "text": [
      "SCIENCE\n",
      "HOUSEFULL\n",
      "TODAY IAM GONNA LEARN ABOUT STRING\n",
      "web\n",
      "techologies\n",
      "data\n"
     ]
    }
   ],
   "source": [
    "#lower/upper case()\n",
    "\n",
    "str1='science'\n",
    "str2='''kalki'''\n",
    "str3='''housefull'''\n",
    "str4=\"google\"\n",
    "str5=\"today iam gonna learn about string\"\n",
    "str6=\"WEB\"\n",
    "str7=\"TECHOLOGIES\"\n",
    "str8='DATA'\n",
    "print(str1.upper())\n",
    "print(str3.upper())\n",
    "print(str5.upper())\n",
    "print(str6.lower())\n",
    "print(str7.lower())\n",
    "print(str8.lower())\n"
   ]
  },
  {
   "cell_type": "code",
   "execution_count": 75,
   "id": "f9106b59-47d4-49a8-84cb-3161619ef4a0",
   "metadata": {},
   "outputs": [
    {
     "name": "stdout",
     "output_type": "stream",
     "text": [
      "   vasundhar    \n",
      "         hello world       \n",
      "    python 3.14.2    \n",
      "\tjagan\n",
      "  apple A5\n",
      "vasundhar\n",
      "hello world\n",
      "python 3.14.2\n",
      "jagan\n",
      "apple A5\n"
     ]
    }
   ],
   "source": [
    "#Strip\n",
    "str1 = \"   vasundhar    \"\n",
    "str2 = \"         hello world       \"\n",
    "str3 = \"    python 3.14.2    \" # evaluates spaces only at the beginning and at the end of a string \n",
    "str4 = \"\\tjagan\" #evaluates tab also\n",
    "str5 = \"  apple A5\" # evaluates spaces only at the beginning and at the end of a string \n",
    "print(str1)\n",
    "print(str2)\n",
    "print(str3)\n",
    "print(str4)\n",
    "print(str5)\n",
    "#strip()\n",
    "print(str1.strip())\n",
    "print(str2.strip())\n",
    "print(str3.strip())\n",
    "print(str4.strip())\n",
    "print(str5.strip())"
   ]
  },
  {
   "cell_type": "code",
   "execution_count": 77,
   "id": "f443c448-764c-4e19-8b90-9fa6985473c9",
   "metadata": {},
   "outputs": [
    {
     "name": "stdout",
     "output_type": "stream",
     "text": [
      "HeLLo\n",
      "WOrld\n",
      "Python3.9\n",
      "Biology\n",
      "Android 12.0\n"
     ]
    }
   ],
   "source": [
    "#Replace\n",
    "str1 = \"Hello\"\n",
    "str2 = \"World\"\n",
    "str3 = \"Python3\"\n",
    "str4 = \"Technology\"\n",
    "str5 = \"Android 11.01\"\n",
    "# Replace \"l\" with \"L\" in str1\n",
    "str1_replaced = str1.replace(\"l\", \"L\")\n",
    "print(str1_replaced)  \n",
    "str2_replaced = str2.replace(\"o\", \"O\")\n",
    "print(str2_replaced) \n",
    "str3_replaced = str3.replace(\"3\", \"3.9\")\n",
    "print(str3_replaced)  \n",
    "str4_replaced = str4.replace(\"Techno\", \"Bio\")\n",
    "print(str4_replaced)  \n",
    "str5_replaced = str5.replace(\"11.01\", \"12.0\")\n",
    "print(str5_replaced)"
   ]
  },
  {
   "cell_type": "code",
   "execution_count": 79,
   "id": "5d6ddc36-30fc-4d0f-9310-dab2befec553",
   "metadata": {},
   "outputs": [
    {
     "name": "stdout",
     "output_type": "stream",
     "text": [
      "['try', 'and', 'try', 'until', 'you', 'get', 'succed', '!']\n"
     ]
    }
   ],
   "source": [
    "#Split\n",
    "string = \"try and try until you get succed !\" #Splits the words of a sentence separated with spaces\n",
    "print(string.split())"
   ]
  },
  {
   "cell_type": "code",
   "execution_count": 81,
   "id": "c3a30945-faff-465b-8acc-641661b8cf37",
   "metadata": {},
   "outputs": [
    {
     "name": "stdout",
     "output_type": "stream",
     "text": [
      "Words of Wisdom spoken by a kid !\n"
     ]
    }
   ],
   "source": [
    "#join \n",
    "\n",
    "string = ['Words', 'of', 'Wisdom', 'spoken', 'by', 'a', 'kid', '!']\n",
    "print(' '.join(string))"
   ]
  },
  {
   "cell_type": "code",
   "execution_count": 83,
   "id": "f303647d-0ab2-4680-87b1-4d63a6d4bcd2",
   "metadata": {},
   "outputs": [
    {
     "name": "stdout",
     "output_type": "stream",
     "text": [
      "python\n"
     ]
    }
   ],
   "source": [
    "#casefold()\n",
    "\n",
    "text = \"pYtHon\"\n",
    "\n",
    "# convert all characters to lowercase\n",
    "lowercased_string = text.casefold()\n",
    "\n",
    "print(lowercased_string)"
   ]
  },
  {
   "cell_type": "code",
   "execution_count": 85,
   "id": "d75e7981-2e5f-4b70-943f-3ec341a2848a",
   "metadata": {},
   "outputs": [
    {
     "name": "stdout",
     "output_type": "stream",
     "text": [
      "4\n"
     ]
    }
   ],
   "source": [
    "#count()\n",
    "\n",
    "message = 'python is popular programming language'\n",
    "\n",
    "# number of occurrence of 'p'\n",
    "print(message.count('p'))\n"
   ]
  },
  {
   "cell_type": "code",
   "execution_count": 3,
   "id": "d7fe5a10-e8c8-41b5-9fcd-4914ffc49939",
   "metadata": {},
   "outputs": [
    {
     "name": "stdout",
     "output_type": "stream",
     "text": [
      "My is vasundhar\n",
      "Data science\n"
     ]
    }
   ],
   "source": [
    "#capitalize()\n",
    "\n",
    "str1=\"my is VASUNDHAR\"\n",
    "capitalize_str=str1.capitalize()\n",
    "print(capitalize_str)\n",
    "\n",
    "str2=\"data science\"\n",
    "capitalize_str=str2.capitalize()\n",
    "print(capitalize_str)"
   ]
  },
  {
   "cell_type": "code",
   "execution_count": 9,
   "id": "3aa57e23-92c2-490c-a2a4-282ba0d80c3b",
   "metadata": {},
   "outputs": [
    {
     "name": "stdout",
     "output_type": "stream",
     "text": [
      "b'python programming!'\n"
     ]
    }
   ],
   "source": [
    "#encode()\n",
    "\n",
    "str1='python programming!'\n",
    "encode_utf=str1.encode()\n",
    "print(encode_utf)"
   ]
  },
  {
   "cell_type": "code",
   "execution_count": 17,
   "id": "bcf72540-b2a3-4bf8-9883-eb2e8ce1bd45",
   "metadata": {},
   "outputs": [
    {
     "name": "stdout",
     "output_type": "stream",
     "text": [
      "True\n",
      "True\n",
      "False\n"
     ]
    }
   ],
   "source": [
    "#endswith()\n",
    "\n",
    "str1=\"vasundhar is funny\"\n",
    "substr=str1.endswith(\"funny\")\n",
    "print(substr)\n",
    "\n",
    "str2=\"python is fun\"\n",
    "substr=str2.endswith(\"fun\")\n",
    "print(substr)\n",
    "\n",
    "str2=\"python is fun\"\n",
    "substr=str2.endswith(\"good\")\n",
    "print(substr)"
   ]
  },
  {
   "cell_type": "code",
   "execution_count": 19,
   "id": "0899acd8-35a2-4284-85cb-5e1ac0e899a3",
   "metadata": {},
   "outputs": [
    {
     "name": "stdout",
     "output_type": "stream",
     "text": [
      "Original String: vasu\tgreat\tgreatest\n",
      "Tabsize 2: vasu  great greatest\n",
      "Tabsize 3: vasu  great greatest\n",
      "Tabsize 4: vasu    great   greatest\n",
      "Tabsize 5: vasu great     greatest\n",
      "Tabsize 6: vasu  great greatest\n"
     ]
    }
   ],
   "source": [
    "#expandtabs()\n",
    "\n",
    "str = \"vasu\\tgreat\\tgreatest\"\n",
    "print('Original String:', str)\n",
    "\n",
    "# tabsize is set to 2\n",
    "print('Tabsize 2:', str.expandtabs(2))\n",
    "\n",
    "# tabsize is set to 3\n",
    "print('Tabsize 3:', str.expandtabs(3))\n",
    "\n",
    "# tabsize is set to 4\n",
    "print('Tabsize 4:', str.expandtabs(4))\n",
    "\n",
    "# tabsize is set to 5\n",
    "print('Tabsize 5:', str.expandtabs(5))\n",
    "\n",
    "# tabsize is set to 6\n",
    "print('Tabsize 6:', str.expandtabs(6))"
   ]
  },
  {
   "cell_type": "code",
   "execution_count": 27,
   "id": "b0ccfb9e-c935-415c-a967-94267aaf636a",
   "metadata": {},
   "outputs": [
    {
     "name": "stdout",
     "output_type": "stream",
     "text": [
      "(True, True)\n",
      "False\n",
      "False\n"
     ]
    }
   ],
   "source": [
    "#isalnum()\n",
    "\n",
    "# contains either numeric or alphabet\n",
    "str1 = \"M234onica\"\n",
    "str4=\"P4563unam\"\n",
    "substr=str1.isalnum(),str4.isalnum()\n",
    "print(substr) \n",
    "\n",
    "# contains whitespace\n",
    "str2 = \"M3onica Gell22er\"\n",
    "substr=str2.isalnum()\n",
    "print(substr) \n",
    "\n",
    "# contains non-alphanumeric character \n",
    "str3 = \"@Monica!\"\n",
    "substr=str3.isalnum()\n",
    "print(substr) "
   ]
  },
  {
   "cell_type": "code",
   "execution_count": 31,
   "id": "939f91bd-0bce-4375-9cde-0c680344fde1",
   "metadata": {},
   "outputs": [
    {
     "name": "stdout",
     "output_type": "stream",
     "text": [
      "True\n",
      "False\n",
      "False\n"
     ]
    }
   ],
   "source": [
    "#isalpha()\n",
    "\n",
    "name = \"Monica\"\n",
    "substr=name.isalpha()\n",
    "print(substr)\n",
    "\n",
    "# contains whitespace\n",
    "name = \"Monica Geller\"\n",
    "substr=name.isalpha()\n",
    "print(substr)\n",
    "\n",
    "# contains number\n",
    "name = \"Mo3nicaGell22er\"\n",
    "substr=name.isalpha()\n",
    "print(substr)"
   ]
  },
  {
   "cell_type": "code",
   "execution_count": 33,
   "id": "d783369e-7ce2-442b-bba2-e033c12fd114",
   "metadata": {},
   "outputs": [
    {
     "name": "stdout",
     "output_type": "stream",
     "text": [
      "True\n",
      "False\n"
     ]
    }
   ],
   "source": [
    "#isdigits()\n",
    "\n",
    "s = \"28212\"\n",
    "substr=s.isdigit()\n",
    "print(substr)\n",
    "\n",
    "# contains alphabets and spaces\n",
    "s = \"Mo3 nicaG el l22er\"\n",
    "substr=s.isdigit()\n",
    "print(substr)"
   ]
  },
  {
   "cell_type": "code",
   "execution_count": 37,
   "id": "ebe47f37-434c-4178-8e48-7e66d02e83ab",
   "metadata": {},
   "outputs": [
    {
     "name": "stdout",
     "output_type": "stream",
     "text": [
      "True\n",
      "False\n",
      "True\n",
      "True\n"
     ]
    }
   ],
   "source": [
    "#isnumeric()\n",
    "\n",
    "s = \"28212\"\n",
    "print(s.isdigit())\n",
    "\n",
    "# contains alphabets and spaces\n",
    "s = \"Mo3 nicaG el l22er\"\n",
    "print(s.isdigit())\n",
    "\n",
    "string = '²3455'\n",
    "print(string.isnumeric())\n",
    "\n",
    "# string with fraction value \n",
    "fraction_string = '½123'\n",
    "print(fraction_string.isnumeric())"
   ]
  },
  {
   "cell_type": "code",
   "execution_count": null,
   "id": "260476c0-15e6-4674-9984-a58858521050",
   "metadata": {},
   "outputs": [],
   "source": [
    "\n",
    "\n",
    "text = \"Python is easy to learn.\"\n",
    "\n",
    "result = text.startswith('is easy')\n",
    "# returns False\n",
    "print(result)\n",
    "\n",
    "result = text.startswith('Python is ')\n",
    "# returns True\n",
    "print(result)\n",
    "\n",
    "result = text.startswith('Python is easy to learn.')\n",
    "# returns True\n",
    "print(result)"
   ]
  }
 ],
 "metadata": {
  "kernelspec": {
   "display_name": "Python 3 (ipykernel)",
   "language": "python",
   "name": "python3"
  },
  "language_info": {
   "codemirror_mode": {
    "name": "ipython",
    "version": 3
   },
   "file_extension": ".py",
   "mimetype": "text/x-python",
   "name": "python",
   "nbconvert_exporter": "python",
   "pygments_lexer": "ipython3",
   "version": "3.12.4"
  }
 },
 "nbformat": 4,
 "nbformat_minor": 5
}
