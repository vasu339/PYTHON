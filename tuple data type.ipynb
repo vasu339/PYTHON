{
 "cells": [
  {
   "cell_type": "markdown",
   "id": "daf9d6cb-5f3a-42d5-834d-2669b4d26dba",
   "metadata": {},
   "source": [
    "# tuple data type"
   ]
  },
  {
   "cell_type": "code",
   "execution_count": 8,
   "id": "0a564591-f93e-4a8d-a539-7db8852de080",
   "metadata": {},
   "outputs": [
    {
     "name": "stdout",
     "output_type": "stream",
     "text": [
      "()\n"
     ]
    }
   ],
   "source": [
    "#creating empty tuple\n",
    "\n",
    "empty_tuple=()\n",
    "print(empty_tuple)\n"
   ]
  },
  {
   "cell_type": "code",
   "execution_count": 10,
   "id": "1e0e9f5b-0c76-4324-80b2-a385aa533fdf",
   "metadata": {},
   "outputs": [
    {
     "name": "stdout",
     "output_type": "stream",
     "text": [
      "<class 'tuple'>\n"
     ]
    }
   ],
   "source": [
    "#identify data type\n",
    "\n",
    "t=(\"apple\",\"banana\",\"mango\")\n",
    "print(type(t))"
   ]
  },
  {
   "cell_type": "code",
   "execution_count": 26,
   "id": "948fd2b0-2f28-4e25-9256-598fc6dcd930",
   "metadata": {},
   "outputs": [
    {
     "name": "stdout",
     "output_type": "stream",
     "text": [
      "cycle\n",
      "bike\n",
      "('bus', 'van')\n",
      "45\n",
      "89\n",
      "(8, 3, 89)\n"
     ]
    }
   ],
   "source": [
    "#access the tuple\n",
    "\n",
    "tuple=(\"car\",\"bus\",\"van\",\"cycle\",\"bike\")\n",
    "print(tuple[3])   #+\n",
    "print(tuple[-1])  #-\n",
    "print(tuple[1:3])\n",
    "\n",
    "tuple=(0,7,8,3,89,67,45,12,3,)\n",
    "print(tuple[6])\n",
    "print(tuple[-5])\n",
    "print(tuple[2:5])"
   ]
  },
  {
   "cell_type": "code",
   "execution_count": 28,
   "id": "d0ecdc9a-48c2-4f65-8069-ffa6f9574ca2",
   "metadata": {},
   "outputs": [
    {
     "ename": "TypeError",
     "evalue": "'tuple' object does not support item assignment",
     "output_type": "error",
     "traceback": [
      "\u001b[1;31m---------------------------------------------------------------------------\u001b[0m",
      "\u001b[1;31mTypeError\u001b[0m                                 Traceback (most recent call last)",
      "Cell \u001b[1;32mIn[28], line 4\u001b[0m\n\u001b[0;32m      1\u001b[0m \u001b[38;5;66;03m#immutable tuple\u001b[39;00m\n\u001b[0;32m      3\u001b[0m tu\u001b[38;5;241m=\u001b[39m(\u001b[38;5;124m\"\u001b[39m\u001b[38;5;124mvasu\u001b[39m\u001b[38;5;124m\"\u001b[39m,\u001b[38;5;124m\"\u001b[39m\u001b[38;5;124mvenu\u001b[39m\u001b[38;5;124m\"\u001b[39m,\u001b[38;5;124m\"\u001b[39m\u001b[38;5;124mramu\u001b[39m\u001b[38;5;124m\"\u001b[39m,\u001b[38;5;124m\"\u001b[39m\u001b[38;5;124mravi\u001b[39m\u001b[38;5;124m\"\u001b[39m)\n\u001b[1;32m----> 4\u001b[0m tu[\u001b[38;5;241m1\u001b[39m]\u001b[38;5;241m=\u001b[39m\u001b[38;5;124m\"\u001b[39m\u001b[38;5;124mvamu\u001b[39m\u001b[38;5;124m\"\u001b[39m\n\u001b[0;32m      5\u001b[0m \u001b[38;5;28mprint\u001b[39m(tu)\n",
      "\u001b[1;31mTypeError\u001b[0m: 'tuple' object does not support item assignment"
     ]
    }
   ],
   "source": [
    "#immutable tuple\n",
    "\n",
    "tu=(\"vasu\",\"venu\",\"ramu\",\"ravi\")\n",
    "tu[1]=\"vamu\"\n",
    "print(tu)"
   ]
  },
  {
   "cell_type": "code",
   "execution_count": 42,
   "id": "495bf8e6-92ea-44fb-b6ff-f8d601a5760e",
   "metadata": {},
   "outputs": [
    {
     "name": "stdout",
     "output_type": "stream",
     "text": [
      "(1, 5, 7, 3, 9, 2, 'vasu', 'venu', 'ramu', 'ranu')\n",
      "('kalki', 'bockbuster', 'and', 'housefull')\n",
      "('google', 'microsoft', 'genpact', 'zenser', 'wipro')\n"
     ]
    }
   ],
   "source": [
    "#tuple operaters\n",
    "#concatenation\n",
    "\n",
    "tuple1=(1,5,7,3,9,2,)\n",
    "tuple2=(\"vasu\",\"venu\",\"ramu\",\"ranu\")\n",
    "subtuple1=tuple1 + tuple2\n",
    "print(subtuple1)\n",
    "tuple3=(\"kalki\",\"bockbuster\")\n",
    "tuple4=(\"and\",\"housefull\")\n",
    "tuple5=(\"google\",\"microsoft\",\"genpact\")\n",
    "tuple6=(\"zenser\",\"wipro\",)\n",
    "subtuple2=tuple3+tuple4\n",
    "subtuple3=tuple5+tuple6\n",
    "print(subtuple2)\n",
    "print(subtuple3)"
   ]
  },
  {
   "cell_type": "code",
   "execution_count": 52,
   "id": "7b46565f-ab9c-4fb0-89c4-4aa27d55862b",
   "metadata": {},
   "outputs": [
    {
     "name": "stdout",
     "output_type": "stream",
     "text": [
      "('kalki', 'bockbuster', 'and', 'housefull', 'kalki', 'bockbuster', 'and', 'housefull', 'kalki', 'bockbuster', 'and', 'housefull', 'kalki', 'bockbuster', 'and', 'housefull', 'kalki', 'bockbuster', 'and', 'housefull', 'kalki', 'bockbuster', 'and', 'housefull', 'kalki', 'bockbuster', 'and', 'housefull')\n",
      "(1, 4, 6, 9, 2, 5, 1, 4, 6, 9, 2, 5, 1, 4, 6, 9, 2, 5, 1, 4, 6, 9, 2, 5, 1, 4, 6, 9, 2, 5, 1, 4, 6, 9, 2, 5, 1, 4, 6, 9, 2, 5)\n"
     ]
    }
   ],
   "source": [
    "#repetations\n",
    "\n",
    "tuple1=(\"kalki\",\"bockbuster\",\"and\",\"housefull\")\n",
    "subtuple=tuple1 * 7 \n",
    "print(subtuple)\n",
    "tuple=(1,4,6,9,2,5)\n",
    "subtuple=tuple * 7\n",
    "print(subtuple)"
   ]
  },
  {
   "cell_type": "code",
   "execution_count": 62,
   "id": "3c602ff1-1c03-4940-b5f1-183d9d6d93c0",
   "metadata": {},
   "outputs": [
    {
     "name": "stdout",
     "output_type": "stream",
     "text": [
      "2\n",
      "3\n",
      "3\n",
      "2\n",
      "2\n",
      "1\n"
     ]
    }
   ],
   "source": [
    "#tuple methods()\n",
    "#count()\n",
    "\n",
    "number=(2,4,5,6,12,4,7,8,5,4,3,2,)\n",
    "tuple=(\"vasu\",\"venu\",\"nani\",\"vasu\",\"nani\",\"vasu\")\n",
    "vowels = ('a', 'e', 'i', 'o', 'i', 'u')\n",
    "# tuple containing list and tuples\n",
    "random = ('a', ('a', 'b'), ('a', 'b'), [3, 4])\n",
    "count1=number.count(2)\n",
    "count2=tuple.count(\"vasu\")\n",
    "count3=vowels.count('i')\n",
    "count4=random.count(('a','b'))\n",
    "count5 = random.count([3, 4])\n",
    "print(count1)\n",
    "print(count2)\n",
    "print(count2)\n",
    "print(count3)\n",
    "print(count4)\n",
    "print(count5)"
   ]
  },
  {
   "cell_type": "code",
   "execution_count": 64,
   "id": "96fcf7fb-2169-407f-89ce-e496e99c853b",
   "metadata": {},
   "outputs": [
    {
     "name": "stdout",
     "output_type": "stream",
     "text": [
      "0\n"
     ]
    }
   ],
   "source": [
    "#indexing\n",
    "\n",
    "number=(1,3,5,7,1,4,6,)\n",
    "vowels = ('a', 'e', 'i', 'o', 'u')\n",
    "index=number.index(1)\n",
    "subindex=vowels.index\n",
    "print(index)"
   ]
  },
  {
   "cell_type": "code",
   "execution_count": null,
   "id": "c7e56e7e-cace-40e0-b5b5-de69cc84cc77",
   "metadata": {},
   "outputs": [],
   "source": []
  }
 ],
 "metadata": {
  "kernelspec": {
   "display_name": "Python 3 (ipykernel)",
   "language": "python",
   "name": "python3"
  },
  "language_info": {
   "codemirror_mode": {
    "name": "ipython",
    "version": 3
   },
   "file_extension": ".py",
   "mimetype": "text/x-python",
   "name": "python",
   "nbconvert_exporter": "python",
   "pygments_lexer": "ipython3",
   "version": "3.12.4"
  }
 },
 "nbformat": 4,
 "nbformat_minor": 5
}
