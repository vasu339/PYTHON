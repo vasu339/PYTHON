{
 "cells": [
  {
   "cell_type": "markdown",
   "id": "1762b05f-b00b-4d8c-8c7d-984cafa83305",
   "metadata": {},
   "source": [
    "# set data type"
   ]
  },
  {
   "cell_type": "code",
   "execution_count": 2,
   "id": "4988a81a-ba9f-4f40-81b3-f8bd3bb04206",
   "metadata": {},
   "outputs": [
    {
     "name": "stdout",
     "output_type": "stream",
     "text": [
      "()\n"
     ]
    }
   ],
   "source": [
    "#creating empty set\n",
    "\n",
    "the_set=()\n",
    "print(the_set)\n"
   ]
  },
  {
   "cell_type": "code",
   "execution_count": 18,
   "id": "04ad26cd-3a9b-4979-9553-bf55193d53ec",
   "metadata": {},
   "outputs": [
    {
     "name": "stdout",
     "output_type": "stream",
     "text": [
      "{'kong', 'lion', 'cheeta', 'tiger'}\n",
      "{0, 3, 4, 6, 7, 9}\n",
      "{10.2, -60, 20, 'vasu'}\n",
      "{'c', 'java', 'python', 'c++'}\n",
      "<class 'set'>\n",
      "<class 'set'>\n",
      "<class 'set'>\n",
      "<class 'set'>\n"
     ]
    }
   ],
   "source": [
    "#creating set\n",
    "\n",
    "animals={\"tiger\",\"lion\",\"cheeta\",\"kong\"}\n",
    "print(animals)\n",
    "my_set={3,6,9,4,0,7}\n",
    "print(my_set)\n",
    "mixed_set={20,\"vasu\",10.2,-60}\n",
    "print(mixed_set)\n",
    "lang={\"python\",\"c\",\"c++\",\"java\"}\n",
    "print(lang)\n",
    "\n",
    "print(type(animals))\n",
    "print(type(my_set))\n",
    "print(type(mixed_set))\n",
    "print(type(lang))\n",
    "\n"
   ]
  },
  {
   "cell_type": "code",
   "execution_count": 20,
   "id": "4ab3bf4f-99f7-4b8a-a5a3-90950cc5f73c",
   "metadata": {},
   "outputs": [
    {
     "name": "stdout",
     "output_type": "stream",
     "text": [
      "{1, 2, 3, 4, 6, 7, 8}\n",
      "{'ramu', 'venu', 'vasu'}\n"
     ]
    }
   ],
   "source": [
    "#duplicate set\n",
    "\n",
    "numbers={1,2,3,4,1,2,3,4,6,7,8,6,7,8}\n",
    "print(numbers)\n",
    "\n",
    "my_set={\"vasu\",\"venu\",\"vasu\",\"ramu\",\"ramu\"}\n",
    "print(my_set)"
   ]
  },
  {
   "cell_type": "code",
   "execution_count": 38,
   "id": "5759789a-2878-477b-adaf-ea453ba48584",
   "metadata": {},
   "outputs": [
    {
     "name": "stdout",
     "output_type": "stream",
     "text": [
      "{1, 3, 4, 6, 56, 90, 60}\n",
      "{'ramu', 'vasu'}\n",
      "added set : {1, 3, 4, 6, 56, 90, 60, 111}\n",
      "added set : {'ramu', 'venu', 'vasu'}\n"
     ]
    }
   ],
   "source": [
    "#Add\n",
    "\n",
    "numbers={60,56,1,3,4,6,90,}\n",
    "my_set={\"vasu\",\"ramu\"}\n",
    "print(numbers)\n",
    "print(my_set)\n",
    "\n",
    "#use add() method\n",
    "numbers.add(111)\n",
    "my_set.add(\"venu\")\n",
    "print('added set :', numbers)\n",
    "print(\"added set :\", my_set)\n"
   ]
  },
  {
   "cell_type": "code",
   "execution_count": 42,
   "id": "45eaf221-a411-4970-a15e-60759c656bce",
   "metadata": {},
   "outputs": [
    {
     "name": "stdout",
     "output_type": "stream",
     "text": [
      "{'banana', -30, 3.14, 42, 'hello', 'orange', 'apple'}\n",
      "{'b', 'a', 1, 2, 3}\n"
     ]
    }
   ],
   "source": [
    "#update()\n",
    "\n",
    "fruits = {'apple','banana','orange'}\n",
    "mixed = {42, \"hello\", 3.14, -30}\n",
    "fruits.update(mixed)\n",
    "print(fruits)\n",
    "\n",
    "A = {'a', 'b'}\n",
    "B = {1, 2, 3}\n",
    "A.update(B)\n",
    "print(A)"
   ]
  },
  {
   "cell_type": "code",
   "execution_count": 54,
   "id": "099c368f-cb2f-4fb6-8cc7-4142d1c5d70e",
   "metadata": {},
   "outputs": [
    {
     "name": "stdout",
     "output_type": "stream",
     "text": [
      "{'banana', 'apple'}\n",
      "{'Java', 'Python'}\n",
      "{1.1, 2.2, 3.3, 4.4}\n"
     ]
    }
   ],
   "source": [
    "#remove()\n",
    "\n",
    "strings = {\"apple\", \"banana\", \"cherry\"}\n",
    "strings.remove('cherry')\n",
    "print(strings)\n",
    "\n",
    "languages = {'Python', 'Java', 'English'}\n",
    "languages.remove('English')\n",
    "print(languages)\n",
    "\n",
    "#using discard()\n",
    "my_float = {1.1, 2.2, 3.3, 4.4, 5.5}\n",
    "my_float.discard(5.5)\n",
    "print(my_float)"
   ]
  },
  {
   "cell_type": "code",
   "execution_count": 56,
   "id": "7bcce598-ff76-4a6a-aae0-bdf6a7672611",
   "metadata": {},
   "outputs": [
    {
     "ename": "KeyError",
     "evalue": "'fish'",
     "output_type": "error",
     "traceback": [
      "\u001b[1;31m---------------------------------------------------------------------------\u001b[0m",
      "\u001b[1;31mKeyError\u001b[0m                                  Traceback (most recent call last)",
      "Cell \u001b[1;32mIn[56], line 4\u001b[0m\n\u001b[0;32m      1\u001b[0m animal \u001b[38;5;241m=\u001b[39m {\u001b[38;5;124m'\u001b[39m\u001b[38;5;124mcat\u001b[39m\u001b[38;5;124m'\u001b[39m, \u001b[38;5;124m'\u001b[39m\u001b[38;5;124mdog\u001b[39m\u001b[38;5;124m'\u001b[39m, \u001b[38;5;124m'\u001b[39m\u001b[38;5;124mrabbit\u001b[39m\u001b[38;5;124m'\u001b[39m, \u001b[38;5;124m'\u001b[39m\u001b[38;5;124mguinea pig\u001b[39m\u001b[38;5;124m'\u001b[39m}\n\u001b[0;32m      3\u001b[0m \u001b[38;5;66;03m# Deleting 'fish' element\u001b[39;00m\n\u001b[1;32m----> 4\u001b[0m animal\u001b[38;5;241m.\u001b[39mremove(\u001b[38;5;124m'\u001b[39m\u001b[38;5;124mfish\u001b[39m\u001b[38;5;124m'\u001b[39m)\n\u001b[0;32m      6\u001b[0m \u001b[38;5;66;03m# Updated animal\u001b[39;00m\n\u001b[0;32m      7\u001b[0m \u001b[38;5;28mprint\u001b[39m(\u001b[38;5;124m'\u001b[39m\u001b[38;5;124mUpdated animal set:\u001b[39m\u001b[38;5;124m'\u001b[39m, animal)\n",
      "\u001b[1;31mKeyError\u001b[0m: 'fish'"
     ]
    }
   ],
   "source": [
    "animal = {'cat', 'dog', 'rabbit', 'guinea pig'}\n",
    "\n",
    "# Deleting 'fish' element\n",
    "animal.remove('fish')\n",
    "\n",
    "# Updated animal\n",
    "print('Updated animal set:', animal)"
   ]
  },
  {
   "cell_type": "code",
   "execution_count": 52,
   "id": "3772bccf-9051-4a5c-a2af-f92eabc6f189",
   "metadata": {},
   "outputs": [
    {
     "name": "stdout",
     "output_type": "stream",
     "text": [
      "Set before discard: {2, 3, 4, 5}\n",
      "Set after discard: {2, 3, 4, 5}\n"
     ]
    }
   ],
   "source": [
    "numbers = {2, 3, 5, 4}\n",
    "print('Set before discard:', numbers)\n",
    "\n",
    "# discard the item that doesn't exist in set\n",
    "numbers.discard(10)\n",
    "print('Set after discard:', numbers)"
   ]
  },
  {
   "cell_type": "code",
   "execution_count": 70,
   "id": "71ef61c3-d6a4-4446-abfe-7f7cbe0a14bb",
   "metadata": {},
   "outputs": [
    {
     "name": "stdout",
     "output_type": "stream",
     "text": [
      "A U B =  {1, 2, 3, 5}\n",
      "A U B = |: {1, 2, 3, 5}\n",
      "c U D = |: {'banana', 'cat', 'dog', 'cherry', 'apple', 'mouse'}\n",
      "C U D U E =|: {'java', 'mouse', 'banana', 'python', 'cat', 'dog', 'cherry', 'c', 'apple', 'c++'}\n",
      "union of C,D and E using of unoin function() : {'java', 'mouse', 'banana', 'python', 'cat', 'dog', 'cherry', 'c', 'apple', 'c++'}\n",
      "A U B = {'a', 2, 'd', 'c'}\n",
      "B U C = {1, 2, 3, 'd', 'c'}\n",
      "A U B U C = {'a', 2, 1, 3, 'd', 'c'}\n",
      "A.union() = {'a', 'd', 'c'}\n"
     ]
    }
   ],
   "source": [
    "#sets operations\n",
    "#union()\n",
    "\n",
    "A = {2, 3, 5}\n",
    "B = {1, 3, 5}\n",
    "print('A U B = ', A.union(B))\n",
    "print('A U B = |:',A|B)\n",
    "\n",
    "C = {\"apple\", \"banana\", \"cherry\"}\n",
    "D = {\"dog\", \"cat\", \"mouse\"}\n",
    "E = {\"python\",\"c\",\"c++\",\"java\"}\n",
    "print(\"c U D = |:\", C|D)\n",
    "print(\"C U D U E =|:\", C|D|E)\n",
    "print(\"union of C,D and E using of unoin function() :\", C.union(D,E))\n",
    "\n",
    "A = {'a', 'c', 'd'}\n",
    "B = {'c', 'd', 2 }\n",
    "C = {1, 2, 3}\n",
    "\n",
    "print('A U B =', A.union(B))\n",
    "print('B U C =', B.union(C))\n",
    "print('A U B U C =', A.union(B, C))\n",
    "\n",
    "print('A.union() =', A.union())\n",
    "\n",
    "\n",
    "    "
   ]
  },
  {
   "cell_type": "code",
   "execution_count": 72,
   "id": "d95790b8-8924-49db-aed9-b9316f0844c1",
   "metadata": {},
   "outputs": [
    {
     "name": "stdout",
     "output_type": "stream",
     "text": [
      "Intersection of A and B using &: {'banana', 'apple', 'mouse'}\n",
      "Intersection of A and B using intersection() function: {'banana', 'apple', 'mouse'}\n",
      "Intersection of A,B and C using &: set()\n",
      "Intersection of A,B and C using intersection(para1,para2) function: set()\n",
      "Intersection of C,D and E using chained intersection: set()\n",
      "Intersection of C,D and E using &: set()\n",
      "Intersection of E and F using &: set()\n",
      "Intersection of E and F using intersection function: set()\n"
     ]
    }
   ],
   "source": [
    "#intersection\n",
    "\n",
    "A = {\"apple\", \"banana\", \"cherry\",\"mouse\",1.1,2.2,4.4}\n",
    "B = {\"dog\", \"cat\", \"mouse\",\"banana\",\"apple\"}\n",
    "C = {1, 2, 3, 4, 5}\n",
    "D = {0.1, 0.2, 0.3, 0.4, 0.5,5.5,4.4,4}\n",
    "E = {100, 200, 300, 700, 2, 3, 7}\n",
    "F = {\"python\",\"c\",\"c++\",\"java\"}\n",
    "\n",
    "print('Intersection of A and B using &:',A & B)\n",
    "print('Intersection of A and B using intersection() function:', A.intersection(B))\n",
    "#Intersection of A,B and C\n",
    "print('Intersection of A,B and C using &:', A&B&C)\n",
    "print('Intersection of A,B and C using intersection(para1,para2) function:',A.intersection(B,C))\n",
    "#Intersection of C,D and E\n",
    "print('Intersection of C,D and E using chained intersection:', C.intersection(D).intersection(E))\n",
    "print(\"Intersection of C,D and E using &:\",C&D&E)\n",
    "#Intersection of E and F\n",
    "print('Intersection of E and F using &:', E&F)\n",
    "print('Intersection of E and F using intersection function:', E.intersection(F))\n",
    "\n"
   ]
  },
  {
   "cell_type": "code",
   "execution_count": 74,
   "id": "195e9ac5-f243-4e26-a212-e211c68dcf1f",
   "metadata": {},
   "outputs": [
    {
     "name": "stdout",
     "output_type": "stream",
     "text": [
      "Difference of A and B using -: {2}\n",
      "Difference of A and B using difference() function: {2}\n",
      "Difference of A,B and C using -: {2}\n",
      "Difference of A,B and C using difference(para1,para2) function: {2}\n",
      "Difference of C,D and E using chained difference: {'banana', 'cherry', 'apple'}\n",
      "Difference of C,D and E using -: {'banana', 'cherry', 'apple'}\n",
      "Difference of E and F using -: {'python', 'java', 'c++'}\n",
      "Difference of E and F using difference function: {'python', 'java', 'c++'}\n"
     ]
    }
   ],
   "source": [
    "#difference \n",
    "\n",
    "A = {2, 3, 5}\n",
    "B = {1, 3, 5}\n",
    "C = {\"apple\", \"banana\", \"cherry\"}\n",
    "D = {\"dog\", \"cat\", \"mouse\"}\n",
    "E = {\"python\",\"c\",\"c++\",\"java\"}\n",
    "F = {'a', 'c', 'd'}\n",
    "\n",
    "print('Difference of A and B using -:',A - B)\n",
    "print('Difference of A and B using difference() function:', A.difference(B))\n",
    "#Difference of A,B and C\n",
    "print('Difference of A,B and C using -:', A-B-C)\n",
    "print('Difference of A,B and C using difference(para1,para2) function:',A.difference(B,C))\n",
    "#Difference of C,D and E\n",
    "print('Difference of C,D and E using chained difference:', C.difference(D).difference(E))\n",
    "print(\"Difference of C,D and E using -:\",C-D-E)\n",
    "#Difference of E and F\n",
    "print('Difference of E and F using -:', E-F)\n",
    "print('Difference of E and F using difference function:', E.difference(F))"
   ]
  },
  {
   "cell_type": "code",
   "execution_count": 76,
   "id": "1ee54ade-69f7-41d5-9b7e-9ea9815cdda4",
   "metadata": {},
   "outputs": [
    {
     "name": "stdout",
     "output_type": "stream",
     "text": [
      "using^: {-8, -6, -5, -3}\n",
      "using^: {'alto', 'volvo', 'swift', 'BNW', 'breeza'}\n",
      "using^: {3.2, 4.5, 3.7, 4.8, 7.6}\n",
      "using of symmetric_difference : {-8, -6, -5, -3}\n",
      "using of symmetric_difference: {'alto', 'volvo', 'swift', 'BNW', 'breeza'}\n",
      "using of symmetric_difference: {3.2, 4.5, 3.7, 4.8, 7.6}\n"
     ]
    }
   ],
   "source": [
    "#symmertic difference()\n",
    "\n",
    "A={-1,-2,-3,-4,-5}\n",
    "B={-2,-4,-1,-6,-8}\n",
    "C={\"swift\",\"audi\",\"BNW\",\"volvo\",\"xuv\"}\n",
    "D={\"audi\",\"xuv\",\"alto\",\"breeza\"}\n",
    "E={0.1,2.3,7.6,4.8,9.2,3.7}\n",
    "F={2.3,4.5,0.1,3.2,9.2}\n",
    "\n",
    "print('using^:',A^B)\n",
    "print('using^:',C^D)\n",
    "print('using^:',E^F)\n",
    "print('using of symmetric_difference :',A.symmetric_difference(B))\n",
    "print('using of symmetric_difference:',C.symmetric_difference(D))\n",
    "print('using of symmetric_difference:',E.symmetric_difference(F))"
   ]
  },
  {
   "cell_type": "code",
   "execution_count": 78,
   "id": "a8b762d7-f6fb-4f35-a491-b914f2cef98f",
   "metadata": {},
   "outputs": [
    {
     "name": "stdout",
     "output_type": "stream",
     "text": [
      "A =  {1, 9}\n"
     ]
    }
   ],
   "source": [
    "#difference_update()\n",
    "\n",
    "# sets of numbers\n",
    "A = {1, 3, 5, 7, 9}\n",
    "B = {2, 3, 5, 7, 11}\n",
    "\n",
    "#  A - B and updates A with the resulting set\n",
    "A.difference_update(B)\n",
    "\n",
    "print('A = ', A)"
   ]
  },
  {
   "cell_type": "code",
   "execution_count": 82,
   "id": "a3d41bc7-f676-41c1-beb3-93af6f66a06e",
   "metadata": {},
   "outputs": [
    {
     "name": "stdout",
     "output_type": "stream",
     "text": [
      "b\n",
      "Pop() removes: Hundred\n",
      "Updated set A: {'100', '10', 'Ten'}\n"
     ]
    }
   ],
   "source": [
    "#pop()\n",
    "\n",
    "A = {'a', 'b', 'c', 'd'}\n",
    "removed_item = A.pop()\n",
    "print(removed_item)\n",
    "\n",
    "A = {'10', 'Ten', '100', 'Hundred'}\n",
    "\n",
    "# removes random item of set A\n",
    "print('Pop() removes:', A.pop())\n",
    "\n",
    "# updates A to new set without the popped item\n",
    "print('Updated set A:', A)"
   ]
  },
  {
   "cell_type": "code",
   "execution_count": 84,
   "id": "24189640-806a-42ed-a4f6-4073296f350d",
   "metadata": {},
   "outputs": [
    {
     "name": "stdout",
     "output_type": "stream",
     "text": [
      "set()\n"
     ]
    }
   ],
   "source": [
    "#clear()\n",
    "\n",
    "# set of prime numbers\n",
    "primeNumbers = {2, 3, 5, 7}\n",
    "\n",
    "# clear all elements\n",
    "primeNumbers.clear()\n",
    "print(primeNumbers)"
   ]
  },
  {
   "cell_type": "code",
   "execution_count": 88,
   "id": "c0054d4c-25ca-4a4e-917a-0de537787b3e",
   "metadata": {},
   "outputs": [
    {
     "name": "stdout",
     "output_type": "stream",
     "text": [
      "Original Names:  {'Charlie', 'Marie', 'John'}\n",
      "Copied Names:  {'Charlie', 'Marie', 'John'}\n",
      "{1, 2, 3, 4}\n"
     ]
    }
   ],
   "source": [
    "#copy()\n",
    "\n",
    "names = {\"John\", \"Charlie\", \"Marie\"}\n",
    "\n",
    "# items of names are copied to new_names\n",
    "new_names = names.copy()\n",
    "print('Original Names: ', names)\n",
    "print('Copied Names: ', new_names)\n",
    "\n",
    "numbers = {1, 2, 3, 4}\n",
    "\n",
    "# copies the items of numbers to new_numbers\n",
    "new_numbers = numbers.copy()\n",
    "print(new_numbers)\n"
   ]
  },
  {
   "cell_type": "code",
   "execution_count": 96,
   "id": "f64c1776-4f8b-4191-962f-2155183d7972",
   "metadata": {},
   "outputs": [
    {
     "name": "stdout",
     "output_type": "stream",
     "text": [
      "True\n",
      "A and B are disjoint: True\n",
      "B and C are disjoint: False\n"
     ]
    }
   ],
   "source": [
    "#isdisjoint()\n",
    "\n",
    "A = {1, 2, 3, }\n",
    "B = {4, 5, 6}\n",
    "\n",
    "# checks if set A and set B are disjoint\n",
    "print(A.isdisjoint(B))\n",
    "\n",
    "A = {1, 2, 3}\n",
    "B = {4, 5, 6}\n",
    "C = {6, 7, 8}\n",
    "\n",
    "print('A and B are disjoint:', A.isdisjoint(B))\n",
    "print('B and C are disjoint:', B.isdisjoint(C))"
   ]
  },
  {
   "cell_type": "code",
   "execution_count": null,
   "id": "3133c39c-45ac-4164-8793-8d1d5b39a494",
   "metadata": {},
   "outputs": [],
   "source": []
  }
 ],
 "metadata": {
  "kernelspec": {
   "display_name": "Python 3 (ipykernel)",
   "language": "python",
   "name": "python3"
  },
  "language_info": {
   "codemirror_mode": {
    "name": "ipython",
    "version": 3
   },
   "file_extension": ".py",
   "mimetype": "text/x-python",
   "name": "python",
   "nbconvert_exporter": "python",
   "pygments_lexer": "ipython3",
   "version": "3.12.4"
  }
 },
 "nbformat": 4,
 "nbformat_minor": 5
}
