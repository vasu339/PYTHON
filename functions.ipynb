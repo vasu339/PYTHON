{
 "cells": [
  {
   "cell_type": "code",
   "execution_count": 9,
   "id": "69d62672-8f92-4ee1-9d6f-96170983e5b8",
   "metadata": {},
   "outputs": [
    {
     "name": "stdout",
     "output_type": "stream",
     "text": [
      "madam is a palindrome\n"
     ]
    }
   ],
   "source": [
    "#palindrome\n",
    "\n",
    "def palindrome(str):\n",
    "    if str == str [::-1]:\n",
    "        print(str, \"is a palindrome\")\n",
    "\n",
    "    else:\n",
    "        print(str, \"is not a palindrome\")\n",
    "\n",
    "palindrome(\"madam\")"
   ]
  },
  {
   "cell_type": "code",
   "execution_count": 61,
   "id": "c586683c-fb6f-4fca-bd35-f97eceeb5c7b",
   "metadata": {},
   "outputs": [
    {
     "name": "stdout",
     "output_type": "stream",
     "text": [
      "Largest element is: 99\n"
     ]
    }
   ],
   "source": [
    "#largest number in list\n",
    "\n",
    "def my_Max(list1):\n",
    " \n",
    "    max = list1[0]\n",
    "\n",
    "    for x in list1:\n",
    "        if x > max:\n",
    "            max = x\n",
    " \n",
    "    return max\n",
    "\n",
    "list1 = [10, 20, 4, 45, 99]\n",
    "print(\"Largest element is:\", my_Max(list1))"
   ]
  },
  {
   "cell_type": "code",
   "execution_count": 63,
   "id": "81930e52-2d16-44b8-b295-3cd13de9b542",
   "metadata": {},
   "outputs": [
    {
     "name": "stdout",
     "output_type": "stream",
     "text": [
      "Factorial of 9 is 362880\n"
     ]
    }
   ],
   "source": [
    "# factorial of given number\n",
    " \n",
    "def factorial(num):\n",
    "      \n",
    "    res = 1\n",
    "     \n",
    "    for i in range(1, n+1):\n",
    "        res *= i\n",
    "    return res\n",
    "\n",
    "num = 9\n",
    "print(\"Factorial of\", num, \"is\",factorial(num))\n"
   ]
  },
  {
   "cell_type": "code",
   "execution_count": 29,
   "id": "e835d8ef-08bc-4520-aba2-e8eca5229037",
   "metadata": {},
   "outputs": [
    {
     "name": "stdout",
     "output_type": "stream",
     "text": [
      "Original string: vasundhar\n",
      "Reversed string: rahdnusav\n"
     ]
    }
   ],
   "source": [
    "def reverse_string(string):\n",
    "    return string[::-1]\n",
    "\n",
    "input_str = \"vasundhar\"\n",
    "reversed_str = reverse_string(input_str)\n",
    "print(\"Original string:\", input_str)\n",
    "print(\"Reversed string:\", reversed_str)\n"
   ]
  },
  {
   "cell_type": "code",
   "execution_count": 31,
   "id": "20c0ac97-5992-4b33-b2ce-569e4a4b8056",
   "metadata": {},
   "outputs": [
    {
     "name": "stdout",
     "output_type": "stream",
     "text": [
      "Original string: vasundhar\n",
      "Reversed string: rahdnusav\n"
     ]
    }
   ],
   "source": [
    "def reverse_string(string):\n",
    "    reversed_str = \"\"\n",
    "    for i in string:\n",
    "        reversed_str = i + reversed_str\n",
    "    return reversed_str\n",
    "\n",
    "# Example usage:\n",
    "input_str = \"vasundhar\"\n",
    "reversed_str = reverse_string(input_str)\n",
    "print(\"Original string:\", input_str)\n",
    "print(\"Reversed string:\", reversed_str)\n"
   ]
  },
  {
   "cell_type": "code",
   "execution_count": 7,
   "id": "b3eaec02-373e-493e-b7f1-cc0f61b8c838",
   "metadata": {},
   "outputs": [
    {
     "name": "stdout",
     "output_type": "stream",
     "text": [
      "{1: 2, 2: 2, 3: 1, 4: 3, 5: 1}\n"
     ]
    }
   ],
   "source": [
    "#program to count the frequency of each element in a list. \n",
    "\n",
    "def count_frequency(lst):\n",
    "    frequency_dict = {}\n",
    "    for i in lst:\n",
    "        if i in frequency_dict:\n",
    "            frequency_dict[i] += 1\n",
    "        else:\n",
    "            frequency_dict[i] = 1\n",
    "    return frequency_dict\n",
    "\n",
    "sample_list = [1, 2, 2, 3, 4, 4, 4, 5, 1]\n",
    "frequency = count_frequency(sample_list)\n",
    "print(frequency)\n"
   ]
  },
  {
   "cell_type": "code",
   "execution_count": 3,
   "id": "a41bfa8f-3d3f-452a-bb8e-de4f579a54d4",
   "metadata": {},
   "outputs": [
    {
     "name": "stdout",
     "output_type": "stream",
     "text": [
      "11 is a prime number\n"
     ]
    }
   ],
   "source": [
    "#Write a Python program to check if a number is prime. \n",
    "\n",
    "num = 11\n",
    "if num > 1:\n",
    "  \n",
    "    for i in range(2, (num//2)+1):\n",
    "      \n",
    "        if (num % i) == 0:\n",
    "            print(num, \"is not a prime number\")\n",
    "            break\n",
    "    else:\n",
    "        print(num, \"is a prime number\")\n",
    "else:\n",
    "    print(num, \"is not a prime number\")\n"
   ]
  },
  {
   "cell_type": "code",
   "execution_count": 17,
   "id": "15329eae-f994-48b8-9057-b22dd93f3bf2",
   "metadata": {},
   "outputs": [
    {
     "name": "stdout",
     "output_type": "stream",
     "text": [
      "Common elements: [4, 5]\n"
     ]
    }
   ],
   "source": [
    "#Write a Python program to find the common elements between two lists. \n",
    "\n",
    "def find_common_elements(list1, list2):\n",
    "    common_elements = []\n",
    "    for i in list1:\n",
    "        if i in list2:\n",
    "            common_elements.append(i)\n",
    "    return common_elements\n",
    "\n",
    "# Example usage:\n",
    "list1 = [1, 2, 3, 4, 5]\n",
    "list2 = [4, 5, 6, 7, 8]\n",
    "common_elements = find_common_elements(list1, list2)\n",
    "\n",
    "print(f\"Common elements: {common_elements}\")\n",
    "\n",
    "\n"
   ]
  },
  {
   "cell_type": "code",
   "execution_count": 9,
   "id": "f67f63d8-833c-4c07-98a0-eaccd9c44267",
   "metadata": {},
   "outputs": [
    {
     "name": "stdout",
     "output_type": "stream",
     "text": [
      "45\n"
     ]
    }
   ],
   "source": [
    "#Write a Python program to find the second largest number in a list. \n",
    "\n",
    "def findLargest(arr):\n",
    "\tsecondLargest = 0\n",
    "\tlargest = min(arr)\n",
    "\n",
    "\tfor i in range(len(arr)):\n",
    "\t\tif arr[i] > largest:\n",
    "\t\t\tsecondLargest = largest\n",
    "\t\t\tlargest = arr[i]\n",
    "\t\telse:\n",
    "\t\t\tsecondLargest = max(secondLargest, arr[i])\n",
    "\n",
    "\treturn secondLargest\n",
    "\n",
    "\n",
    "print(findLargest([10, 20, 4, 45, 99]))\n",
    "\n",
    "\n"
   ]
  },
  {
   "cell_type": "code",
   "execution_count": 5,
   "id": "66b6b8d4-96ab-4d1c-a086-259ac7ba4bfe",
   "metadata": {},
   "outputs": [
    {
     "name": "stdout",
     "output_type": "stream",
     "text": [
      "The L.C.M. is 216\n"
     ]
    }
   ],
   "source": [
    "# Python Program to find the L.C.M. of two input number\n",
    "\n",
    "def compute_lcm(x, y):\n",
    "\n",
    "   if x > y:\n",
    "       greater = x\n",
    "   else:\n",
    "       greater = y\n",
    "\n",
    "   while(True):\n",
    "       if((greater % x == 0) and (greater % y == 0)):\n",
    "           lcm = greater\n",
    "           break\n",
    "       greater += 1\n",
    "\n",
    "   return lcm\n",
    "\n",
    "num1 = 54\n",
    "num2 = 24\n",
    "\n",
    "print(\"The L.C.M. is\", compute_lcm(num1, num2))"
   ]
  },
  {
   "cell_type": "code",
   "execution_count": 20,
   "id": "65859340-779f-4d2c-a841-94694f9e312c",
   "metadata": {},
   "outputs": [
    {
     "name": "stdout",
     "output_type": "stream",
     "text": [
      "[2, 4, 10, 20, 5]\n",
      "[1, 5, 7, 4, 8, 9]\n"
     ]
    }
   ],
   "source": [
    "# Python code to remove duplicate elements\n",
    "\n",
    "def Remove(duplicate):\n",
    "\tfinal_list = []\n",
    "\tfor num in duplicate:\n",
    "\t\tif num not in final_list:\n",
    "\t\t\tfinal_list.append(num)\n",
    "\treturn final_list\n",
    "\t\n",
    "# Driver Code\n",
    "print(Remove([2, 4, 10, 20, 5, 2, 20, 4]))\n",
    "print(Remove([1,5,7,4,1,4,5,7,8,9,9,8]))\n"
   ]
  },
  {
   "cell_type": "code",
   "execution_count": 26,
   "id": "5926c816-4708-41a4-b05b-a4acb721b73d",
   "metadata": {},
   "outputs": [
    {
     "name": "stdout",
     "output_type": "stream",
     "text": [
      "No. of vowels : 3\n"
     ]
    }
   ],
   "source": [
    "#Write a python program to Counting Vowels in Word. \n",
    "\n",
    "def vowel_count(str):\n",
    "\t\n",
    "\tcount = 0\n",
    "\t\n",
    "\tvowel = set(\"aeiouAEIOU\")\n",
    "\t\n",
    "\tfor alphabet in str:\n",
    "\t\n",
    "\t\t\n",
    "\t\tif alphabet in vowel:\n",
    "\t\t\tcount = count + 1\n",
    "\t\n",
    "\tprint(\"No. of vowels :\", count)\n",
    "\t\n",
    "vowel_count(\"vasundhar\")\n",
    "\n",
    "    "
   ]
  },
  {
   "cell_type": "code",
   "execution_count": 3,
   "id": "a8549877-1d15-4d83-af83-8049ac1211bd",
   "metadata": {},
   "outputs": [
    {
     "name": "stdout",
     "output_type": "stream",
     "text": [
      "Count of e in reddy is : 2\n"
     ]
    }
   ],
   "source": [
    "#Write a python Program to Count the Number of Occurrences of a Character in a String. \n",
    "\n",
    "\n",
    "test_str = \"reddy\"\n",
    "\n",
    "\n",
    "count = 0\n",
    "\n",
    "for i in test_str:\n",
    "\tif i == 'd':\n",
    "\t\tcount = count + 1\n",
    "\n",
    "print(\"Count of e in reddy is : \" + str(count))\n",
    "\n"
   ]
  },
  {
   "cell_type": "code",
   "execution_count": 49,
   "id": "86fe561d-03ae-4afb-9ee3-5ed70b8e3c42",
   "metadata": {},
   "outputs": [
    {
     "name": "stdout",
     "output_type": "stream",
     "text": [
      "16\n"
     ]
    }
   ],
   "source": [
    "#square of numbers\n",
    "\n",
    "def square_of_num(n1, n2):\n",
    "    s = n1 ** n2\n",
    "    return s\n",
    "\n",
    "n1 = 4\n",
    "n2 = 2\n",
    "\n",
    "print(square_of_num(4,2))\n",
    "    "
   ]
  },
  {
   "cell_type": "code",
   "execution_count": null,
   "id": "b1c800cd-db34-48c1-9d94-23bb64d76e65",
   "metadata": {},
   "outputs": [],
   "source": []
  },
  {
   "cell_type": "code",
   "execution_count": 7,
   "id": "7cc10b2e-d683-46fe-9462-7139105505a0",
   "metadata": {},
   "outputs": [
    {
     "name": "stdout",
     "output_type": "stream",
     "text": [
      "16\n"
     ]
    }
   ],
   "source": [
    "#square of numbers\n",
    "n = 4\n",
    "square = n ** 2\n",
    "\n",
    "# Printing square\n",
    "print(square)\n"
   ]
  },
  {
   "cell_type": "code",
   "execution_count": 9,
   "id": "21a7e065-1bbe-4183-b031-331913e3b5b7",
   "metadata": {},
   "outputs": [
    {
     "name": "stdout",
     "output_type": "stream",
     "text": [
      "Largest element is: 99\n"
     ]
    }
   ],
   "source": [
    "#Write a python program to Find the Maximum Number in a List. \n",
    "\n",
    "def myMax(list1):\n",
    "   \n",
    "    max = list1[0]\n",
    "\n",
    "    for x in list1:\n",
    "        if x > max:\n",
    "            max = x\n",
    "            \n",
    "    return max\n",
    "\n",
    "\n",
    "list1 = [10, 20, 4, 45, 99]\n",
    "print(\"Largest element is:\", myMax(list1))\n"
   ]
  },
  {
   "cell_type": "code",
   "execution_count": 15,
   "id": "17f141bd-7cbc-4c7e-a145-5f7cf2fea58e",
   "metadata": {},
   "outputs": [
    {
     "name": "stdout",
     "output_type": "stream",
     "text": [
      "Largest element is: 4\n"
     ]
    }
   ],
   "source": [
    "#Write a python program to Find the Minimum Number in a List. \n",
    "\n",
    "\n",
    "def myMin(list1):\n",
    "   \n",
    "    min = list1[0]\n",
    "\n",
    "    for x in list1:\n",
    "        if x < min:\n",
    "            min = x\n",
    "            \n",
    "    return min\n",
    "\n",
    "\n",
    "list1 = [10, 20, 4, 45, 99]\n",
    "print(\"Largest element is:\", myMin(list1))"
   ]
  },
  {
   "cell_type": "code",
   "execution_count": 31,
   "id": "61d2a130-0739-4e20-9e74-a5e7487ff9b5",
   "metadata": {},
   "outputs": [
    {
     "name": "stdout",
     "output_type": "stream",
     "text": [
      "Original string: vasundhar!\n",
      "Copied string: vasundhar!\n"
     ]
    }
   ],
   "source": [
    "#Python program to copy one string to another string. \n",
    "\n",
    "def copy_string(original_string):\n",
    "    copied_string = original_string\n",
    "    return copied_string\n",
    "\n",
    "original = \"vasundhar!\"\n",
    "copied = copy_string(original)\n",
    "\n",
    "print(\"Original string:\", original)\n",
    "print(\"Copied string:\", copied)\n"
   ]
  },
  {
   "cell_type": "code",
   "execution_count": 35,
   "id": "707e4e2f-4e8c-4107-9d79-f1dbd0651bdd",
   "metadata": {},
   "outputs": [
    {
     "name": "stdout",
     "output_type": "stream",
     "text": [
      "Before swapping: 10 20\n",
      "After swapping: 20 10\n"
     ]
    }
   ],
   "source": [
    "#Write a program in Python to swap two numbers without using third variable?\n",
    "\n",
    "def swap_numbers(a, b):\n",
    "    a, b = b, a\n",
    "    return a, b\n",
    "\n",
    "num1 = 10\n",
    "num2 = 20\n",
    "\n",
    "print(\"Before swapping:\", num1, num2)\n",
    "num1, num2 = swap_numbers(num1, num2)\n",
    "print(\"After swapping:\", num1, num2)\n"
   ]
  },
  {
   "cell_type": "code",
   "execution_count": 45,
   "id": "7e9f0c8f-f7a2-41d7-812f-3fae68a0302d",
   "metadata": {},
   "outputs": [
    {
     "name": "stdout",
     "output_type": "stream",
     "text": [
      "Sorted string: hnopty\n"
     ]
    }
   ],
   "source": [
    "#Python Program to sort characters of string in ascending order. \n",
    "\n",
    "def sort_str(s):\n",
    "    sorted_chars = sorted(s)\n",
    "    sorted_str = ''.join(sorted_chars)\n",
    "    return sorted_str\n",
    "\n",
    "input_str = \"python\"\n",
    "sorted_str = sort_str(input_str)\n",
    "\n",
    "print(\"Sorted string:\", sorted_str)\n"
   ]
  },
  {
   "cell_type": "code",
   "execution_count": 47,
   "id": "496c6a27-ddd3-46ea-b2a8-37ec7ef37a79",
   "metadata": {},
   "outputs": [
    {
     "name": "stdout",
     "output_type": "stream",
     "text": [
      "Sorted string (descending): ytponh\n"
     ]
    }
   ],
   "source": [
    "#Python Program to sort character of string in descending order. \n",
    "\n",
    "def sort_string_descending(s):\n",
    "    sorted_chars = sorted(s, reverse=True)\n",
    "    sorted_string = ''.join(sorted_chars)\n",
    "    return sorted_string\n",
    "\n",
    "input_string = \"python\"\n",
    "sorted_string = sort_string_descending(input_string)\n",
    "\n",
    "print(\"Sorted string (descending):\", sorted_string)\n"
   ]
  }
 ],
 "metadata": {
  "kernelspec": {
   "display_name": "Python 3 (ipykernel)",
   "language": "python",
   "name": "python3"
  },
  "language_info": {
   "codemirror_mode": {
    "name": "ipython",
    "version": 3
   },
   "file_extension": ".py",
   "mimetype": "text/x-python",
   "name": "python",
   "nbconvert_exporter": "python",
   "pygments_lexer": "ipython3",
   "version": "3.12.4"
  }
 },
 "nbformat": 4,
 "nbformat_minor": 5
}
