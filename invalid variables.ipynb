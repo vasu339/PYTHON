{
 "cells": [
  {
   "cell_type": "markdown",
   "id": "2ca0c20c-630e-4fbf-a29c-d7fe0d92642c",
   "metadata": {},
   "source": [
    "# python invalid variables"
   ]
  },
  {
   "cell_type": "code",
   "execution_count": 6,
   "id": "14484608-03bd-42cc-b053-b1fe54cba55e",
   "metadata": {},
   "outputs": [
    {
     "ename": "SyntaxError",
     "evalue": "cannot assign to expression here. Maybe you meant '==' instead of '='? (1098786741.py, line 7)",
     "output_type": "error",
     "traceback": [
      "\u001b[1;36m  Cell \u001b[1;32mIn[6], line 7\u001b[1;36m\u001b[0m\n\u001b[1;33m    pra-bhas=\"hero\"\u001b[0m\n\u001b[1;37m    ^\u001b[0m\n\u001b[1;31mSyntaxError\u001b[0m\u001b[1;31m:\u001b[0m cannot assign to expression here. Maybe you meant '==' instead of '='?\n"
     ]
    }
   ],
   "source": [
    "#python invalid variables\n",
    "\n",
    "#kalki=\"blockbuster\"\n",
    "collections=\"1000cr\"\n",
    "!tickets=\"not avaiable\"\n",
    "*price=500\n",
    "pra-bhas=\"hero\"\n",
    "kar na=\"prabhas\"\n",
    "ar/jun=\"vd\"\n",
    "true=\"fans\"\n",
    "for=\"movie\"\n",
    "print(#kalki)\n",
    "print(@collections)\n",
    "print(!tickets)\n",
    "print(*price)\n",
    "print(pra-bhas)\n",
    "print(kar na)\n",
    "print(ar/jun)\n",
    "print(true)\n",
    "print(for)\n",
    "    "
   ]
  },
  {
   "cell_type": "code",
   "execution_count": null,
   "id": "fe8e52b9-bf2d-424a-8e09-53f234fd79c1",
   "metadata": {},
   "outputs": [],
   "source": []
  }
 ],
 "metadata": {
  "kernelspec": {
   "display_name": "Python 3 (ipykernel)",
   "language": "python",
   "name": "python3"
  },
  "language_info": {
   "codemirror_mode": {
    "name": "ipython",
    "version": 3
   },
   "file_extension": ".py",
   "mimetype": "text/x-python",
   "name": "python",
   "nbconvert_exporter": "python",
   "pygments_lexer": "ipython3",
   "version": "3.12.4"
  }
 },
 "nbformat": 4,
 "nbformat_minor": 5
}
