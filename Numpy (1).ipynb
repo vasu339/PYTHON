{
 "cells": [
  {
   "cell_type": "markdown",
   "id": "10d3cb28-bdfc-4786-a0c1-0c98c02ec4fb",
   "metadata": {},
   "source": [
    "# Numpy"
   ]
  },
  {
   "cell_type": "code",
   "execution_count": 23,
   "id": "e40be3e2-8c42-45f4-bee7-435cbbdedd3c",
   "metadata": {},
   "outputs": [
    {
     "name": "stdout",
     "output_type": "stream",
     "text": [
      "Requirement already satisfied: numpy in c:\\users\\user1\\anaconda3\\lib\\site-packages (1.26.4)\n"
     ]
    }
   ],
   "source": [
    "!pip install numpy"
   ]
  },
  {
   "cell_type": "code",
   "execution_count": 3,
   "id": "ac43ff3c-e3c6-483a-ad1d-3397d6f3dc15",
   "metadata": {},
   "outputs": [],
   "source": [
    "import numpy as np"
   ]
  },
  {
   "cell_type": "code",
   "execution_count": 6,
   "id": "8528db44-34c4-4fc5-93aa-e80f5746eebb",
   "metadata": {},
   "outputs": [
    {
     "name": "stdout",
     "output_type": "stream",
     "text": [
      "[1 2 3 4]\n",
      "[[5 6 7 8]\n",
      " [1 2 3 4]]\n",
      "[[[1 2 3 4]\n",
      "  [5 6 7 8]]\n",
      "\n",
      " [[9 0 1 2]\n",
      "  [3 4 5 6]]]\n"
     ]
    }
   ],
   "source": [
    "a = np.array([1,2,3,4])\n",
    "b = np.array([[5,6,7,8] , [1,2,3,4]])\n",
    "c = np.array([[[1,2,3,4] , [5,6,7,8]], [[9,0,1,2] , [3,4,5,6]]])\n",
    "\n",
    "\n",
    "print(a)\n",
    "print(b)\n",
    "print(c)"
   ]
  },
  {
   "cell_type": "code",
   "execution_count": 36,
   "id": "7bc975a9-f13d-4f2e-a07f-41dab46ae320",
   "metadata": {},
   "outputs": [
    {
     "name": "stdout",
     "output_type": "stream",
     "text": [
      "[[0. 0. 0. 0.]]\n",
      "[[0. 0. 0. 0.]\n",
      " [0. 0. 0. 0.]\n",
      " [0. 0. 0. 0.]]\n",
      "[[[0. 0. 0. 0.]\n",
      "  [0. 0. 0. 0.]\n",
      "  [0. 0. 0. 0.]]\n",
      "\n",
      " [[0. 0. 0. 0.]\n",
      "  [0. 0. 0. 0.]\n",
      "  [0. 0. 0. 0.]]]\n"
     ]
    }
   ],
   "source": [
    "#creating an array of zeros with 1-D ,2-D , 3-D\n",
    "\n",
    "a = np.zeros((1,4))\n",
    "\n",
    "b = np.zeros((3,4))\n",
    "\n",
    "c = np.zeros((2,3,4))\n",
    "\n",
    "print(a)\n",
    "print(b)\n",
    "print(c)"
   ]
  },
  {
   "cell_type": "code",
   "execution_count": 40,
   "id": "7f6b87d5-8d03-4d1b-959c-8c24d28c835a",
   "metadata": {},
   "outputs": [
    {
     "name": "stdout",
     "output_type": "stream",
     "text": [
      "[[1. 1. 1. 1.]]\n",
      "[[1. 1. 1. 1.]\n",
      " [1. 1. 1. 1.]\n",
      " [1. 1. 1. 1.]\n",
      " [1. 1. 1. 1.]]\n",
      "[[[1. 1. 1. 1.]\n",
      "  [1. 1. 1. 1.]\n",
      "  [1. 1. 1. 1.]\n",
      "  [1. 1. 1. 1.]]\n",
      "\n",
      " [[1. 1. 1. 1.]\n",
      "  [1. 1. 1. 1.]\n",
      "  [1. 1. 1. 1.]\n",
      "  [1. 1. 1. 1.]]]\n"
     ]
    }
   ],
   "source": [
    "#creating an array of ones with 1-D, 2-D, 3-D\n",
    "\n",
    "v = np.ones((1,4))\n",
    "\n",
    "d = np.ones((4,4))\n",
    "\n",
    "g = np.ones((2,4,4))\n",
    "\n",
    "print(v)\n",
    "print(d)\n",
    "print(g)"
   ]
  },
  {
   "cell_type": "code",
   "execution_count": 50,
   "id": "2c72d4da-5140-4848-9144-e429407a5b74",
   "metadata": {},
   "outputs": [
    {
     "name": "stdout",
     "output_type": "stream",
     "text": [
      "[10 13 16 19 22 25 28]\n",
      "[ 1  3  5  7  9 11 13 15 17 19 21 23 25 27 29 31 33 35 37 39 41 43 45 47\n",
      " 49]\n"
     ]
    }
   ],
   "source": [
    "#create an array of evenly spaced values (step values)\n",
    "\n",
    "\n",
    "d = np.arange(10,30,3) #n-1\n",
    "\n",
    "c = np.arange(1,50,2)\n",
    "\n",
    "print(d)\n",
    "print(c)"
   ]
  },
  {
   "cell_type": "code",
   "execution_count": 56,
   "id": "792c3c06-38dd-48a8-a1f7-7f049f47d36d",
   "metadata": {},
   "outputs": [
    {
     "name": "stdout",
     "output_type": "stream",
     "text": [
      "[ 2.  4.  6.  8. 10.]\n",
      "[10. 15. 20.]\n"
     ]
    }
   ],
   "source": [
    "#create an array of evenly spaced values (number of samples)\n",
    "\n",
    "t = np.linspace(2,10,5)\n",
    "\n",
    "b = np.linspace(10,20,3)\n",
    "\n",
    "print(t)\n",
    "print(b)"
   ]
  },
  {
   "cell_type": "code",
   "execution_count": 78,
   "id": "7b7f8059-7b3c-4e5f-b2b9-d6664a461d8a",
   "metadata": {},
   "outputs": [
    {
     "name": "stdout",
     "output_type": "stream",
     "text": [
      "[7 7 7 7]\n",
      "1\n",
      "[[8 8 8 8]\n",
      " [8 8 8 8]\n",
      " [8 8 8 8]\n",
      " [8 8 8 8]]\n",
      "2\n",
      "[[[9 9 9 9]\n",
      "  [9 9 9 9]\n",
      "  [9 9 9 9]\n",
      "  [9 9 9 9]]\n",
      "\n",
      " [[9 9 9 9]\n",
      "  [9 9 9 9]\n",
      "  [9 9 9 9]\n",
      "  [9 9 9 9]]]\n",
      "3\n"
     ]
    }
   ],
   "source": [
    "#create an constant array\n",
    "#with 1-D , 2-D , 3-D array\n",
    "\n",
    "a = np.full([4],7)   #1-D\n",
    "\n",
    "b= np.full((4,4),8)\n",
    "\n",
    "c = np.full((2,4,4),9)\n",
    "\n",
    "print(a)\n",
    "print(a.ndim)\n",
    "print(b)\n",
    "print(b.ndim)\n",
    "print(c)\n",
    "print(c.ndim)"
   ]
  },
  {
   "cell_type": "code",
   "execution_count": 94,
   "id": "27ffb2b7-8be9-41bf-a24a-4c6ffeebb73b",
   "metadata": {},
   "outputs": [
    {
     "name": "stdout",
     "output_type": "stream",
     "text": [
      "[[1. 0. 0. 0. 0. 0.]\n",
      " [0. 1. 0. 0. 0. 0.]\n",
      " [0. 0. 1. 0. 0. 0.]\n",
      " [0. 0. 0. 1. 0. 0.]\n",
      " [0. 0. 0. 0. 1. 0.]\n",
      " [0. 0. 0. 0. 0. 1.]]\n"
     ]
    }
   ],
   "source": [
    "#create a marix with identity matrix\n",
    "\n",
    "a = np.eye(6)\n",
    "print(a)\n",
    "\n"
   ]
  },
  {
   "cell_type": "code",
   "execution_count": 120,
   "id": "bde702c0-88e7-4b01-9fbe-c83b8094afda",
   "metadata": {},
   "outputs": [
    {
     "name": "stdout",
     "output_type": "stream",
     "text": [
      "[0.05690538 0.33428934 0.91804835 0.9178712 ]\n",
      "[[0.81797071 0.71016125 0.36400551 0.84334465]\n",
      " [0.43255218 0.19833043 0.44497119 0.0172557 ]\n",
      " [0.93228416 0.40939995 0.52162559 0.2076326 ]\n",
      " [0.68930438 0.84659003 0.21784413 0.63946968]]\n",
      "[[[0.96578297 0.12743439 0.09017688 0.85439819]\n",
      "  [0.68441586 0.24931283 0.45356251 0.95432113]\n",
      "  [0.2396587  0.79889831 0.16630143 0.33460975]\n",
      "  [0.88304807 0.74181602 0.03445796 0.13576133]]\n",
      "\n",
      " [[0.7201654  0.28397976 0.57840114 0.78925155]\n",
      "  [0.18101437 0.38673476 0.59771686 0.63953631]\n",
      "  [0.09194331 0.89074767 0.75029    0.1055436 ]\n",
      "  [0.64262679 0.76886508 0.27263506 0.78934373]]]\n"
     ]
    }
   ],
   "source": [
    "#create a random array\n",
    "\n",
    "a = np.random.random((4))\n",
    "b = np.random.random((4,4))\n",
    "c = np.random.random((2,4,4))\n",
    "\n",
    "print(a)\n",
    "print(b)\n",
    "print(c)"
   ]
  },
  {
   "cell_type": "code",
   "execution_count": 140,
   "id": "47b3227b-ca24-4f40-a2f3-ca4dc58ae854",
   "metadata": {},
   "outputs": [
    {
     "name": "stdout",
     "output_type": "stream",
     "text": [
      "8\n"
     ]
    }
   ],
   "source": [
    "# random integer in b/w two values\n",
    "\n",
    "a = np.random.randint(1,10)\n",
    "print(a)"
   ]
  },
  {
   "cell_type": "code",
   "execution_count": 154,
   "id": "e3691607-1b2b-4eef-b96a-43f1c7313cae",
   "metadata": {},
   "outputs": [
    {
     "name": "stdout",
     "output_type": "stream",
     "text": [
      "(4,)\n",
      "(2, 4)\n",
      "(1, 3, 4)\n"
     ]
    }
   ],
   "source": [
    "#find shape of an array\n",
    "\n",
    "a = np.array([1,2,3,4])\n",
    "\n",
    "b = np.array([[1,2,3,4],\n",
    "              [5,6,7,8]])\n",
    "\n",
    "c = np.array([[[1,2,3,4],\n",
    "              [5,6,7,8],\n",
    "              [7,8,9,0]]])\n",
    "\n",
    "print(a.shape)\n",
    "print(b.shape)\n",
    "print(c.shape)"
   ]
  },
  {
   "cell_type": "code",
   "execution_count": 158,
   "id": "47e7fdfb-65c3-42f6-93ac-49a348720e27",
   "metadata": {},
   "outputs": [
    {
     "name": "stdout",
     "output_type": "stream",
     "text": [
      "4\n",
      "8\n"
     ]
    }
   ],
   "source": [
    "#find size of an array\n",
    "\n",
    "a = np.array([1,2,3,34])\n",
    "\n",
    "b = np.array([[1,2,3,4] , [6,7,8,9]])\n",
    "\n",
    "print(a.size)\n",
    "print(b.size)"
   ]
  },
  {
   "cell_type": "code",
   "execution_count": 172,
   "id": "62bfe93d-51e4-4206-b041-42fbea4d3866",
   "metadata": {},
   "outputs": [
    {
     "name": "stdout",
     "output_type": "stream",
     "text": [
      "5\n",
      "5\n"
     ]
    }
   ],
   "source": [
    "#length of an array \n",
    "\n",
    "a = np.array([[1,2,3,4],\n",
    "              [3,4,5,6],\n",
    "              [6,7,8,9],\n",
    "              [8,9,0,1],\n",
    "              [4,5,6,7]])\n",
    "\n",
    "b = np.array([1,2,3,4,56,])\n",
    "\n",
    "print(len(a))\n",
    "print(len(b))"
   ]
  },
  {
   "cell_type": "markdown",
   "id": "08b9f383-12e8-4780-be49-75d15dd7c65c",
   "metadata": {},
   "source": [
    "# Access array  elements"
   ]
  },
  {
   "cell_type": "code",
   "execution_count": 188,
   "id": "09d9b1ab-aa9f-42bf-a99d-a9226bacd6ac",
   "metadata": {},
   "outputs": [
    {
     "name": "stdout",
     "output_type": "stream",
     "text": [
      "u\n",
      "5\n",
      "n\n"
     ]
    }
   ],
   "source": [
    "#indexing of an array \n",
    "\n",
    "arr = np.array(('v','a','s','u'))\n",
    "\n",
    "arr1 = np.array((1,2,3,4,5,6,7,8,9))\n",
    "\n",
    "print(arr[3])\n",
    "print(arr1[4])\n",
    "\n",
    "arr2 = \"vsundhar\"\n",
    "np.array\n",
    "print(arr2[3])"
   ]
  },
  {
   "cell_type": "code",
   "execution_count": 190,
   "id": "86cfeefb-a07b-41ed-8743-7f062fbcfcb2",
   "metadata": {},
   "outputs": [
    {
     "name": "stdout",
     "output_type": "stream",
     "text": [
      "15\n"
     ]
    }
   ],
   "source": [
    "#adding of elements in array by using index\n",
    "\n",
    "arr = np.array([1,2,3,4,5,6,7])\n",
    "\n",
    "print(arr[2] + arr[4] + arr[6])"
   ]
  },
  {
   "cell_type": "code",
   "execution_count": 9,
   "id": "411c9c16-4a85-4b98-92cc-a5afc3392dce",
   "metadata": {},
   "outputs": [
    {
     "name": "stdout",
     "output_type": "stream",
     "text": [
      "3rd element of 2nd row:  6\n",
      "4rd element of 4nd row:  9\n"
     ]
    }
   ],
   "source": [
    "#access 2-D array\n",
    "\n",
    "arr = np.array([[1,2,3,4,5],\n",
    "              [4,5,6,7,8],\n",
    "              [3,4,5,6,7],\n",
    "              [7,8,9,0,1],\n",
    "              [5,6,7,8,9]])\n",
    "\n",
    "\n",
    "\n",
    "print(\"3rd element of 2nd row: \", arr[2,3]) \n",
    "print(\"4rd element of 4nd row: \", arr[4,4])"
   ]
  },
  {
   "cell_type": "code",
   "execution_count": 13,
   "id": "d4f3fcfd-4072-43fb-9c8d-4121fa03acc0",
   "metadata": {},
   "outputs": [
    {
     "name": "stdout",
     "output_type": "stream",
     "text": [
      "3\n",
      "7\n"
     ]
    }
   ],
   "source": [
    "#access 3-D array\n",
    "\n",
    "arr = np.array([[[1,2,3,4],[5,6,7,8]],\n",
    "              [[3,4,5,6],[2,3,4,5]],\n",
    "              [[6,7,8,9],[7,6,5,4]],\n",
    "              [[7,8,9,0],[1,2,3,4]]])\n",
    "\n",
    "print(arr[3,1,2])\n",
    "print(arr[2,0,1])"
   ]
  },
  {
   "cell_type": "markdown",
   "id": "1d820164-8bdb-4fc7-abb2-c42e8dea7622",
   "metadata": {},
   "source": [
    "# Data types\n",
    "\n"
   ]
  },
  {
   "cell_type": "markdown",
   "id": "02c91260-5b4f-4358-ae3b-947c6d9614f2",
   "metadata": {},
   "source": [
    "#data types in numpy\r\n",
    "i - integer\r\n",
    "b - boolean\r\n",
    "u - unsigned integer\r\n",
    "f - float\r\n",
    "c - complex float\r\n",
    "m - timedelta\r\n",
    "M - datetime\r\n",
    "O - object\r\n",
    "S - string\r\n",
    "U - unicode string\r\n",
    "V - fixed chunk of memory for other type ( void )\r\n",
    "tring\r\n",
    "'''\n"
   ]
  },
  {
   "cell_type": "code",
   "execution_count": 7,
   "id": "f668b807-9137-4d9f-a60a-bbb3d019f586",
   "metadata": {},
   "outputs": [
    {
     "name": "stdout",
     "output_type": "stream",
     "text": [
      "[b'1' b'2' b'3' b'4']\n",
      "|S1\n"
     ]
    }
   ],
   "source": [
    "#1.string\n",
    "\n",
    "arr = np.array([1, 2, 3, 4], dtype='S')\n",
    "\n",
    "print(arr)\n",
    "print(arr.dtype)\n"
   ]
  },
  {
   "cell_type": "code",
   "execution_count": 13,
   "id": "e59d2bf7-f74c-48cb-bdad-8ed6f5950354",
   "metadata": {},
   "outputs": [
    {
     "name": "stdout",
     "output_type": "stream",
     "text": [
      "[       1        2        3        4 66611111     4444]\n",
      "int32\n"
     ]
    }
   ],
   "source": [
    "#2.integer\n",
    "\n",
    "arr=np.array([1,2,3,4,66611111,4444],dtype='i')\n",
    "print(arr)\n",
    "print(arr.dtype)"
   ]
  },
  {
   "cell_type": "code",
   "execution_count": 44,
   "id": "84e0594d-ecc7-4bd1-827b-9c3eb72c6bac",
   "metadata": {},
   "outputs": [
    {
     "name": "stdout",
     "output_type": "stream",
     "text": [
      "[1 2 3 4 5]\n",
      "int32\n"
     ]
    }
   ],
   "source": [
    "#changing float to int\n",
    "\n",
    "arr=np.array([1.1,2.2,3.3,4,5.5])\n",
    "new_arr=arr.astype('i')\n",
    "print(new_arr)\n",
    "print(new_arr.dtype)"
   ]
  },
  {
   "cell_type": "code",
   "execution_count": 40,
   "id": "97f01862-8210-4c8d-9fa1-aa968a8ee6c8",
   "metadata": {},
   "outputs": [
    {
     "name": "stdout",
     "output_type": "stream",
     "text": [
      "[False  True  True  True  True  True]\n",
      "bool\n"
     ]
    }
   ],
   "source": [
    "##changing float to boolean\n",
    "\n",
    "arr=np.array([0.0,1.1,2.2,3.3,4,5.5])\n",
    "new_arr = arr.astype(bool)\n",
    "print(new_arr)\n",
    "print(new_arr.dtype)"
   ]
  },
  {
   "cell_type": "code",
   "execution_count": 42,
   "id": "d480a0e4-c9ef-4031-b6bd-33fb3731469a",
   "metadata": {},
   "outputs": [
    {
     "name": "stdout",
     "output_type": "stream",
     "text": [
      "[0. 9. 8. 7. 6. 5.]\n",
      "float32\n"
     ]
    }
   ],
   "source": [
    "#changing int to float\n",
    "\n",
    "arr=np.array([0,9,8,7,6,5,])\n",
    "new_arr = arr.astype('f')\n",
    "print(new_arr)\n",
    "print(new_arr.dtype)"
   ]
  },
  {
   "cell_type": "code",
   "execution_count": 28,
   "id": "2ab1b06e-81ef-4b43-99da-1a2d59ea03b1",
   "metadata": {},
   "outputs": [
    {
     "name": "stdout",
     "output_type": "stream",
     "text": [
      "['1.1' '2.2' '3.3' '4.0' '5.5']\n",
      "<U32\n"
     ]
    }
   ],
   "source": [
    "#changing float to unsigned integer\n",
    "\n",
    "arr=np.array([1.1,2.2,3.3,4,5.5])\n",
    "new_arr=arr.astype('U')\n",
    "print(new_arr)\n",
    "print(new_arr.dtype)"
   ]
  },
  {
   "cell_type": "code",
   "execution_count": 46,
   "id": "e995c8f4-b706-4904-9b53-191ce4bf5c39",
   "metadata": {},
   "outputs": [
    {
     "name": "stdout",
     "output_type": "stream",
     "text": [
      "['1' '2' '3' '4' '5']\n",
      "<U11\n"
     ]
    }
   ],
   "source": [
    "##changing int to unsigned integer\n",
    "\n",
    "arr=np.array([1,2,3,4,5])\n",
    "new_arr=arr.astype('U')\n",
    "print(new_arr)\n",
    "print(new_arr.dtype)"
   ]
  },
  {
   "cell_type": "code",
   "execution_count": 48,
   "id": "3c45bf57-4788-4105-8bd7-14bbf2fca583",
   "metadata": {},
   "outputs": [
    {
     "name": "stdout",
     "output_type": "stream",
     "text": [
      "[b'1' b'2' b'3' b'4' b'5']\n",
      "|S1\n"
     ]
    }
   ],
   "source": [
    "#changing float to complex float\n",
    "\n",
    "arr=np.array([1.1,2.2,3.3,4,5.5])\n",
    "new_arr=arr.astype('c')\n",
    "print(new_arr)\n",
    "print(new_arr.dtype)"
   ]
  },
  {
   "cell_type": "code",
   "execution_count": 50,
   "id": "c642a2f8-2073-44d9-a305-2de63bab0121",
   "metadata": {},
   "outputs": [
    {
     "name": "stdout",
     "output_type": "stream",
     "text": [
      "[b'1' b'2' b'3' b'4' b'5']\n",
      "|S1\n"
     ]
    }
   ],
   "source": [
    "#changing int to complex float\n",
    "\n",
    "arr=np.array([1,2,3,4,5])\n",
    "new_arr=arr.astype('c')\n",
    "print(new_arr)\n",
    "print(new_arr.dtype)"
   ]
  },
  {
   "cell_type": "code",
   "execution_count": 56,
   "id": "8c9ba770-9004-486d-afa1-c37a66ac7104",
   "metadata": {},
   "outputs": [
    {
     "name": "stdout",
     "output_type": "stream",
     "text": [
      "[222   4   5  30  60  70  33 444]\n",
      "[ 10   4   5  30  60  70  33 444]\n"
     ]
    }
   ],
   "source": [
    "#copy method\n",
    "\n",
    "arr=np.array([10,4,5,30,60,70,33,444])\n",
    "x = arr.copy()\n",
    "arr[0]=222\n",
    "print(arr)\n",
    "print(x)"
   ]
  },
  {
   "cell_type": "code",
   "execution_count": 58,
   "id": "80a0099d-d486-468d-88df-665750a3f5fd",
   "metadata": {},
   "outputs": [
    {
     "name": "stdout",
     "output_type": "stream",
     "text": [
      "[  2   4   5  30  60  70  33 444]\n"
     ]
    }
   ],
   "source": [
    "#view method\n",
    "\n",
    "arr=np.array([10,4,5,30,60,70,33,444])\n",
    "temp=arr.view()\n",
    "arr[0]=2\n",
    "print(temp)"
   ]
  },
  {
   "cell_type": "code",
   "execution_count": 60,
   "id": "aa8d3085-b0d9-45bc-a186-4b647aa2376d",
   "metadata": {},
   "outputs": [
    {
     "name": "stdout",
     "output_type": "stream",
     "text": [
      "(2, 4)\n"
     ]
    }
   ],
   "source": [
    "#shape\n",
    "\n",
    "arr = np.array([[2,3,4,5],\n",
    "              [6,7,8,9]])\n",
    "\n",
    "print(arr.shape)\n"
   ]
  },
  {
   "cell_type": "code",
   "execution_count": 9,
   "id": "8dcf356e-5b6d-4e47-abad-696bf1c693d1",
   "metadata": {},
   "outputs": [
    {
     "name": "stdout",
     "output_type": "stream",
     "text": [
      "[[ 1  2  3  4  5  6  7]\n",
      " [ 8  9 10 11 12 13 14]]\n",
      "[[ 1  2  3  4  5  6]\n",
      " [ 7  8  9 10 11 12]\n",
      " [13 14 15 16 17 18]]\n",
      "[[ 1  2]\n",
      " [ 3  4]\n",
      " [ 5  6]\n",
      " [ 7  8]\n",
      " [ 9 10]\n",
      " [11 12]\n",
      " [13 14]\n",
      " [15 16]\n",
      " [17 18]]\n"
     ]
    }
   ],
   "source": [
    "#Reshaping arrays\n",
    "#converting 1D array to 2D array\n",
    "\n",
    "arr= np.array([1,2,3,4,5,6,7,8,9,10,11,12,13,14])\n",
    "x=arr.reshape(2,7)\n",
    "\n",
    "print(x)\n",
    "\n",
    "arr=np.array([1,2,3,4,5,6,7,8,9,10,11,12,13,14,15,16,17,18])\n",
    "x=arr.reshape(3,6)\n",
    "y=arr.reshape(9,2)\n",
    "\n",
    "print(x)\n",
    "print(y)\n"
   ]
  },
  {
   "cell_type": "code",
   "execution_count": 17,
   "id": "eb80feff-3544-4379-a6e3-18cc8b6dff28",
   "metadata": {},
   "outputs": [
    {
     "name": "stdout",
     "output_type": "stream",
     "text": [
      "[[[ 1  2  3  4  5]\n",
      "  [ 6  7  8  9 10]]\n",
      "\n",
      " [[11 12 13 14 15]\n",
      "  [16 17 18 19 20]]]\n",
      "++++++++++++++++++++++++++\n",
      "[[[ 1  2]\n",
      "  [ 3  4]]\n",
      "\n",
      " [[ 5  6]\n",
      "  [ 7  8]]\n",
      "\n",
      " [[ 9 10]\n",
      "  [11 12]]\n",
      "\n",
      " [[13 14]\n",
      "  [15 16]]\n",
      "\n",
      " [[17 18]\n",
      "  [19 20]]]\n"
     ]
    }
   ],
   "source": [
    "##converting 1D array into 3D array\n",
    "\n",
    "arr=np.array([1,2,3,4,5,6,7,8,9,10,11,12,13,14,15,16,17,18,19,20])\n",
    "x=arr.reshape(2,2,5)\n",
    "print(x)\n",
    "print(\"++++++++++++++++++++++++++\")\n",
    "y=arr.reshape(5,2,2)\n",
    "print(y)\n"
   ]
  },
  {
   "cell_type": "code",
   "execution_count": 21,
   "id": "61d95b64-0981-4c63-ad00-892aa2405c01",
   "metadata": {},
   "outputs": [
    {
     "name": "stdout",
     "output_type": "stream",
     "text": [
      "[ 1  2  3  4  5  6  7  8  9 10 11 12 13 14 15 16 17 18]\n"
     ]
    }
   ],
   "source": [
    "##converting 2D array into 1D array\n",
    "\n",
    "arr=np.array([[1,2,3,4,5,6],\n",
    "              [7,8,9,10,11,12],\n",
    "              [13,14,15,16,17,18]])\n",
    "x=arr.reshape(arr.size)\n",
    "print(x)"
   ]
  },
  {
   "cell_type": "code",
   "execution_count": 29,
   "id": "358f92e7-0c4b-49c9-89ca-d3109e3cb90e",
   "metadata": {},
   "outputs": [
    {
     "name": "stdout",
     "output_type": "stream",
     "text": [
      "18\n",
      "[[[ 1  2  3]\n",
      "  [ 4  5  6]]\n",
      "\n",
      " [[ 7  8  9]\n",
      "  [10 11 12]]\n",
      "\n",
      " [[13 14 15]\n",
      "  [16 17 18]]]\n",
      "++++++++++++++++++++++\n",
      "[[[ 1  2  3]\n",
      "  [ 4  5  6]\n",
      "  [ 7  8  9]]\n",
      "\n",
      " [[10 11 12]\n",
      "  [13 14 15]\n",
      "  [16 17 18]]]\n"
     ]
    }
   ],
   "source": [
    "##converting 2D array into 3D array\n",
    "\n",
    "arr=np.array([[1,2,3,4,5,6],\n",
    "              [7,8,9,10,11,12],\n",
    "              [13,14,15,16,17,18]])\n",
    "print(arr.size)\n",
    "x=arr.reshape(3,2,3)\n",
    "print(x)\n",
    "print(\"++++++++++++++++++++++\")\n",
    "y=arr.reshape(2,3,3)\n",
    "print(y)\n"
   ]
  },
  {
   "cell_type": "code",
   "execution_count": 5,
   "id": "9ff89bb0-49dd-4579-84c2-3019cfaedc07",
   "metadata": {},
   "outputs": [
    {
     "name": "stdout",
     "output_type": "stream",
     "text": [
      "[ 1  2  3  4  5  6  7  8  9 10 11 12 13 14 15 16 17 18 19 20 21 22 23 24\n",
      " 25 26 27 28 29 30 31 32 33 34 35 36]\n"
     ]
    }
   ],
   "source": [
    "#converting 3D array into 1D array\n",
    "\n",
    "arr=np.array([[[1,2,3,4,5,6],[7,8,9,10,11,12]],\n",
    "              [[13,14,15,16,17,18],[19,20,21,22,23,24]],\n",
    "              [[25,26,27,28,29,30],[31,32,33,34,35,36]]])\n",
    "x=arr.reshape(arr.size)\n",
    "print(x)"
   ]
  },
  {
   "cell_type": "code",
   "execution_count": 7,
   "id": "a79c61b0-43d3-4be9-be73-a17579d878fa",
   "metadata": {},
   "outputs": [
    {
     "name": "stdout",
     "output_type": "stream",
     "text": [
      "36\n",
      "[[ 1  2  3  4  5  6]\n",
      " [ 7  8  9 10 11 12]\n",
      " [13 14 15 16 17 18]\n",
      " [19 20 21 22 23 24]\n",
      " [25 26 27 28 29 30]\n",
      " [31 32 33 34 35 36]]\n",
      "---------------------------------------------------\n",
      "[[ 1  2  3  4  5  6  7  8  9 10 11 12 13 14 15 16 17 18]\n",
      " [19 20 21 22 23 24 25 26 27 28 29 30 31 32 33 34 35 36]]\n"
     ]
    }
   ],
   "source": [
    "#converting 3D array into 2D array\n",
    "\n",
    "arr=np.array([[[1,2,3,4,5,6],[7,8,9,10,11,12]],\n",
    "              [[13,14,15,16,17,18],[19,20,21,22,23,24]],\n",
    "              [[25,26,27,28,29,30],[31,32,33,34,35,36]]])\n",
    "print(arr.size)\n",
    "x=arr.reshape(6,6)\n",
    "print(x)\n",
    "print(\"---------------------------------------------------\")\n",
    "y=arr.reshape(2,18)\n",
    "print(y)\n"
   ]
  },
  {
   "cell_type": "code",
   "execution_count": 9,
   "id": "bf05c9dc-7d72-4bda-87ab-a2fd054dac8e",
   "metadata": {},
   "outputs": [
    {
     "name": "stdout",
     "output_type": "stream",
     "text": [
      "[  6   8  30  45  66  79 670]\n"
     ]
    }
   ],
   "source": [
    "##sorting arrays\n",
    "\n",
    "arr=np.array([6,8,30,79,45,66,670])\n",
    "x=np.sort(arr)\n",
    "print(x)"
   ]
  },
  {
   "cell_type": "code",
   "execution_count": 13,
   "id": "d0d36de3-5f1f-4f76-ba07-f16d6323ec50",
   "metadata": {},
   "outputs": [
    {
     "name": "stdout",
     "output_type": "stream",
     "text": [
      "[2 3 4 5 6 7 8 9]\n",
      "[10 11 12 13 14 15 16 17 18]\n"
     ]
    }
   ],
   "source": [
    "##slicing arrays\n",
    "\n",
    "arr=np.array([1,2,3,4,5,6,7,8,9,10,11,12,13,14,15,16,17,18,19,20])\n",
    "#positive slicing\n",
    "print(arr[1:9])\n",
    "#negative slicing\n",
    "print(arr[-11:-2])"
   ]
  },
  {
   "cell_type": "code",
   "execution_count": 17,
   "id": "1e434001-bb96-464d-8468-bdfa5c60dc79",
   "metadata": {},
   "outputs": [
    {
     "name": "stdout",
     "output_type": "stream",
     "text": [
      "[2 3 4]\n",
      "[[ 4  5]\n",
      " [10 11]]\n"
     ]
    }
   ],
   "source": [
    "##slicing 2D arrays\n",
    "\n",
    "arr=np.array([[1,2,3,4,5,6],\n",
    "              [7,8,9,10,11,12],\n",
    "              [13,14,15,16,17,18]])\n",
    "print(arr[0,1:4])\n",
    "print(arr[0:2,3:5])\n"
   ]
  },
  {
   "cell_type": "code",
   "execution_count": null,
   "id": "553ee5a4-e1f5-4144-9d1f-4ccee1e40902",
   "metadata": {},
   "outputs": [],
   "source": []
  }
 ],
 "metadata": {
  "kernelspec": {
   "display_name": "Python 3 (ipykernel)",
   "language": "python",
   "name": "python3"
  },
  "language_info": {
   "codemirror_mode": {
    "name": "ipython",
    "version": 3
   },
   "file_extension": ".py",
   "mimetype": "text/x-python",
   "name": "python",
   "nbconvert_exporter": "python",
   "pygments_lexer": "ipython3",
   "version": "3.12.4"
  }
 },
 "nbformat": 4,
 "nbformat_minor": 5
}
