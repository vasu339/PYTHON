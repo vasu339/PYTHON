{
 "cells": [
  {
   "cell_type": "markdown",
   "id": "0738f11d-1855-41c3-9c05-13d4d0cbbb40",
   "metadata": {},
   "source": [
    "# Boolean Expressions "
   ]
  },
  {
   "cell_type": "code",
   "execution_count": null,
   "id": "ed1eacce-c930-4bcc-86bc-c40a8e9ff780",
   "metadata": {},
   "outputs": [],
   "source": [
    "#type1 boolean\n",
    "\n",
    "num1 = 9\n",
    "num2 = 19\n",
    "num3 = 70\n",
    "print(num1<num2)\n",
    "print(num1>num2)\n",
    "print(num3>num2)\n",
    "print(bool(num1<num2))\n",
    "print(bool("
   ]
  }
 ],
 "metadata": {
  "kernelspec": {
   "display_name": "Python 3 (ipykernel)",
   "language": "python",
   "name": "python3"
  },
  "language_info": {
   "codemirror_mode": {
    "name": "ipython",
    "version": 3
   },
   "file_extension": ".py",
   "mimetype": "text/x-python",
   "name": "python",
   "nbconvert_exporter": "python",
   "pygments_lexer": "ipython3",
   "version": "3.12.4"
  }
 },
 "nbformat": 4,
 "nbformat_minor": 5
}
