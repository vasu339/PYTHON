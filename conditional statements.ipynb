{
 "cells": [
  {
   "cell_type": "code",
   "execution_count": 146,
   "id": "96925cc8-2075-479a-ade8-4f82935f348c",
   "metadata": {},
   "outputs": [
    {
     "name": "stdout",
     "output_type": "stream",
     "text": [
      "wellcome to vasu resturant\n",
      "select from menu card\n",
      "click on 7 for veg items\n",
      "click on 8 for non veg items\n"
     ]
    },
    {
     "name": "stdin",
     "output_type": "stream",
     "text": [
      "enter the  code here 8\n"
     ]
    },
    {
     "name": "stdout",
     "output_type": "stream",
     "text": [
      "Your item  is present in the list.\n",
      "non_veg_items : ['chicken curry', 'mutton biryani', 'fish fry', 'prawn masala', 'egg curry']\n",
      "select the non_veg item from above list\n"
     ]
    },
    {
     "name": "stdin",
     "output_type": "stream",
     "text": [
      "enter the item :  chicken curry\n"
     ]
    },
    {
     "name": "stdout",
     "output_type": "stream",
     "text": [
      "Your item  is present in the list.\n"
     ]
    }
   ],
   "source": [
    "#conditional statement\n",
    "#creating resturant data\n",
    "\n",
    "print(\"wellcome to vasu resturant\")\n",
    "print(\"select from menu card\")\n",
    "print(\"click on 7 for veg items\")\n",
    "print(\"click on 8 for non veg items\")\n",
    "code=int(input(\"enter the  code here\"))\n",
    "\n",
    "veg_items = [\"salad\", \"paneer tikka\", \"aloo gobi\", \"vegetable biryani\", \"dal tadka\"]\n",
    "non_veg = [\"chicken curry\", \"mutton biryani\", \"fish fry\", \"prawn masala\", \"egg curry\"]\n",
    "if code == 7:\n",
    "    \n",
    "    print(\"veg_items :\", f\"{veg_items}\")\n",
    "    print(\"select the veg item from above list\")\n",
    "    items_to_check = input(\"enter the item : \")\n",
    "\n",
    "if items_to_check in veg_items:\n",
    "     print(f\"Your item  is present in the list.\")\n",
    "\n",
    "elif items_to_check not in veg_items:\n",
    "    print(f\"Your item  is not present in the list.\") \n",
    "\n",
    "if code == 8:\n",
    "\n",
    "    print(\"non_veg_items :\", f\"{non_veg}\")\n",
    "    print(\"select the non_veg item from above list\")\n",
    "    items_to_check = input(\"enter the item : \")\n",
    "\n",
    "if items_to_check in non_veg:\n",
    "     print(f\"Your item  is present in the list.\")\n",
    "\n",
    "    \n",
    "elif items_to_check not in non_veg:\n",
    "    print(f\"Your item  is not present in the list.\")\n",
    "\n",
    "else:\n",
    "    print(\"VISIT AGAIN\") \n",
    "\n",
    "\n",
    "    "
   ]
  },
  {
   "cell_type": "code",
   "execution_count": 114,
   "id": "a629c0a3-b065-4638-8ccc-e4105a027b59",
   "metadata": {},
   "outputs": [
    {
     "name": "stdout",
     "output_type": "stream",
     "text": [
      "Ages 18 and older: [34, 78, 23, 100, 91, 104, 205, 45]\n",
      "Ages under 18: [5, 1]\n"
     ]
    }
   ],
   "source": [
    "#checking ages are eligible to vote or not\n",
    "\n",
    "ages=[34,5,78,23,100,91,104,205,45,1,9,3]\n",
    "\n",
    "#create two empty list\n",
    "adults = []\n",
    "minors = []\n",
    "\n",
    "# Check each age manually and append to the appropriate list\n",
    "if ages[0] >= 18:\n",
    "    adults.append(ages[0])\n",
    "else:\n",
    "    minors.append(ages[0])\n",
    "\n",
    "if ages[1] >= 18:\n",
    "    adults.append(ages[1])\n",
    "else:\n",
    "    minors.append(ages[1])\n",
    "\n",
    "if ages[2] >= 18:\n",
    "    adults.append(ages[2])\n",
    "else:\n",
    "    minors.append(ages[2])\n",
    "\n",
    "if ages[3] >= 18:\n",
    "    adults.append(ages[3])\n",
    "else:\n",
    "    minors.append(ages[3])\n",
    "\n",
    "if ages[4] >= 18:\n",
    "    adults.append(ages[4])\n",
    "else:\n",
    "    minors.append(ages[4])\n",
    "\n",
    "if ages[5] >= 18:\n",
    "    adults.append(ages[5])\n",
    "else:\n",
    "    minors.append(ages[5])\n",
    "\n",
    "if ages[6] >= 18:\n",
    "    adults.append(ages[6])\n",
    "else:\n",
    "    minors.append(ages[6])\n",
    "\n",
    "if ages[7] >= 18:\n",
    "    adults.append(ages[7])\n",
    "else:\n",
    "    minors.append(ages[7])\n",
    "\n",
    "if ages[8] >= 18:\n",
    "    adults.append(ages[8])\n",
    "else:\n",
    "    minors.append(ages[8])\n",
    "\n",
    "if ages[9] >= 18:\n",
    "    adults.append(ages[9])\n",
    "else:\n",
    "    minors.append(ages[9])\n",
    "\n",
    "\n",
    "# Print the results\n",
    "print(\"Ages 18 and older:\", adults)\n",
    "print(\"Ages under 18:\", minors)"
   ]
  },
  {
   "cell_type": "code",
   "execution_count": 124,
   "id": "65774230-1a99-42a4-ab49-230e4ec65170",
   "metadata": {},
   "outputs": [
    {
     "name": "stdin",
     "output_type": "stream",
     "text": [
      "Enter the score (0-100):  67\n"
     ]
    },
    {
     "name": "stdout",
     "output_type": "stream",
     "text": [
      "The grade for a score of 67 is: D\n"
     ]
    }
   ],
   "source": [
    "#grading system\n",
    "\n",
    "# Get the score from the user\n",
    "score = int(input(\"Enter the score (0-100): \"))\n",
    "\n",
    "# Validate the score\n",
    "if  score <= 100 and score >= 0:\n",
    "    # Determine the grade based on the score\n",
    "    if score >= 90:\n",
    "        grade = 'A'\n",
    "    elif score >= 80:\n",
    "        grade = 'B'\n",
    "    elif score >= 70:\n",
    "        grade = 'C'\n",
    "    elif score >= 60:\n",
    "        grade = 'D'\n",
    "    elif score >= 50:\n",
    "        grade = 'E'\n",
    "    else:\n",
    "        grade = 'F'\n",
    "    \n",
    "    # Print the grade\n",
    "    print(f\"The grade for a score of {score} is: {grade}\")\n",
    "else:\n",
    "    print(\"Invalid score. Please enter a number between 0 and 100.\")\n"
   ]
  }
 ],
 "metadata": {
  "kernelspec": {
   "display_name": "Python 3 (ipykernel)",
   "language": "python",
   "name": "python3"
  },
  "language_info": {
   "codemirror_mode": {
    "name": "ipython",
    "version": 3
   },
   "file_extension": ".py",
   "mimetype": "text/x-python",
   "name": "python",
   "nbconvert_exporter": "python",
   "pygments_lexer": "ipython3",
   "version": "3.12.4"
  }
 },
 "nbformat": 4,
 "nbformat_minor": 5
}
