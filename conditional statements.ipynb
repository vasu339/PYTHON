{
 "cells": [
  {
   "cell_type": "code",
   "execution_count": 5,
   "id": "c48d367a-fdd0-4b24-823f-0b4d1380fdfa",
   "metadata": {},
   "outputs": [
    {
     "name": "stdin",
     "output_type": "stream",
     "text": [
      "enter the number 8\n"
     ]
    },
    {
     "name": "stdout",
     "output_type": "stream",
     "text": [
      "8 is a Even number\n"
     ]
    }
   ],
   "source": [
    "#cheking odd or even\n",
    "\n",
    "user_input = int(input(\"enter the number\"))\n",
    "\n",
    "if user_input % 2 == 0: \n",
    "    print( user_input,\"is a Even number\")\n",
    "\n",
    "else:\n",
    "    print(user_input, \"is a odd number\")\n",
    "\n"
   ]
  },
  {
   "cell_type": "code",
   "execution_count": 7,
   "id": "f414a1d7-21cf-441d-beb6-0093f4e7b218",
   "metadata": {},
   "outputs": [
    {
     "name": "stdout",
     "output_type": "stream",
     "text": [
      "wellcome to vasu resturant\n"
     ]
    },
    {
     "name": "stdin",
     "output_type": "stream",
     "text": [
      "enter the  fooditem here : salad\n"
     ]
    },
    {
     "name": "stdout",
     "output_type": "stream",
     "text": [
      "your order will ready salad\n"
     ]
    }
   ],
   "source": [
    "#conditional statement\n",
    "#creating resturant data\n",
    "\n",
    "print(\"wellcome to vasu resturant\")\n",
    "\n",
    "x=(input(\"enter the  fooditem here :\"))\n",
    "\n",
    "veg_items = [\"salad\", \"paneer tikka\", \"aloo gobi\", \"vegetable biryani\", \"dal tadka\"]\n",
    "non_veg = [\"chicken curry\", \"mutton biryani\",  \"prawn masala\", \"egg curry\"]\n",
    "if x in veg_items:\n",
    "    print(\"your order will ready\", )\n",
    "\n",
    "elif x in non_veg:\n",
    "    print(\"your order will ready\", )\n",
    "\n",
    "else:\n",
    "    print(x, \"is not there in our list\")"
   ]
  },
  {
   "cell_type": "code",
   "execution_count": 15,
   "id": "6814f596-3414-429d-ba2a-3a26353e721c",
   "metadata": {},
   "outputs": [
    {
     "name": "stdin",
     "output_type": "stream",
     "text": [
      "enter the first number 5\n",
      "enter the second number 50\n"
     ]
    },
    {
     "name": "stdout",
     "output_type": "stream",
     "text": [
      "the larger number is : 50\n"
     ]
    }
   ],
   "source": [
    "#\n",
    "\n",
    "num1 = int(input(\"enter the first number\"))\n",
    "num2 = int(input(\"enter the second number\"))\n",
    "\n",
    "if num1 > num2:\n",
    "    print(\"the larger number is :\", num1)\n",
    "\n",
    "elif num2 > num1:\n",
    "    print(\"the larger number is :\", num2)\n",
    "\n",
    "else:\n",
    "    print(\"enter a valid integer\")\n",
    "    "
   ]
  },
  {
   "cell_type": "code",
   "execution_count": 21,
   "id": "1df6ab92-e2df-40da-973e-9c3d90faf8ef",
   "metadata": {},
   "outputs": [
    {
     "name": "stdin",
     "output_type": "stream",
     "text": [
      "enter the character A\n"
     ]
    },
    {
     "name": "stdout",
     "output_type": "stream",
     "text": [
      "A is vowels\n"
     ]
    }
   ],
   "source": [
    "#\n",
    "\n",
    "char = input(\"enter the character\")\n",
    "\n",
    "if char in ('a','e','i','o','u', 'A', 'E','I','O','u'):\n",
    "    print(char ,\"is vowels\"  )\n",
    "\n",
    "else:\n",
    "    print(char,\"is consonant\")\n"
   ]
  },
  {
   "cell_type": "code",
   "execution_count": 41,
   "id": "6b0b7d96-5f62-4b49-a713-6fde42967963",
   "metadata": {},
   "outputs": [
    {
     "name": "stdin",
     "output_type": "stream",
     "text": [
      "enter the year : 2021\n"
     ]
    },
    {
     "name": "stdout",
     "output_type": "stream",
     "text": [
      "2021 is not a leap year\n"
     ]
    }
   ],
   "source": [
    "#leap yaer\n",
    "\n",
    "year = int(input(\"enter the year :\"))\n",
    "\n",
    "if year % 4 == 0:\n",
    "    print(year, \"is a leap year\")\n",
    "\n",
    "\n",
    "else:\n",
    "    print(year,\"is not a leap year\")\n",
    "    "
   ]
  },
  {
   "cell_type": "code",
   "execution_count": 3,
   "id": "3f244b83-ee29-4c58-afa7-3b9b53703308",
   "metadata": {},
   "outputs": [
    {
     "name": "stdin",
     "output_type": "stream",
     "text": [
      "Enter a grade (A, B, C, D, or F):  A\n"
     ]
    },
    {
     "name": "stdout",
     "output_type": "stream",
     "text": [
      "Pass\n"
     ]
    }
   ],
   "source": [
    "# Taking a grade as input from the user\n",
    "grade = input(\"Enter a grade (A, B, C, D, or F): \")\n",
    "\n",
    "# Checking if the grade is valid and printing the appropriate message\n",
    "if grade in ('A', 'B', 'C', 'D'):\n",
    "    print(\"Pass\")\n",
    "elif grade == 'F':\n",
    "    print(\"Fail\")\n",
    "else:\n",
    "    print(\"Invalid grade. Please enter A, B, C, D, or F.\")\n"
   ]
  },
  {
   "cell_type": "code",
   "execution_count": 45,
   "id": "36cf0eba-45dc-4140-a980-e72df604c8e9",
   "metadata": {},
   "outputs": [
    {
     "name": "stdout",
     "output_type": "stream",
     "text": [
      "40 is largest\n"
     ]
    }
   ],
   "source": [
    "num1 = 1\n",
    "num2 = 40\n",
    "num3 = 10\n",
    "\n",
    "if num1 > num1 and num1 > num3:\n",
    "    print(num1,\"is largest\")\n",
    "\n",
    "elif num2 > num1 and num2 > num3:\n",
    "    print(num2,\"is largest\")\n",
    "\n",
    "else:\n",
    "    print(\"largest num is \", num3)\n",
    "    "
   ]
  },
  {
   "cell_type": "code",
   "execution_count": 25,
   "id": "abf4a144-5b40-46b7-aa82-942b82c61a3d",
   "metadata": {},
   "outputs": [
    {
     "name": "stdout",
     "output_type": "stream",
     "text": [
      "2 is smallest\n"
     ]
    }
   ],
   "source": [
    "num1 = 50\n",
    "num2 = 2\n",
    "num3 = 10\n",
    "\n",
    "if num1 < num1 and num1 < num3:\n",
    "    print(num1,\"is smallest\")\n",
    "\n",
    "elif num2 < num1 and num2 < num3:\n",
    "    print(num2,\"is smallest\")\n",
    "\n",
    "else:\n",
    "    print(\"smallest num is \", num3)"
   ]
  },
  {
   "cell_type": "code",
   "execution_count": 57,
   "id": "42b0b772-ceba-430f-932c-0be711b471e5",
   "metadata": {},
   "outputs": [
    {
     "name": "stdin",
     "output_type": "stream",
     "text": [
      "enter a string : amma\n"
     ]
    },
    {
     "name": "stdout",
     "output_type": "stream",
     "text": [
      "amma is a palindrome\n"
     ]
    }
   ],
   "source": [
    "# palindrome\n",
    "\n",
    "str= input(\"enter a string :\")\n",
    "\n",
    "if  str==str[::-1]:\n",
    "    print(str, \"is a palindrome\")\n",
    "\n",
    "else:\n",
    "    print(str, \"is not a palindrome\")\n",
    "    \n",
    "\n",
    "    "
   ]
  },
  {
   "cell_type": "code",
   "execution_count": 69,
   "id": "c8c4a608-567e-4fd1-b790-853eb7a699a7",
   "metadata": {},
   "outputs": [
    {
     "name": "stdin",
     "output_type": "stream",
     "text": [
      "enter a number 67\n"
     ]
    },
    {
     "name": "stdout",
     "output_type": "stream",
     "text": [
      "152.6 is the corresponding fahrenheit value of 67.0\n"
     ]
    }
   ],
   "source": [
    "#cellius to fahrenheit\n",
    "\n",
    "c = float(input(\"enter a number\"))\n",
    "\n",
    "f = (c*9/5)+32\n",
    "print(f, \"is the corresponding fahrenheit value of\",c)"
   ]
  },
  {
   "cell_type": "code",
   "execution_count": 83,
   "id": "94e2b03f-970d-4c0c-88c9-55d67825797d",
   "metadata": {},
   "outputs": [
    {
     "name": "stdout",
     "output_type": "stream",
     "text": [
      "Months are :\n",
      "1.January\n",
      "2.February\n",
      "3.March\n",
      "4.April\n",
      "5.May\n",
      "6.June\n",
      "7.July\n",
      "8.August\n",
      "9.September\n",
      "10.October\n",
      "11.November\n",
      "12.December\n"
     ]
    },
    {
     "name": "stdin",
     "output_type": "stream",
     "text": [
      "Enter the number of a particular month to get the number of days :  7\n"
     ]
    },
    {
     "name": "stdout",
     "output_type": "stream",
     "text": [
      "There are 31 days in 7 month\n"
     ]
    }
   ],
   "source": [
    "number_month_of_31 = [1,3,5,7,8,10,12]\n",
    "number_month_of_30 = [4,6,9,11]\n",
    "number_month_of_28 = [2]\n",
    "print(\"Months are :\\n1.January\\n2.February\\n3.March\\n4.April\\n5.May\\n6.June\\n7.July\\n8.August\\n9.September\\n10.October\\n11.November\\n12.December\")\n",
    "number_month = int(input(\"Enter the number of a particular month to get the number of days : \"))\n",
    "if number_month in number_month_of_31:\n",
    "    print(f\"There are 31 days in {number_month} month\")\n",
    "elif number_month in number_month_of_30:\n",
    "     print(f\"There are 30 days in {number_month} month\")\n",
    "elif number_month in number_month_of_28:\n",
    "     print(f\"There are 28 days in {number_month} month\")\n",
    "else :\n",
    "    print(\"Enter numbers from 1 to 12\")"
   ]
  },
  {
   "cell_type": "code",
   "execution_count": 1,
   "id": "a29fcb03-9920-4de1-8751-0b63209e380a",
   "metadata": {},
   "outputs": [
    {
     "name": "stdout",
     "output_type": "stream",
     "text": [
      "Ages 18 and older: [34, 78, 23, 100, 91, 104, 205, 45]\n",
      "Ages under 18: [5, 1]\n"
     ]
    }
   ],
   "source": [
    "#checking ages are eligible to vote or not\n",
    "\n",
    "ages=[34,5,78,23,100,91,104,205,45,1,9,3]\n",
    "\n",
    "#create two empty list\n",
    "adults = []\n",
    "minors = []\n",
    "\n",
    "# Check each age manually and append to the appropriate list\n",
    "if ages[0] >= 18:\n",
    "    adults.append(ages[0])\n",
    "else:\n",
    "    minors.append(ages[0])\n",
    "\n",
    "if ages[1] >= 18:\n",
    "    adults.append(ages[1])\n",
    "else:\n",
    "    minors.append(ages[1])\n",
    "\n",
    "if ages[2] >= 18:\n",
    "    adults.append(ages[2])\n",
    "else:\n",
    "    minors.append(ages[2])\n",
    "\n",
    "if ages[3] >= 18:\n",
    "    adults.append(ages[3])\n",
    "else:\n",
    "    minors.append(ages[3])\n",
    "\n",
    "if ages[4] >= 18:\n",
    "    adults.append(ages[4])\n",
    "else:\n",
    "    minors.append(ages[4])\n",
    "\n",
    "if ages[5] >= 18:\n",
    "    adults.append(ages[5])\n",
    "else:\n",
    "    minors.append(ages[5])\n",
    "\n",
    "if ages[6] >= 18:\n",
    "    adults.append(ages[6])\n",
    "else:\n",
    "    minors.append(ages[6])\n",
    "\n",
    "if ages[7] >= 18:\n",
    "    adults.append(ages[7])\n",
    "else:\n",
    "    minors.append(ages[7])\n",
    "\n",
    "if ages[8] >= 18:\n",
    "    adults.append(ages[8])\n",
    "else:\n",
    "    minors.append(ages[8])\n",
    "\n",
    "if ages[9] >= 18:\n",
    "    adults.append(ages[9])\n",
    "else:\n",
    "    minors.append(ages[9])\n",
    "\n",
    "\n",
    "# Print the results\n",
    "print(\"Ages 18 and older:\", adults)\n",
    "print(\"Ages under 18:\", minors)"
   ]
  },
  {
   "cell_type": "code",
   "execution_count": 3,
   "id": "85678197-f4cc-4fb8-8fef-7f939dcf9c4c",
   "metadata": {},
   "outputs": [
    {
     "name": "stdin",
     "output_type": "stream",
     "text": [
      "Enter the score (0-100):  80\n"
     ]
    },
    {
     "name": "stdout",
     "output_type": "stream",
     "text": [
      "The grade for a score of 80 is: B\n"
     ]
    }
   ],
   "source": [
    "#grading system\n",
    "\n",
    "# Get the score from the user\n",
    "score = int(input(\"Enter the score (0-100): \"))\n",
    "\n",
    "# Validate the score\n",
    "if  score <= 100 and score >= 0:\n",
    "    # Determine the grade based on the score\n",
    "    if score >= 90:\n",
    "        grade = 'A'\n",
    "    elif score >= 80:\n",
    "        grade = 'B'\n",
    "    elif score >= 70:\n",
    "        grade = 'C'\n",
    "    elif score >= 60:\n",
    "        grade = 'D'\n",
    "    elif score >= 50:\n",
    "        grade = 'E'\n",
    "    else:\n",
    "        grade = 'F'\n",
    "    \n",
    "    # Print the grade\n",
    "    print(f\"The grade for a score of {score} is: {grade}\")\n",
    "else:\n",
    "    print(\"Invalid score. Please enter a number between 0 and 100.\")"
   ]
  },
  {
   "cell_type": "code",
   "execution_count": null,
   "id": "040590b2-2909-4aeb-af8a-65877683fbfa",
   "metadata": {},
   "outputs": [],
   "source": []
  }
 ],
 "metadata": {
  "kernelspec": {
   "display_name": "Python 3 (ipykernel)",
   "language": "python",
   "name": "python3"
  },
  "language_info": {
   "codemirror_mode": {
    "name": "ipython",
    "version": 3
   },
   "file_extension": ".py",
   "mimetype": "text/x-python",
   "name": "python",
   "nbconvert_exporter": "python",
   "pygments_lexer": "ipython3",
   "version": "3.12.4"
  }
 },
 "nbformat": 4,
 "nbformat_minor": 5
}
