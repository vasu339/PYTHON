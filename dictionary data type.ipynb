{
 "cells": [
  {
   "cell_type": "markdown",
   "id": "afd0df79-dde7-4b77-a8d6-831765c200eb",
   "metadata": {},
   "source": [
    "# dictionary dtata type"
   ]
  },
  {
   "cell_type": "code",
   "execution_count": 4,
   "id": "04c8f4cb-9ba1-49ca-a80f-7cde17a86f3e",
   "metadata": {},
   "outputs": [
    {
     "name": "stdout",
     "output_type": "stream",
     "text": [
      "{}\n"
     ]
    }
   ],
   "source": [
    "#creating empty dictionary\n",
    "\n",
    "dict_empty={}\n",
    "print(dict_empty)"
   ]
  },
  {
   "cell_type": "code",
   "execution_count": 12,
   "id": "a988da68-d575-4f26-a3ea-cfe1a8dfe9ce",
   "metadata": {},
   "outputs": [],
   "source": [
    "#comman useage\n",
    "stu={\n",
    "     \"name\":\"reddy\",     #key:value\n",
    "      \"age\":21,\n",
    "      \"height\":5.7\n",
    "     }"
   ]
  },
  {
   "cell_type": "code",
   "execution_count": 26,
   "id": "260b0ed5-67a3-45b0-a48c-eafad00832e4",
   "metadata": {},
   "outputs": [
    {
     "name": "stdout",
     "output_type": "stream",
     "text": [
      "vasu\n",
      "734 60000\n"
     ]
    }
   ],
   "source": [
    "#access the elements\n",
    "\n",
    "emp={\"name\":\"vasu\",\n",
    "     \"age\":50,\n",
    "     \"emp_id\":734,\n",
    "     \"salary\":60000\n",
    "    }\n",
    "print(emp[\"name\"])\n",
    "print(emp[\"emp_id\"],emp[\"salary\"])\n"
   ]
  },
  {
   "cell_type": "code",
   "execution_count": 32,
   "id": "745f424d-7244-436a-98bd-f00299cb8e9d",
   "metadata": {},
   "outputs": [
    {
     "name": "stdout",
     "output_type": "stream",
     "text": [
      "{'maths': 95, 'physics': 90, 'chemistry': 85}\n"
     ]
    }
   ],
   "source": [
    "#modifying and adding elements\n",
    "\n",
    "marks={\"maths\":79,\"physics\":90,\"chemistry\":85}\n",
    "#modify\n",
    "marks[\"maths\"]=95\n",
    "print(marks)"
   ]
  },
  {
   "cell_type": "code",
   "execution_count": 34,
   "id": "a6b7f035-b99f-4f1c-b90a-d09a5f4965a6",
   "metadata": {},
   "outputs": [
    {
     "name": "stdout",
     "output_type": "stream",
     "text": [
      "{'maths': 95, 'physics': 90, 'chemistry': 70}\n"
     ]
    }
   ],
   "source": [
    "marks[\"chemistry\"]=70\n",
    "print(marks)"
   ]
  },
  {
   "cell_type": "code",
   "execution_count": 42,
   "id": "f848d3bf-dacb-4a91-8d23-9be6d856195e",
   "metadata": {},
   "outputs": [
    {
     "name": "stdout",
     "output_type": "stream",
     "text": [
      "{'name': 'vasu', 'age': 21, 'class': 'b.tech', 'gender': 'male'}\n"
     ]
    }
   ],
   "source": [
    "#adding\n",
    "\n",
    "stu={\"name\":\"vasu\",\n",
    "     \"age\":21,\n",
    "     \"class\":\"b.tech\"\n",
    "    }\n",
    "stu[\"gender\"]=\"male\"\n",
    "print(stu)"
   ]
  },
  {
   "cell_type": "code",
   "execution_count": 40,
   "id": "835a9702-ed66-4bad-b55e-86b427c33186",
   "metadata": {},
   "outputs": [
    {
     "name": "stdout",
     "output_type": "stream",
     "text": [
      "{'name': 'vasu', 'age': 21, 'class': 'b.tech', 'gender': 'male', 'roll.no': 734}\n"
     ]
    }
   ],
   "source": [
    "stu[\"roll.no\"]=734\n",
    "print(stu)"
   ]
  },
  {
   "cell_type": "code",
   "execution_count": 64,
   "id": "0181d4be-6353-455c-b2cd-b2d1e00f2ff6",
   "metadata": {},
   "outputs": [
    {
     "name": "stdout",
     "output_type": "stream",
     "text": [
      "67\n",
      "75\n",
      "Phill\n",
      "22\n",
      "None\n",
      "60000\n",
      "None\n"
     ]
    },
    {
     "ename": "KeyError",
     "evalue": "'salary'",
     "output_type": "error",
     "traceback": [
      "\u001b[1;31m---------------------------------------------------------------------------\u001b[0m",
      "\u001b[1;31mKeyError\u001b[0m                                  Traceback (most recent call last)",
      "Cell \u001b[1;32mIn[64], line 24\u001b[0m\n\u001b[0;32m     22\u001b[0m person \u001b[38;5;241m=\u001b[39m {}\n\u001b[0;32m     23\u001b[0m \u001b[38;5;28mprint\u001b[39m(person\u001b[38;5;241m.\u001b[39mget(\u001b[38;5;124m'\u001b[39m\u001b[38;5;124msalary\u001b[39m\u001b[38;5;124m'\u001b[39m))\n\u001b[1;32m---> 24\u001b[0m \u001b[38;5;28mprint\u001b[39m(person[\u001b[38;5;124m'\u001b[39m\u001b[38;5;124msalary\u001b[39m\u001b[38;5;124m'\u001b[39m])\n",
      "\u001b[1;31mKeyError\u001b[0m: 'salary'"
     ]
    }
   ],
   "source": [
    "#dictionary methos()\n",
    "#get()\n",
    "\n",
    "scores = {\n",
    "    'Physics': 67, \n",
    "    'Maths': 87,\n",
    "    'History': 75\n",
    "}\n",
    "result=scores.get('Physics')\n",
    "print(result)\n",
    "\n",
    "result1=scores.get('History')\n",
    "print(result1)\n",
    "\n",
    "person = {'name': 'Phill', 'age': 22}\n",
    "print(person.get('name'))\n",
    "print(person.get('age'))\n",
    "\n",
    "print(person.get('salary'))\n",
    "print(person.get('salary',60000))\n",
    "\n",
    "person = {}\n",
    "print(person.get('salary'))\n",
    "print(person['salary'])     #using[]\n"
   ]
  },
  {
   "cell_type": "code",
   "execution_count": 94,
   "id": "f6b9a369-9aa7-4a48-a15e-3fc3c5af798b",
   "metadata": {},
   "outputs": [
    {
     "name": "stdout",
     "output_type": "stream",
     "text": [
      "dict_keys([1, 2, 3])\n",
      "dict_keys(['Physics', 'Maths', 'History'])\n",
      "dict_keys(['name', 'age', 'salary'])\n"
     ]
    }
   ],
   "source": [
    "#key()\n",
    "\n",
    "numbers = {1: 'one', 2: 'two', 3: 'three'}\n",
    "dictionaryKeys = numbers.keys()\n",
    "\n",
    "print(dictionaryKeys)\n",
    "\n",
    "scores = {\n",
    "    'Physics': 67, \n",
    "    'Maths': 87,\n",
    "    'History': 75\n",
    "}\n",
    "dict_keys=scores.keys()\n",
    "print(dict_keys)\n",
    "\n",
    "employee = {'name': 'Phill', 'age': 22, 'salary': 3500.0}\n",
    "\n",
    "dictionaryKeys = employee.keys()\n",
    "\n",
    "print(dictionaryKeys)\n",
    "\n"
   ]
  },
  {
   "cell_type": "code",
   "execution_count": 98,
   "id": "98f44c8f-289c-41bc-a2cc-6fc556c309e9",
   "metadata": {},
   "outputs": [
    {
     "name": "stdout",
     "output_type": "stream",
     "text": [
      "dict_values([67, 87])\n",
      "dict_values([2, 3, 4])\n",
      "Original items: dict_values([2, 3, 4])\n",
      "Updated items: dict_values([3, 4])\n"
     ]
    }
   ],
   "source": [
    "#values\n",
    "\n",
    "marks = {'Physics':67, 'Maths':87}\n",
    "\n",
    "print(marks.values())\n",
    "\n",
    "sales = { 'apple': 2, 'orange': 3, 'grapes': 4 }\n",
    "\n",
    "print(sales.values())\n",
    "\n",
    "sales = { 'apple': 2, 'orange': 3, 'grapes': 4 }\n",
    "\n",
    "values = sales.values()\n",
    "\n",
    "print('Original items:', values)\n",
    "\n",
    "# delete an item from dictionary\n",
    "del[sales['apple']]\n",
    "\n",
    "print('Updated items:', values)"
   ]
  },
  {
   "cell_type": "code",
   "execution_count": 102,
   "id": "f1592d8a-4aee-409e-8003-6c1966ed52bd",
   "metadata": {},
   "outputs": [
    {
     "name": "stdout",
     "output_type": "stream",
     "text": [
      "dict_items([('Physics', 67), ('Maths', 87)])\n",
      "Original items: dict_items([('apple', 2), ('orange', 3), ('grapes', 4)])\n",
      "Updated items: dict_items([('orange', 3), ('grapes', 4)])\n"
     ]
    }
   ],
   "source": [
    "#items()\n",
    "\n",
    "marks = {'Physics':67, 'Maths':87}\n",
    "\n",
    "print(marks.items())\n",
    "\n",
    "sales = { 'apple': 2, 'orange': 3, 'grapes': 4 }\n",
    "\n",
    "items = sales.items()\n",
    "\n",
    "print('Original items:', items)\n",
    "\n",
    "# delete an item from dictionary\n",
    "del[sales['apple']]\n",
    "\n",
    "print('Updated items:', items)\n",
    "\n"
   ]
  },
  {
   "cell_type": "code",
   "execution_count": 114,
   "id": "bbc7831e-0f7c-4443-99fc-88eee536ad08",
   "metadata": {},
   "outputs": [
    {
     "name": "stdout",
     "output_type": "stream",
     "text": [
      "72\n",
      "2\n",
      "{'orange': 3, 'grapes': 4}\n"
     ]
    },
    {
     "ename": "KeyError",
     "evalue": "'guava'",
     "output_type": "error",
     "traceback": [
      "\u001b[1;31m---------------------------------------------------------------------------\u001b[0m",
      "\u001b[1;31mKeyError\u001b[0m                                  Traceback (most recent call last)",
      "Cell \u001b[1;32mIn[114], line 15\u001b[0m\n\u001b[0;32m     12\u001b[0m \u001b[38;5;28mprint\u001b[39m(sales)\n\u001b[0;32m     14\u001b[0m sales \u001b[38;5;241m=\u001b[39m { \u001b[38;5;124m'\u001b[39m\u001b[38;5;124mapple\u001b[39m\u001b[38;5;124m'\u001b[39m: \u001b[38;5;241m2\u001b[39m, \u001b[38;5;124m'\u001b[39m\u001b[38;5;124morange\u001b[39m\u001b[38;5;124m'\u001b[39m: \u001b[38;5;241m3\u001b[39m, \u001b[38;5;124m'\u001b[39m\u001b[38;5;124mgrapes\u001b[39m\u001b[38;5;124m'\u001b[39m: \u001b[38;5;241m4\u001b[39m }\n\u001b[1;32m---> 15\u001b[0m element \u001b[38;5;241m=\u001b[39m sales\u001b[38;5;241m.\u001b[39mpop(\u001b[38;5;124m'\u001b[39m\u001b[38;5;124mguava\u001b[39m\u001b[38;5;124m'\u001b[39m)\n\u001b[0;32m     16\u001b[0m \u001b[38;5;28mprint\u001b[39m(elements)\n",
      "\u001b[1;31mKeyError\u001b[0m: 'guava'"
     ]
    }
   ],
   "source": [
    "#pop()\n",
    "\n",
    "marks = { 'Physics': 67, 'Chemistry': 72, 'Math': 89 }\n",
    "element = marks.pop('Chemistry')\n",
    "print( element)\n",
    "\n",
    "sales = { 'apple': 2, 'orange': 3, 'grapes': 4 }\n",
    "\n",
    "element = sales.pop('apple')\n",
    "\n",
    "print(element)\n",
    "print(sales)\n",
    "\n",
    "sales = { 'apple': 2, 'orange': 3, 'grapes': 4 }\n",
    "element = sales.pop('guava')\n",
    "print(elements)"
   ]
  },
  {
   "cell_type": "code",
   "execution_count": 120,
   "id": "6062faaf-a0d9-401a-ad4d-30d48dfd0b7f",
   "metadata": {},
   "outputs": [
    {
     "name": "stdout",
     "output_type": "stream",
     "text": [
      "('salary', 3500.0)\n",
      "{'name': 'Phill', 'age': 22}\n",
      "Return Value =  ('salary', 3500.0)\n",
      "person =  {'name': 'Phill', 'age': 22, 'profession': 'Plumber'}\n"
     ]
    }
   ],
   "source": [
    "#popitems()\n",
    "\n",
    "person = {'name': 'Phill', 'age': 22, 'salary': 3500.0}\n",
    "result = person.popitem()\n",
    "\n",
    "print(result)\n",
    "print(person)\n",
    "\n",
    "person['profession'] = 'Plumber'\n",
    "\n",
    "print('Return Value = ', result)\n",
    "print('person = ', person)"
   ]
  },
  {
   "cell_type": "code",
   "execution_count": 128,
   "id": "f85551a4-5596-4c7a-98ec-d6f68891598e",
   "metadata": {},
   "outputs": [
    {
     "name": "stdout",
     "output_type": "stream",
     "text": [
      "{'Physics': 67, 'Maths': 87, 'Practical': 48}\n",
      "{1: 'one', 2: 'two'}\n",
      "{1: 'one', 2: 'two', 3: 'three'}\n",
      "{'x': 2, 'y': 3, 'z': 0}\n"
     ]
    }
   ],
   "source": [
    "#update\n",
    "\n",
    "marks = {'Physics':67, 'Maths':87}\n",
    "internal_marks = {'Practical':48}\n",
    "marks.update(internal_marks)\n",
    "print(marks)\n",
    "\n",
    "d = {1: \"one\", 2: \"three\"}\n",
    "d1 = {2: \"two\"}\n",
    "# updates the value of key 2\n",
    "d.update(d1)\n",
    "print(d)\n",
    "\n",
    "d1 = {3: \"three\"}\n",
    "# adds element with key 3\n",
    "d.update(d1)\n",
    "print(d)\n",
    "\n",
    "dictionary = {'x': 2}\n",
    "\n",
    "dictionary.update([('y', 3), ('z', 0)])\n",
    "print(dictionary)\n"
   ]
  },
  {
   "cell_type": "code",
   "execution_count": 132,
   "id": "9536aa9c-5eec-4ccd-a021-1f4b9bc8d134",
   "metadata": {},
   "outputs": [
    {
     "name": "stdout",
     "output_type": "stream",
     "text": [
      "{}\n",
      "Dictionary before clear(): {'New York': 18, 'Texas': 26}\n",
      "Dictionary after clear(): {}\n"
     ]
    }
   ],
   "source": [
    "#clear()\n",
    "\n",
    "# dictionary\n",
    "numbers = {1: \"one\", 2: \"two\"}\n",
    "numbers.clear()\n",
    "print(numbers)\n",
    "\n",
    "cityTemperature = {\"New York\": 18, \"Texas\": 26}\n",
    "print(\"Dictionary before clear():\", cityTemperature)\n",
    "\n",
    "# removes all the items from the dictionary\n",
    "cityTemperature.clear()\n",
    "print(\"Dictionary after clear():\", cityTemperature)"
   ]
  },
  {
   "cell_type": "code",
   "execution_count": 136,
   "id": "c8b70eec-bdad-4ec3-9e47-ffb898740bc7",
   "metadata": {},
   "outputs": [
    {
     "name": "stdout",
     "output_type": "stream",
     "text": [
      "Original Marks: {'Physics': 67, 'Maths': 87}\n",
      "Copied Marks: {'Physics': 67, 'Maths': 87}\n",
      "Orignal:  {1: 'one', 2: 'two'}\n",
      "New:  {1: 'one', 2: 'two'}\n"
     ]
    }
   ],
   "source": [
    "#copy()\n",
    "\n",
    "original_marks = {'Physics':67, 'Maths':87}\n",
    "copied_marks = original_marks.copy()\n",
    "\n",
    "print('Original Marks:', original_marks)\n",
    "print('Copied Marks:', copied_marks)\n",
    "\n",
    "original = {1:'one', 2:'two'}\n",
    "new = original.copy()\n",
    "\n",
    "print('Orignal: ', original)\n",
    "print('New: ', new)"
   ]
  },
  {
   "cell_type": "code",
   "execution_count": 140,
   "id": "0aa840b9-432e-4d8a-afda-db3142d07210",
   "metadata": {},
   "outputs": [
    {
     "name": "stdout",
     "output_type": "stream",
     "text": [
      "{'b': 1, 'a': 1, 'c': 1}\n",
      "{'o': 'vowel', 'e': 'vowel', 'u': 'vowel', 'a': 'vowel', 'i': 'vowel'}\n"
     ]
    }
   ],
   "source": [
    "#fromkeys()\n",
    "\n",
    "# keys for the dictionary\n",
    "alphabets = {'a', 'b', 'c'}\n",
    "number = 1\n",
    "\n",
    "# creates a dictionary with keys and values\n",
    "dictionary = dict.fromkeys(alphabets, number)\n",
    "print(dictionary)\n",
    "\n",
    "# set of vowels\n",
    "keys = {'a', 'e', 'i', 'o', 'u' }\n",
    "value = 'vowel'\n",
    "\n",
    "# creates a dictionary with keys and values\n",
    "vowels = dict.fromkeys(keys, value)\n",
    "print(vowels)"
   ]
  }
 ],
 "metadata": {
  "kernelspec": {
   "display_name": "Python 3 (ipykernel)",
   "language": "python",
   "name": "python3"
  },
  "language_info": {
   "codemirror_mode": {
    "name": "ipython",
    "version": 3
   },
   "file_extension": ".py",
   "mimetype": "text/x-python",
   "name": "python",
   "nbconvert_exporter": "python",
   "pygments_lexer": "ipython3",
   "version": "3.12.4"
  }
 },
 "nbformat": 4,
 "nbformat_minor": 5
}
