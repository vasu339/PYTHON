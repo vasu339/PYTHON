{
 "cells": [
  {
   "cell_type": "markdown",
   "id": "7afb370d-405e-4c5b-835f-4dbd5b2e7ce0",
   "metadata": {},
   "source": [
    "# python variables"
   ]
  },
  {
   "cell_type": "code",
   "execution_count": 15,
   "id": "33199655-3838-49a3-b828-63ec9be30cca",
   "metadata": {},
   "outputs": [
    {
     "name": "stdout",
     "output_type": "stream",
     "text": [
      "vasu\n",
      "21\n",
      "5.7\n",
      "70\n",
      "true\n",
      "hyd\n",
      "9849205677\n",
      "7.7\n",
      "white\n",
      "1j\n",
      "99.99\n",
      "41.4\n"
     ]
    }
   ],
   "source": [
    "#python valid variables\n",
    "\n",
    "name=\"vasu\"\n",
    "age=21\n",
    "height=5.7\n",
    "_weight=70\n",
    "is_student=\"true\"\n",
    "_address=\"hyd\"\n",
    "P_NO=9849205677\n",
    "grade_=7.7\n",
    "colour=\"white\"\n",
    "abc=1j\n",
    "price_=99.99\n",
    "temp=41.4\n",
    "print(name)\n",
    "print(age)\n",
    "print(height)\n",
    "print(_weight)\n",
    "print(is_student)\n",
    "print(_address)\n",
    "print(P_NO)\n",
    "print(grade_)\n",
    "print(colour)\n",
    "print(abc)\n",
    "print(price_)\n",
    "print(temp)"
   ]
  },
  {
   "cell_type": "code",
   "execution_count": null,
   "id": "c4d6146a-f257-4d26-9987-ba002d6623c7",
   "metadata": {},
   "outputs": [],
   "source": [
    "#python"
   ]
  },
  {
   "cell_type": "code",
   "execution_count": null,
   "id": "6f799fdd-4007-457c-9b26-5eb913015e05",
   "metadata": {},
   "outputs": [],
   "source": []
  }
 ],
 "metadata": {
  "kernelspec": {
   "display_name": "Python 3 (ipykernel)",
   "language": "python",
   "name": "python3"
  },
  "language_info": {
   "codemirror_mode": {
    "name": "ipython",
    "version": 3
   },
   "file_extension": ".py",
   "mimetype": "text/x-python",
   "name": "python",
   "nbconvert_exporter": "python",
   "pygments_lexer": "ipython3",
   "version": "3.12.4"
  }
 },
 "nbformat": 4,
 "nbformat_minor": 5
}
