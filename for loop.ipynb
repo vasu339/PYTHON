{
 "cells": [
  {
   "cell_type": "code",
   "execution_count": 5,
   "id": "adf5493c-bd16-4338-b41a-aeb1f334f742",
   "metadata": {},
   "outputs": [
    {
     "name": "stdin",
     "output_type": "stream",
     "text": [
      "enter the number : 7\n"
     ]
    },
    {
     "name": "stdout",
     "output_type": "stream",
     "text": [
      "28\n"
     ]
    }
   ],
   "source": [
    "num = int(input(\"enter the number :\"))\n",
    "sum = 0\n",
    "for i in range(num+1):\n",
    "  sum+=i\n",
    "print(sum)"
   ]
  },
  {
   "cell_type": "code",
   "execution_count": 59,
   "id": "36f64833-8eca-4f3d-978f-41dfffff5bad",
   "metadata": {},
   "outputs": [
    {
     "name": "stdout",
     "output_type": "stream",
     "text": [
      "1\n",
      "2\n",
      "3\n",
      "4\n",
      "5\n",
      "6\n",
      "7\n",
      "8\n",
      "9\n",
      "10\n"
     ]
    }
   ],
   "source": [
    "n = 11\n",
    "\n",
    "for i in range(1,n):\n",
    "    print(i)"
   ]
  },
  {
   "cell_type": "code",
   "execution_count": 9,
   "id": "9207f3ef-9c5b-4f1d-ac21-218f72ccdd91",
   "metadata": {},
   "outputs": [
    {
     "name": "stdout",
     "output_type": "stream",
     "text": [
      "2 is a even number\n",
      "4 is a even number\n",
      "6 is a even number\n",
      "8 is a even number\n",
      "10 is a even number\n"
     ]
    }
   ],
   "source": [
    "for i in range(1,11):\n",
    "    if i % 2 == 0:\n",
    "        print(i,\"is a even number\")"
   ]
  },
  {
   "cell_type": "code",
   "execution_count": 11,
   "id": "3c0e0128-d286-4968-aedc-e17d52621e3d",
   "metadata": {},
   "outputs": [
    {
     "name": "stdout",
     "output_type": "stream",
     "text": [
      "1 is a odd number\n",
      "3 is a odd number\n",
      "5 is a odd number\n",
      "7 is a odd number\n",
      "9 is a odd number\n"
     ]
    }
   ],
   "source": [
    "for i in range(1,11):\n",
    "    if i % 2 != 0:\n",
    "        print(i,\"is a odd number\")"
   ]
  },
  {
   "cell_type": "code",
   "execution_count": 27,
   "id": "4c240847-f8a2-4b13-95d3-07be7e51c5e3",
   "metadata": {},
   "outputs": [
    {
     "name": "stdin",
     "output_type": "stream",
     "text": [
      "enter a number : 6\n"
     ]
    },
    {
     "name": "stdout",
     "output_type": "stream",
     "text": [
      "6 x 1 = 6\n",
      "6 x 2 = 12\n",
      "6 x 3 = 18\n",
      "6 x 4 = 24\n",
      "6 x 5 = 30\n",
      "6 x 6 = 36\n",
      "6 x 7 = 42\n",
      "6 x 8 = 48\n",
      "6 x 9 = 54\n",
      "6 x 10 = 60\n"
     ]
    }
   ],
   "source": [
    "n = int(input(\"enter a number :\"))\n",
    "\n",
    "for i in range(1,11):\n",
    "    print(n, 'x', i, '=', n*i)"
   ]
  },
  {
   "cell_type": "code",
   "execution_count": 61,
   "id": "6c23662a-493b-477b-8bda-f74df4661780",
   "metadata": {},
   "outputs": [
    {
     "name": "stdout",
     "output_type": "stream",
     "text": [
      "1\n",
      "2\n",
      "3\n",
      "4\n",
      "5\n",
      "6\n",
      "7\n",
      "8\n",
      "9\n"
     ]
    }
   ],
   "source": [
    "#display numbers from a list using a for loop.\n",
    "\n",
    "a = [1, 2, 3, 4, 5, 6, 7, 8, 9]\n",
    "\n",
    "for i in list:\n",
    "    print(i)\n"
   ]
  },
  {
   "cell_type": "code",
   "execution_count": 75,
   "id": "ae77d453-1e9f-4794-82fd-a170c9e1a970",
   "metadata": {},
   "outputs": [
    {
     "name": "stdin",
     "output_type": "stream",
     "text": [
      "enter a name : vasundhar\n"
     ]
    },
    {
     "name": "stdout",
     "output_type": "stream",
     "text": [
      "rahdnusav\n"
     ]
    }
   ],
   "source": [
    "#reverse a string\n",
    "\n",
    "word = input(\"enter a name :\")\n",
    "\n",
    "str = \"\"\n",
    "\n",
    "for i in word:\n",
    "    str = i + str\n",
    "\n",
    "print(str)"
   ]
  },
  {
   "cell_type": "code",
   "execution_count": 1,
   "id": "d6982b32-39eb-4fb1-b73d-4efac60b51ba",
   "metadata": {},
   "outputs": [
    {
     "name": "stdout",
     "output_type": "stream",
     "text": [
      "6\n"
     ]
    }
   ],
   "source": [
    "#count the total number of digits in a number.\n",
    "\n",
    "given_number = 129475\n",
    " \n",
    "\n",
    "given_number = str(given_number)\n",
    " \n",
    "\n",
    "count=0\n",
    " \n",
    "for i in given_number:\n",
    "        count += 1\n",
    "\n",
    "print(count)"
   ]
  },
  {
   "cell_type": "code",
   "execution_count": 51,
   "id": "119e22c9-7832-405e-96ec-b17a04141d89",
   "metadata": {},
   "outputs": [
    {
     "name": "stdin",
     "output_type": "stream",
     "text": [
      "enter a number 153\n"
     ]
    },
    {
     "name": "stdout",
     "output_type": "stream",
     "text": [
      "is a armstrong number\n"
     ]
    }
   ],
   "source": [
    "#Armstrong number\n",
    "\n",
    "n = int(input(\"enter a number\"))\n",
    "\n",
    "s = n\n",
    "\n",
    "b = len(str(n))\n",
    "\n",
    "sum1 = 0\n",
    "while n != 0:  #153\n",
    "    r = n%10   #153%10\n",
    "    sum1 = sum1+(r**b)   #3**3=27 5**3=125 1**3=1\n",
    "    n = n//10  #153//10--15, 15//10--5, 1//10--1\n",
    "\n",
    "if sum1 == s:\n",
    "    print(\"is a armstrong number\")\n",
    "\n",
    "else:\n",
    "    print(\"is not a armstrong number\")"
   ]
  },
  {
   "cell_type": "code",
   "execution_count": 63,
   "id": "1f440d08-4caa-471f-a3cb-58c73866a83a",
   "metadata": {},
   "outputs": [
    {
     "name": "stdout",
     "output_type": "stream",
     "text": [
      "Even numbers in the list:  3\n",
      "Odd numbers in the list:  4\n"
     ]
    }
   ],
   "source": [
    "# Python program to count Even\n",
    "# and Odd numbers in a List\n",
    "\n",
    "# list of numbers\n",
    "list = [10, 21, 4, 45, 66, 93, 1]\n",
    "\n",
    "even_count = 0\n",
    "odd_count =  0\n",
    "\n",
    "for i in list:\n",
    "\n",
    "\tif i % 2 == 0:\n",
    "\t\teven_count += 1\n",
    "\n",
    "\telse:\n",
    "\t\todd_count += 1\n",
    "\n",
    "print(\"Even numbers in the list: \", even_count)\n",
    "print(\"Odd numbers in the list: \", odd_count)\n"
   ]
  },
  {
   "cell_type": "code",
   "execution_count": 75,
   "id": "9493863f-6130-404a-a090-af0f405dfc9f",
   "metadata": {},
   "outputs": [
    {
     "name": "stdout",
     "output_type": "stream",
     "text": [
      "1\n",
      "3\n",
      "5\n",
      "7\n",
      "9\n",
      "11\n",
      "13\n",
      "15\n",
      "17\n",
      "19\n"
     ]
    }
   ],
   "source": [
    "#display all numbers within a range except the prime numbers.\n",
    "\n",
    "for i in range(1,20):\n",
    "    if i % 2 != 0: \n",
    "       print(i)"
   ]
  },
  {
   "cell_type": "code",
   "execution_count": 119,
   "id": "20f3bfec-cfeb-461e-b32d-2a232ee06ad6",
   "metadata": {},
   "outputs": [
    {
     "name": "stdout",
     "output_type": "stream",
     "text": [
      "Fibonacci series between 0 and 50:\n",
      "[0, 1, 1, 2, 3, 5, 8, 13, 21, 34]\n"
     ]
    }
   ],
   "source": [
    "#program to get the Fibonacci series between 0 to 50.\n",
    "\n",
    "a = 0\n",
    "b = 1\n",
    "\n",
    "fib_series = [a, b]\n",
    "\n",
    "for i in range(50):\n",
    "    c = a + b\n",
    "    if c > 50:\n",
    "        break\n",
    "    fib_series.append(c)\n",
    "    a = b\n",
    "    b = c\n",
    "\n",
    "print(\"Fibonacci series between 0 and 50:\")\n",
    "print(fib_series)\n"
   ]
  },
  {
   "cell_type": "code",
   "execution_count": 1,
   "id": "fe7c9c85-59f1-4854-abf3-e32da2dd9555",
   "metadata": {},
   "outputs": [
    {
     "name": "stdout",
     "output_type": "stream",
     "text": [
      "the factorial of 5 is: 120\n"
     ]
    }
   ],
   "source": [
    "#program to find the factorial of a given number.\n",
    "\n",
    "f = 1\n",
    "n = 5\n",
    "for i in range(1,n+1):\n",
    "    f = f * i\n",
    "print(f\"the factorial of {n} is: {f}\" )"
   ]
  },
  {
   "cell_type": "code",
   "execution_count": 13,
   "id": "e67d7ebb-1c1a-4aa0-bddb-cc71462fe922",
   "metadata": {},
   "outputs": [
    {
     "name": "stdout",
     "output_type": "stream",
     "text": [
      "{'A': 3, 'B': 3, 'C': 1, 'D': 2}\n"
     ]
    }
   ],
   "source": [
    "#\n",
    "\n",
    "random_list = ['A', 'A', 'B', 'C', 'B', 'D', 'D', 'A', 'B']\n",
    "frequency = {}\n",
    "\n",
    "for item in random_list:\n",
    "   if item in frequency:\n",
    "      frequency[item] += 1\n",
    "   else:\n",
    "      frequency[item] = 1\n",
    "\n",
    "print(frequency)"
   ]
  },
  {
   "cell_type": "code",
   "execution_count": 211,
   "id": "e326a789-3461-4d24-a186-0b42673f77d6",
   "metadata": {},
   "outputs": [
    {
     "name": "stdout",
     "output_type": "stream",
     "text": [
      "Digits 7\n",
      "letters 4\n"
     ]
    }
   ],
   "source": [
    " #program that accepts a string and calculates the number of digits and letters\n",
    "\n",
    "str =\"va1234567su\"\n",
    "count_digit = 0\n",
    "count_letter = 0\n",
    "for i in str:\n",
    "    if i.isdigit():\n",
    "        count_digit = count_digit + 1\n",
    "\n",
    "    else:\n",
    "        i.isalpha()\n",
    "        count_letter = count_letter + 1\n",
    "\n",
    "\n",
    "print(\"Digits\", count_digit)\n",
    "print(\"letters\", count_letter)"
   ]
  },
  {
   "cell_type": "code",
   "execution_count": 228,
   "id": "44c3b74b-65c8-495e-b7d0-51221a4222f3",
   "metadata": {},
   "outputs": [
    {
     "name": "stdout",
     "output_type": "stream",
     "text": [
      "Valid Password\n"
     ]
    }
   ],
   "source": [
    "# program to check the validity of password input by users.\n",
    "\n",
    "l, u, p, d = 0, 0, 0, 0\n",
    "s = \"VASU$ndhar@123\"\n",
    "\n",
    "if (len(s) >= 8):\n",
    "\tfor i in s:\n",
    "\n",
    "\t\t# counting lowercase alphabets \n",
    "\t\tif (i.islower()):\n",
    "\t\t\tl+=1\t\t\n",
    "\n",
    "\t\t# counting uppercase alphabets\n",
    "\t\tif (i.isupper()):\n",
    "\t\t\tu+=1\t\t\n",
    "\n",
    "\t\t# counting digits\n",
    "\t\tif (i.isdigit()):\n",
    "\t\t\td+=1\t\t\n",
    "\n",
    "\t\t# counting the mentioned special characters\n",
    "\t\tif(i=='@'or i=='$' or i=='_'):\n",
    "\t\t\tp+=1\n",
    "            \n",
    "if (l>=1 and u>=1 and p>=1 and d>=1 and l+p+u+d==len(s)):\n",
    "    print(\"Valid Password\")\n",
    "else:\n",
    "    print(\"Invalid Password\")       "
   ]
  },
  {
   "cell_type": "code",
   "execution_count": 232,
   "id": "708157bd-22be-4172-a830-9fc668be8af4",
   "metadata": {},
   "outputs": [
    {
     "name": "stdout",
     "output_type": "stream",
     "text": [
      "List of months: January, February, March, April, May, June, July, August, September, October, November, December\n"
     ]
    },
    {
     "name": "stdin",
     "output_type": "stream",
     "text": [
      "Input the name of Month:  April\n"
     ]
    },
    {
     "name": "stdout",
     "output_type": "stream",
     "text": [
      "No. of days: 30 days\n"
     ]
    }
   ],
   "source": [
    "#Python program to convert the month name to a number of days.\n",
    "\n",
    "print(\"List of months: January, February, March, April, May, June, July, August, September, October, November, December\")\n",
    "\n",
    "month_name = input(\"Input the name of Month: \")\n",
    "\n",
    "if month_name == \"February\":\n",
    "    print(\"No. of days: 28/29 days\")  \n",
    "elif month_name in (\"April\", \"June\", \"September\", \"November\"):\n",
    "    print(\"No. of days: 30 days\")  \n",
    "elif month_name in (\"January\", \"March\", \"May\", \"July\", \"August\", \"October\", \"December\"):\n",
    "    print(\"No. of days: 31 days\")  \n",
    "else:\n",
    "    print(\"Wrong month name\")   \n"
   ]
  },
  {
   "cell_type": "code",
   "execution_count": null,
   "id": "dc90d478-99ad-4540-8aa6-bea74255c56e",
   "metadata": {},
   "outputs": [],
   "source": []
  }
 ],
 "metadata": {
  "kernelspec": {
   "display_name": "Python 3 (ipykernel)",
   "language": "python",
   "name": "python3"
  },
  "language_info": {
   "codemirror_mode": {
    "name": "ipython",
    "version": 3
   },
   "file_extension": ".py",
   "mimetype": "text/x-python",
   "name": "python",
   "nbconvert_exporter": "python",
   "pygments_lexer": "ipython3",
   "version": "3.12.4"
  }
 },
 "nbformat": 4,
 "nbformat_minor": 5
}
