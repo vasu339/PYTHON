{
 "cells": [
  {
   "cell_type": "markdown",
   "id": "ec39f9fd-710c-4ca4-976c-e7436781779a",
   "metadata": {},
   "source": [
    "# String Data Type"
   ]
  },
  {
   "cell_type": "code",
   "execution_count": 5,
   "id": "f249ea81-3f20-4b9c-91d0-ab71f24bf50f",
   "metadata": {},
   "outputs": [
    {
     "name": "stdout",
     "output_type": "stream",
     "text": [
      "python\n",
      "python\n",
      "python\n",
      "python\n"
     ]
    }
   ],
   "source": [
    "#String is a sequence of characters\n",
    "\n",
    "str1='python'\n",
    "str2=\"python\"\n",
    "str3='''python'''\n",
    "str4=\"\"\"python\"\"\"\n",
    "print(str1)\n",
    "print(str2)\n",
    "print(str3)\n",
    "print(str4)"
   ]
  },
  {
   "cell_type": "code",
   "execution_count": 53,
   "id": "d1df4462-6047-42a0-a8b6-123c9158ecf3",
   "metadata": {},
   "outputs": [
    {
     "name": "stdout",
     "output_type": "stream",
     "text": [
      "web technologies\n",
      "data science\n",
      "kalki housefull\n",
      "google microsoft\n",
      "iam vasundhar\n"
     ]
    }
   ],
   "source": [
    "#conccatenation\n",
    "\n",
    "str1=\"web\"\n",
    "str2=\"technologies\"\n",
    "str3='data'\n",
    "str4='science'\n",
    "str5='''kalki'''\n",
    "str6='''housefull'''\n",
    "str7=\"google\"\n",
    "str8=\"microsoft\"\n",
    "str9=\"iam\"\n",
    "str10=\"vasundhar\"\n",
    "print(str1 +\" \"+ str2)\n",
    "print(str3 +\" \"+ str4)\n",
    "print(str5 +\" \"+ str6)\n",
    "print(str7 +\" \"+ str8)\n",
    "print(str9 +\" \"+ str10)\n"
   ]
  },
  {
   "cell_type": "code",
   "execution_count": null,
   "id": "11ec3d9f-6d46-46ba-88f4-486681abb67e",
   "metadata": {},
   "outputs": [],
   "source": []
  },
  {
   "cell_type": "code",
   "execution_count": 29,
   "id": "109cb352-47b5-4bd3-a13a-0c78e1a7f368",
   "metadata": {},
   "outputs": [
    {
     "name": "stdout",
     "output_type": "stream",
     "text": [
      "kalki housefull kalki housefull kalki housefull kalki housefull kalki housefull kalki housefull kalki housefull kalki housefull kalki housefull \n",
      "vasundhar vasundhar vasundhar vasundhar vasundhar vasundhar vasundhar vasundhar vasundhar vasundhar \n"
     ]
    }
   ],
   "source": [
    "#repetations\n",
    "\n",
    "str1='''kalki housefull '''\n",
    "print(str1 * 9)\n",
    "str2= \"vasundhar \"\n",
    "print(str2 * 10)\n",
    "\n",
    "\n"
   ]
  },
  {
   "cell_type": "code",
   "execution_count": 33,
   "id": "aa3e62a3-629e-416f-a967-4c14a0d541f4",
   "metadata": {},
   "outputs": [
    {
     "name": "stdout",
     "output_type": "stream",
     "text": [
      "t\n",
      "s\n"
     ]
    }
   ],
   "source": [
    "#indexing\n",
    "\n",
    "str1=\"today my topic is strings\"\n",
    "print(str1[9]) #positive\n",
    "print(str1[-7])  #negative"
   ]
  },
  {
   "cell_type": "code",
   "execution_count": 39,
   "id": "73215e0f-9d7a-47d7-ad3e-f072bc035bfd",
   "metadata": {},
   "outputs": [
    {
     "name": "stdout",
     "output_type": "stream",
     "text": [
      "iam gonna learn\n",
      "string\n"
     ]
    }
   ],
   "source": [
    "#slicing\n",
    "\n",
    "str=\"today iam gonna learn about string\"\n",
    "substr1=str[6:21]\n",
    "substr2=str[28:34]\n",
    "print(substr1)\n",
    "print(substr2)"
   ]
  },
  {
   "cell_type": "code",
   "execution_count": 51,
   "id": "c43bf97a-6852-44b7-b4f4-cda6ad859574",
   "metadata": {},
   "outputs": [
    {
     "name": "stdout",
     "output_type": "stream",
     "text": [
      "my name is vasu and iam 21 years old and my height is 5.7\n"
     ]
    }
   ],
   "source": [
    "#format of python\n",
    "\n",
    "formatted_str=f\"my name is {'vasu'} and iam {21} years old and my height is {5.7}\"\n",
    "print(formatted_str)\n"
   ]
  },
  {
   "cell_type": "code",
   "execution_count": 49,
   "id": "d4400e37-a9c1-4f33-8c22-4d68e9021fb3",
   "metadata": {},
   "outputs": [
    {
     "name": "stdout",
     "output_type": "stream",
     "text": [
      "my name is vasu and iam 21 years old and my height is 5.7\n"
     ]
    }
   ],
   "source": [
    "name=\"vasu\"\n",
    "age=21\n",
    "height=5.7\n",
    "format_str=f\"my name is {name} and iam {age} years old and my height is {height}\"\n",
    "print(format_str)"
   ]
  },
  {
   "cell_type": "code",
   "execution_count": 59,
   "id": "8279998c-3441-41b7-95c6-72bcdfc2753a",
   "metadata": {},
   "outputs": [
    {
     "name": "stdout",
     "output_type": "stream",
     "text": [
      "12\n",
      "5\n",
      "34\n"
     ]
    }
   ],
   "source": [
    "#string method\n",
    "#lenght()\n",
    "\n",
    "str1=\"web\"\n",
    "str2=\"technologies\"\n",
    "str3='data'\n",
    "str4='science'\n",
    "str5='''kalki'''\n",
    "str6='''housefull'''\n",
    "str7=\"google\"\n",
    "str8=\"today iam gonna learn about string\"\n",
    "lenght1=len(str2)\n",
    "print(lenght1)\n",
    "lenght2=len(str5)\n",
    "print(lenght2)\n",
    "lenght3=len(str8)\n",
    "print(lenght3)\n"
   ]
  },
  {
   "cell_type": "code",
   "execution_count": 69,
   "id": "381cd5c7-3d79-47d9-99ac-9a2f1db21fc4",
   "metadata": {},
   "outputs": [
    {
     "name": "stdout",
     "output_type": "stream",
     "text": [
      "SCIENCE\n",
      "HOUSEFULL\n",
      "TODAY IAM GONNA LEARN ABOUT STRING\n",
      "web\n",
      "techologies\n",
      "data\n"
     ]
    }
   ],
   "source": [
    "#lower/upper case()\n",
    "\n",
    "str1='science'\n",
    "str2='''kalki'''\n",
    "str3='''housefull'''\n",
    "str4=\"google\"\n",
    "str5=\"today iam gonna learn about string\"\n",
    "str6=\"WEB\"\n",
    "str7=\"TECHOLOGIES\"\n",
    "str8='DATA'\n",
    "print(str1.upper())\n",
    "print(str3.upper())\n",
    "print(str5.upper())\n",
    "print(str6.lower())\n",
    "print(str7.lower())\n",
    "print(str8.lower())\n"
   ]
  },
  {
   "cell_type": "code",
   "execution_count": 75,
   "id": "f9106b59-47d4-49a8-84cb-3161619ef4a0",
   "metadata": {},
   "outputs": [
    {
     "name": "stdout",
     "output_type": "stream",
     "text": [
      "   vasundhar    \n",
      "         hello world       \n",
      "    python 3.14.2    \n",
      "\tjagan\n",
      "  apple A5\n",
      "vasundhar\n",
      "hello world\n",
      "python 3.14.2\n",
      "jagan\n",
      "apple A5\n"
     ]
    }
   ],
   "source": [
    "#Strip\n",
    "str1 = \"   vasundhar    \"\n",
    "str2 = \"         hello world       \"\n",
    "str3 = \"    python 3.14.2    \" # evaluates spaces only at the beginning and at the end of a string \n",
    "str4 = \"\\tjagan\" #evaluates tab also\n",
    "str5 = \"  apple A5\" # evaluates spaces only at the beginning and at the end of a string \n",
    "print(str1)\n",
    "print(str2)\n",
    "print(str3)\n",
    "print(str4)\n",
    "print(str5)\n",
    "#strip()\n",
    "print(str1.strip())\n",
    "print(str2.strip())\n",
    "print(str3.strip())\n",
    "print(str4.strip())\n",
    "print(str5.strip())"
   ]
  },
  {
   "cell_type": "code",
   "execution_count": 77,
   "id": "f443c448-764c-4e19-8b90-9fa6985473c9",
   "metadata": {},
   "outputs": [
    {
     "name": "stdout",
     "output_type": "stream",
     "text": [
      "HeLLo\n",
      "WOrld\n",
      "Python3.9\n",
      "Biology\n",
      "Android 12.0\n"
     ]
    }
   ],
   "source": [
    "#Replace\n",
    "str1 = \"Hello\"\n",
    "str2 = \"World\"\n",
    "str3 = \"Python3\"\n",
    "str4 = \"Technology\"\n",
    "str5 = \"Android 11.01\"\n",
    "# Replace \"l\" with \"L\" in str1\n",
    "str1_replaced = str1.replace(\"l\", \"L\")\n",
    "print(str1_replaced)  \n",
    "str2_replaced = str2.replace(\"o\", \"O\")\n",
    "print(str2_replaced) \n",
    "str3_replaced = str3.replace(\"3\", \"3.9\")\n",
    "print(str3_replaced)  \n",
    "str4_replaced = str4.replace(\"Techno\", \"Bio\")\n",
    "print(str4_replaced)  \n",
    "str5_replaced = str5.replace(\"11.01\", \"12.0\")\n",
    "print(str5_replaced)"
   ]
  },
  {
   "cell_type": "code",
   "execution_count": 79,
   "id": "5d6ddc36-30fc-4d0f-9310-dab2befec553",
   "metadata": {},
   "outputs": [
    {
     "name": "stdout",
     "output_type": "stream",
     "text": [
      "['try', 'and', 'try', 'until', 'you', 'get', 'succed', '!']\n"
     ]
    }
   ],
   "source": [
    "#Split\n",
    "string = \"try and try until you get succed !\" #Splits the words of a sentence separated with spaces\n",
    "print(string.split())"
   ]
  },
  {
   "cell_type": "code",
   "execution_count": 81,
   "id": "c3a30945-faff-465b-8acc-641661b8cf37",
   "metadata": {},
   "outputs": [
    {
     "name": "stdout",
     "output_type": "stream",
     "text": [
      "Words of Wisdom spoken by a kid !\n"
     ]
    }
   ],
   "source": [
    "#join \n",
    "\n",
    "string = ['Words', 'of', 'Wisdom', 'spoken', 'by', 'a', 'kid', '!']\n",
    "print(' '.join(string))"
   ]
  },
  {
   "cell_type": "code",
   "execution_count": 83,
   "id": "f303647d-0ab2-4680-87b1-4d63a6d4bcd2",
   "metadata": {},
   "outputs": [
    {
     "name": "stdout",
     "output_type": "stream",
     "text": [
      "python\n"
     ]
    }
   ],
   "source": [
    "#casefold()\n",
    "\n",
    "text = \"pYtHon\"\n",
    "\n",
    "# convert all characters to lowercase\n",
    "lowercased_string = text.casefold()\n",
    "\n",
    "print(lowercased_string)"
   ]
  },
  {
   "cell_type": "code",
   "execution_count": 85,
   "id": "d75e7981-2e5f-4b70-943f-3ec341a2848a",
   "metadata": {},
   "outputs": [
    {
     "name": "stdout",
     "output_type": "stream",
     "text": [
      "4\n"
     ]
    }
   ],
   "source": [
    "#count()\n",
    "\n",
    "message = 'python is popular programming language'\n",
    "\n",
    "# number of occurrence of 'p'\n",
    "print(message.count('p'))\n"
   ]
  }
 ],
 "metadata": {
  "kernelspec": {
   "display_name": "Python 3 (ipykernel)",
   "language": "python",
   "name": "python3"
  },
  "language_info": {
   "codemirror_mode": {
    "name": "ipython",
    "version": 3
   },
   "file_extension": ".py",
   "mimetype": "text/x-python",
   "name": "python",
   "nbconvert_exporter": "python",
   "pygments_lexer": "ipython3",
   "version": "3.12.4"
  }
 },
 "nbformat": 4,
 "nbformat_minor": 5
}
