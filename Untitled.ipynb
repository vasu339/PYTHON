{
 "cells": [
  {
   "cell_type": "code",
   "execution_count": 1,
   "id": "ab259206-5f3d-4d40-8ce8-6887db0dccd9",
   "metadata": {},
   "outputs": [
    {
     "name": "stdout",
     "output_type": "stream",
     "text": [
      "python version 3.12.4 | packaged by Anaconda, Inc. | (main, Jun 18 2024, 15:03:56) [MSC v.1929 64 bit (AMD64)]\n"
     ]
    }
   ],
   "source": [
    "#python version\n",
    "\n",
    "import sys\n",
    "print(\"python version\", sys.version)"
   ]
  },
  {
   "cell_type": "code",
   "execution_count": 3,
   "id": "a4eb72f8-e7e6-48da-afd6-80f5cee59a3b",
   "metadata": {},
   "outputs": [
    {
     "name": "stdout",
     "output_type": "stream",
     "text": [
      "i am vasundhar reddy\n"
     ]
    }
   ],
   "source": [
    "#first python program\n",
    "\n",
    "print(\"i am vasundhar reddy\")"
   ]
  },
  {
   "cell_type": "code",
   "execution_count": 11,
   "id": "a4808096-756a-4f9c-97ad-24246c244632",
   "metadata": {},
   "outputs": [
    {
     "name": "stdout",
     "output_type": "stream",
     "text": [
      "ten greater than two!\n"
     ]
    }
   ],
   "source": [
    "#indentation\n",
    "\n",
    "if 10>2:\n",
    "    print(\"ten greater than two!\")\n",
    "    "
   ]
  },
  {
   "cell_type": "code",
   "execution_count": 17,
   "id": "1608a78b-b70a-4a2e-b670-37e8de23fcec",
   "metadata": {},
   "outputs": [
    {
     "name": "stdout",
     "output_type": "stream",
     "text": [
      "['False', 'None', 'True', 'and', 'as', 'assert', 'async', 'await', 'break', 'class', 'continue', 'def', 'del', 'elif', 'else', 'except', 'finally', 'for', 'from', 'global', 'if', 'import', 'in', 'is', 'lambda', 'nonlocal', 'not', 'or', 'pass', 'raise', 'return', 'try', 'while', 'with', 'yield']\n"
     ]
    },
    {
     "data": {
      "text/plain": [
       "35"
      ]
     },
     "execution_count": 17,
     "metadata": {},
     "output_type": "execute_result"
    }
   ],
   "source": [
    "#keyword\n",
    "\n",
    "import keyword\n",
    "python_keyword=keyword.kwlist\n",
    "print(python_keyword)\n",
    "len(python_keyword)"
   ]
  },
  {
   "cell_type": "code",
   "execution_count": null,
   "id": "613303b6-73e0-4c9a-b7ec-e6a0115380e7",
   "metadata": {},
   "outputs": [],
   "source": []
  }
 ],
 "metadata": {
  "kernelspec": {
   "display_name": "Python 3 (ipykernel)",
   "language": "python",
   "name": "python3"
  },
  "language_info": {
   "codemirror_mode": {
    "name": "ipython",
    "version": 3
   },
   "file_extension": ".py",
   "mimetype": "text/x-python",
   "name": "python",
   "nbconvert_exporter": "python",
   "pygments_lexer": "ipython3",
   "version": "3.12.4"
  }
 },
 "nbformat": 4,
 "nbformat_minor": 5
}
