{
 "cells": [
  {
   "cell_type": "markdown",
   "id": "2ec739b6-bd1d-4b10-80b7-84788089eee1",
   "metadata": {},
   "source": [
    "# list data type"
   ]
  },
  {
   "cell_type": "code",
   "execution_count": 2,
   "id": "bc1203a4-9442-4153-9426-6b4ea709deee",
   "metadata": {},
   "outputs": [
    {
     "name": "stdout",
     "output_type": "stream",
     "text": [
      "[]\n"
     ]
    }
   ],
   "source": [
    "#creating an empty list\n",
    "\n",
    "my_list=[]\n",
    "print(my_list)\n"
   ]
  },
  {
   "cell_type": "code",
   "execution_count": 10,
   "id": "af4a8d37-f90c-4eef-8f57-2cf01140033b",
   "metadata": {},
   "outputs": [
    {
     "name": "stdout",
     "output_type": "stream",
     "text": [
      "[1, 2, 3, 4, 5, 6]\n",
      "['apple', 'banana', 'cherry']\n",
      "[1, 'vasu', 6.01, 'true']\n"
     ]
    }
   ],
   "source": [
    "#with elements\n",
    "list=[1,2,3,4,5,6]\n",
    "print(list)\n",
    "\n",
    "list=[\"apple\",\"banana\",\"cherry\"]  #tring\n",
    "print(list)\n",
    "\n",
    "list=[1,\"vasu\",6.01,\"true\"]\n",
    "print(list)"
   ]
  },
  {
   "cell_type": "code",
   "execution_count": 16,
   "id": "a4ea4dde-5007-4438-9690-3df42495bc06",
   "metadata": {},
   "outputs": [
    {
     "name": "stdout",
     "output_type": "stream",
     "text": [
      "genpact\n",
      "microsoft\n",
      "c++\n",
      "java\n"
     ]
    }
   ],
   "source": [
    "#access list elements\n",
    "#index\n",
    "\n",
    "company=[\"wipro\",\"genpact\",\"google\",\"microsoft\"]\n",
    "index1=company[1]  #+\n",
    "index2=company[3]  #+\n",
    "print(index1)\n",
    "print(index2)\n",
    "\n",
    "lang=[\"c\",\"c++\",\"python\",\"java\"]\n",
    "index1=lang[-3]   #-\n",
    "index2=lang[-1]   #-\n",
    "print(index1)\n",
    "print(index2)"
   ]
  },
  {
   "cell_type": "code",
   "execution_count": 58,
   "id": "fae70d56-26a9-4dd7-89e5-3875e08e5df6",
   "metadata": {},
   "outputs": [
    {
     "name": "stdout",
     "output_type": "stream",
     "text": [
      "[3, 5, 6, 7, 2]\n",
      "[6, 7, 2, 8, 4]\n",
      "['r', 'i', 'e', 'w', 'v', 'h', 'o', 'p', 's', 'f', 't']\n",
      "['v', 'h', 'o', 'p', 's', 'f', 't', 'v', 'b', 'n', 'm']\n",
      "m\n",
      "['a', 'y', 'r', 'i', 'e', 'w', 'v', 'h', 'o', 'p', 's', 'f', 't', 'v', 'b', 'n', 'm']\n",
      "['vasu', 'venu', 'ramu', 'ravi', 'manu', 'nani']\n",
      "['vasu', 'venu', 'ramu', 'ravi', 'manu', 'nani', 'nagu']\n",
      "[4]\n"
     ]
    }
   ],
   "source": [
    "#sliicng of list\n",
    "\n",
    "my_list=[1,3,5,6,7,2,8,4,]\n",
    "list=['a','y','r','i','e','w','v','h','o','p','s','f','t','v','b','n','m',]\n",
    "name=[\"vasu\",\"venu\",\"ramu\",\"ravi\",\"manu\",\"nani\",\"nagu\",\"tanu\"]\n",
    "print(my_list[1:6])\n",
    "print(my_list[3:])\n",
    "print(list[2:13])\n",
    "print(list[6:])                           #positive\n",
    "print(list[16])\n",
    "print(list[:17])\n",
    "print(name[0:6])\n",
    "print(name[:7])\n",
    "\n",
    "print(my_list[-1])"
   ]
  },
  {
   "cell_type": "code",
   "execution_count": 66,
   "id": "87d4922a-1af0-487d-b04e-79bcf38e8723",
   "metadata": {},
   "outputs": [
    {
     "name": "stdout",
     "output_type": "stream",
     "text": [
      "[1, 3, 5, 7, 8, 'vasu', 'venu', 'ramu']\n",
      "['vasu', 'venu', 'ramu', 'google', 'wipro', 'genpact', 'microsoft']\n",
      "[1, 3, 5, 7, 8, 'c', 'c++', 'python', 'java']\n",
      "['google', 'wipro', 'genpact', 'microsoft']\n"
     ]
    }
   ],
   "source": [
    "#list operaters\n",
    "#concatenations\n",
    "\n",
    "list=[1,3,5,7,8,]\n",
    "name=[\"vasu\",\"venu\",\"ramu\"]\n",
    "lang=[\"c\",\"c++\",\"python\",\"java\"]\n",
    "comp=['google','wipro','genpact','microsoft']\n",
    "conca1=list+name\n",
    "conca2=name+comp\n",
    "conca3=list+lang\n",
    "conca4=lang=comp\n",
    "print(conca1)\n",
    "print(conca2)\n",
    "print(conca3)\n",
    "print(conca4)"
   ]
  },
  {
   "cell_type": "code",
   "execution_count": 70,
   "id": "591ea2c5-b7fd-460c-81e7-37d83fc20db6",
   "metadata": {},
   "outputs": [
    {
     "name": "stdout",
     "output_type": "stream",
     "text": [
      "['python programming', 'python programming', 'python programming', 'python programming', 'python programming', 'python programming', 'python programming', 'python programming', 'python programming', 'python programming']\n",
      "['tesk acadamy', 'tesk acadamy', 'tesk acadamy', 'tesk acadamy', 'tesk acadamy', 'tesk acadamy', 'tesk acadamy', 'tesk acadamy', 'tesk acadamy', 'tesk acadamy', 'tesk acadamy', 'tesk acadamy', 'tesk acadamy', 'tesk acadamy', 'tesk acadamy', 'tesk acadamy', 'tesk acadamy', 'tesk acadamy', 'tesk acadamy', 'tesk acadamy']\n",
      "['kfc', 'kfc', 'kfc', 'kfc', 'kfc', 'kfc', 'kfc', 'kfc', 'kfc']\n",
      "['mango', 'mango', 'mango', 'mango', 'mango', 'mango', 'mango', 'mango']\n"
     ]
    }
   ],
   "source": [
    "#repetitions\n",
    "\n",
    "list=[\"python programming\"]\n",
    "brand=[\"tesk acadamy\"]\n",
    "food=[\"kfc\"]\n",
    "fruit=[\"mango\"]\n",
    "rep1=list *10\n",
    "rep2=brand *20\n",
    "rep3=food *9\n",
    "rep4=fruit *8\n",
    "print(rep1)\n",
    "print(rep2)\n",
    "print(rep3)\n",
    "print(rep4)"
   ]
  },
  {
   "cell_type": "code",
   "execution_count": 86,
   "id": "5892c43e-29b6-48f0-b9e7-51fdfe70717b",
   "metadata": {},
   "outputs": [
    {
     "name": "stdout",
     "output_type": "stream",
     "text": [
      "['apple', 'banana', 'sapota', 'mango', 'orange']\n",
      "['apple', 'banana', 'sapota', 'mango', 'orange']\n"
     ]
    }
   ],
   "source": [
    "#changeing list items\n",
    "#index\n",
    "\n",
    "list=['apple','banana','cherry','mango','greape']\n",
    "list[4]=\"orange\"\n",
    "list[-3]=\"sapota\"\n",
    "print(list)\n",
    "print(list)"
   ]
  },
  {
   "cell_type": "code",
   "execution_count": 94,
   "id": "238520aa-ff8e-4133-89c0-70a28e370185",
   "metadata": {},
   "outputs": [
    {
     "name": "stdout",
     "output_type": "stream",
     "text": [
      "['vasu', 'venu', 'ramu', 'mango', 'greape']\n"
     ]
    }
   ],
   "source": [
    "#changeing list items\n",
    "#slicing\n",
    "\n",
    "list=['apple','banana','cherry','mango','greape']\n",
    "list[0:3]=[\"vasu\",\"venu\",\"ramu\"]\n",
    "print(list)\n"
   ]
  },
  {
   "cell_type": "code",
   "execution_count": 104,
   "id": "df288eb3-4b7e-4a37-b227-53acf0715e3b",
   "metadata": {},
   "outputs": [
    {
     "name": "stdout",
     "output_type": "stream",
     "text": [
      "['india', 'usa', 'uk', 'africa', 'south africa']\n",
      "[1, 4, 6, 3, 60]\n",
      "['c', 'c++', 'python', 'java']\n",
      "['a', 'e', 'i', 'o', 'u']\n",
      "['google', 'microsoft', 'wipro', 'genpact']\n",
      "['cat', 'dog', 'rabbit', ['tiger', 'fox']]\n",
      "['dollar', 'rupees', 'pounds', 'dirham']\n"
     ]
    }
   ],
   "source": [
    "#list methods()\n",
    "#append()\n",
    "\n",
    "country=[\"india\",\"usa\",\"uk\",\"africa\"]\n",
    "money=['dollar','rupees','pounds']\n",
    "numbers=[1,4,6,3,]\n",
    "lang=[\"c\",\"c++\",\"python\"]\n",
    "vowels=['a','e','i','o']\n",
    "company=[\"google\",\"microsoft\",\"wipro\"]\n",
    "animals = ['cat', 'dog', 'rabbit']\n",
    "\n",
    "append=country.append(\"south africa\")\n",
    "num=numbers.append(60)\n",
    "prog=lang.append(\"java\")\n",
    "vow=vowels.append('u')\n",
    "comp=company.append(\"genpact\")\n",
    "wild=animals.append(['tiger', 'fox'])\n",
    "m=money.append('dirham')\n",
    "\n",
    "print(country)\n",
    "print(numbers)\n",
    "print(lang)\n",
    "print(vowels)\n",
    "print(company)\n",
    "print(animals)\n",
    "print(money)\n"
   ]
  },
  {
   "cell_type": "code",
   "execution_count": 108,
   "id": "81050c5d-03e1-4d5e-97b7-b854e687c893",
   "metadata": {},
   "outputs": [
    {
     "name": "stdout",
     "output_type": "stream",
     "text": [
      "['French', 'English', 'Spanish', 'Portuguese']\n",
      "[1, 2, 3, 4]\n",
      "['india', 'usa', 'uk', 'africa', 'dollar', 'rupees', 'pounds']\n",
      "[1, 4, 6, 3, 'a', 'e', 'i', 'o', 'u']\n",
      "['cat', 'dog', 'rabbit', 'mutton', 'chicken', 'fish']\n"
     ]
    }
   ],
   "source": [
    "#extend()\n",
    "\n",
    "lang = ['French', 'English']\n",
    "lang1 = ['Spanish', 'Portuguese']\n",
    "a = [1, 2]\n",
    "b = [3, 4]\n",
    "country=[\"india\",\"usa\",\"uk\",\"africa\"]\n",
    "money=['dollar','rupees','pounds']\n",
    "numbers=[1,4,6,3,]\n",
    "vowels=['a','e','i','o','u']\n",
    "animals = ['cat', 'dog', 'rabbit']\n",
    "food=['mutton','chicken','fish']\n",
    "\n",
    "lang.extend(lang1)\n",
    "a.extend(b)\n",
    "country.extend(money)\n",
    "numbers.extend(vowels)\n",
    "animals.extend(food)\n",
    "\n",
    "print(lang)\n",
    "print(a)\n",
    "print(country)\n",
    "print(numbers)\n",
    "print(animals)"
   ]
  },
  {
   "cell_type": "code",
   "execution_count": 112,
   "id": "31ca6d84-46da-4fe5-bf8c-7195fd20c972",
   "metadata": {},
   "outputs": [
    {
     "name": "stdout",
     "output_type": "stream",
     "text": [
      "['a', 'e', 'i', 'o', 'u']\n",
      "[2, 3, 5, 7, 11]\n",
      "[1, 3, 5, 7, 11, 9]\n",
      "[1, [4, 5], 2, 3]\n",
      "[1, 3, 2, 4]\n",
      "[1, 2, 3, 4]\n"
     ]
    }
   ],
   "source": [
    "#insert()\n",
    "\n",
    "\n",
    "vowel = ['a', 'e', 'i', 'u']\n",
    "vowel.insert(3, 'o')\n",
    "prime_numbers = [2, 3, 5, 7]\n",
    "prime_numbers.insert(4, 11)\n",
    "odd_numbers = [ 1, 3, 5, 7, 9,]\n",
    "odd_numbers.insert(4, 11)\n",
    "my_list = [1, 2, 3]\n",
    "my_list.insert(1, [4, 5])\n",
    "my_list1 = [1, 3, 4]\n",
    "my_list1.insert(-1, 2)\n",
    "my_list2 = [1, 2, 3]\n",
    "my_list2.insert(10, 4)  #Insert 4 at index 10 (out of bounds)\n",
    "\n",
    "\n",
    "print(vowels)\n",
    "print(prime_numbers)\n",
    "print(odd_numbers)\n",
    "print(my_list)\n",
    "print(my_list1)\n",
    "print(my_list2)\n"
   ]
  },
  {
   "cell_type": "code",
   "execution_count": 116,
   "id": "a57973d6-285a-4517-b79a-9eedef1797a1",
   "metadata": {},
   "outputs": [
    {
     "name": "stdout",
     "output_type": "stream",
     "text": [
      "[2, 3, 5, 7, 11]\n",
      "['cat', 'dog', 'guinea pig']\n",
      "['cat', 'dog', 'guinea pig', 'dog']\n",
      "[[3, 4], [5, 6], [1, 2]]\n",
      "['text', 5.5, True, 10]\n"
     ]
    }
   ],
   "source": [
    "#remove()\n",
    "\n",
    "# create a list\n",
    "prime_numbers = [2, 3, 5, 7, 9, 11]\n",
    "prime_numbers.remove(9)\n",
    "animals = ['cat', 'dog', 'rabbit', 'guinea pig']\n",
    "animals.remove('rabbit')\n",
    "animals1 = ['cat', 'dog', 'dog', 'guinea pig', 'dog']\n",
    "animals1.remove('dog')\n",
    "list_of_lists = [[1, 2], [3, 4], [5, 6], [1, 2]]\n",
    "list_of_lists.remove([1, 2])\n",
    "mixed_list = ['text', 10, 5.5, True, 10]\n",
    "mixed_list.remove(10)\n",
    "\n",
    "print(prime_numbers)\n",
    "print(animals)\n",
    "print(animals1)\n",
    "print(list_of_lists)\n",
    "print(mixed_list)"
   ]
  },
  {
   "cell_type": "code",
   "execution_count": 128,
   "id": "d16ecf44-8738-4529-a61f-4c477bb5e5a1",
   "metadata": {},
   "outputs": [
    {
     "name": "stdout",
     "output_type": "stream",
     "text": [
      "French\n",
      "['Python', 'Java', 'C++', 'C']\n",
      "5\n",
      "[2, 3, 7]\n",
      "C++\n",
      "['Python', 'Java', 'Ruby', 'C']\n",
      "1\n",
      "[2, 3, 4, 5]\n"
     ]
    }
   ],
   "source": [
    "#pop()\n",
    "\n",
    "languages = ['Python', 'Java', 'C++', 'French', 'C']\n",
    "return_value = languages.pop(3)\n",
    "print(return_value)\n",
    "print(languages)\n",
    "\n",
    "\n",
    "prime_numbers = [2, 3, 5, 7]\n",
    "removed_element = prime_numbers.pop(2)\n",
    "print(removed_element)\n",
    "print(prime_numbers)\n",
    "\n",
    "languages = ['Python', 'Java', 'C++', 'Ruby', 'C']\n",
    "return_value=languages.pop(-3)\n",
    "print(return_value)\n",
    "print(languages)\n",
    "\n",
    "my_list = [1, 2, 3, 4, 5]\n",
    "first_element = my_list.pop(0)\n",
    "print(first_element)  \n",
    "print(my_list)"
   ]
  },
  {
   "cell_type": "code",
   "execution_count": 138,
   "id": "51dc1be6-236a-4055-8233-40378abebc05",
   "metadata": {},
   "outputs": [
    {
     "name": "stdout",
     "output_type": "stream",
     "text": [
      "1\n",
      "1\n",
      "2\n",
      "2\n",
      "4\n",
      "1\n",
      "1\n"
     ]
    }
   ],
   "source": [
    "#index()\n",
    "\n",
    "animals = ['cat', 'dog', 'rabbit', 'horse']\n",
    "index = animals.index('dog')\n",
    "print(index)\n",
    "\n",
    "vowels = ['a', 'e', 'i', 'o', 'i', 'u']\n",
    "index = vowels.index('e')\n",
    "print( index)\n",
    "index = vowels.index('i')\n",
    "print(index)\n",
    "\n",
    "fruits = ['apple', 'banana', 'cherry', 'date']\n",
    "index = fruits.index('cherry')\n",
    "print(index)\n",
    "\n",
    "numbers = [1, 2, 3, 4, 2, 5, 2]\n",
    "index = numbers.index(2, 2, 6)\n",
    "print(index)\n",
    "\n",
    "letters = ['a', 'b', 'c', 'b', 'd']\n",
    "index = letters.index('b')\n",
    "print(index)\n",
    "\n",
    "animals = ['cat', 'dog', 'elephant', 'dog']\n",
    "index = animals.index('dog', -3)\n",
    "print(index)\n"
   ]
  },
  {
   "cell_type": "code",
   "execution_count": 148,
   "id": "8956b08b-2644-432c-83e0-c26cb412ca4d",
   "metadata": {},
   "outputs": [
    {
     "name": "stdout",
     "output_type": "stream",
     "text": [
      "3\n",
      "2\n",
      "0\n",
      "3\n",
      "2\n",
      "1\n",
      "4\n"
     ]
    }
   ],
   "source": [
    "#count()\n",
    "\n",
    "numbers = [2, 3, 5, 2, 11, 2, 7]\n",
    "count = numbers.count(2)\n",
    "print( count)\n",
    "\n",
    "vowels = ['a', 'e', 'i', 'o', 'i', 'u']\n",
    "count = vowels.count('i')\n",
    "print( count)\n",
    "count = vowels.count('p')\n",
    "print(count)\n",
    "\n",
    "fruits = [\"apple\", \"banana\", \"apple\", \"cherry\", \"apple\"]\n",
    "count_of_apples = fruits.count(\"apple\")\n",
    "print(count_of_apples)\n",
    "\n",
    "random = ['a', ('a', 'b'), ('a', 'b'), [3, 4]]   #tuples in list\n",
    "count = random.count(('a', 'b'))\n",
    "print( count)\n",
    "count = random.count([3,4])\n",
    "print( count)\n",
    "\n",
    "bools = [True, False, True, True, False, False, True]   #boolean in list\n",
    "count_of_true = bools.count(True)\n",
    "print(count_of_true)"
   ]
  },
  {
   "cell_type": "code",
   "execution_count": 154,
   "id": "00fb3da6-6ee1-4082-8a57-b5ef82438c77",
   "metadata": {},
   "outputs": [
    {
     "name": "stdout",
     "output_type": "stream",
     "text": [
      "[2, 3, 5, 7, 11]\n",
      "['London', 'Tokyo', 'Washington D.C']\n",
      "['apple', 'banana', 'cherry']\n"
     ]
    }
   ],
   "source": [
    "#sort()\n",
    "\n",
    "prime_numbers = [11, 3, 7, 5, 2]\n",
    "prime_numbers.sort()\n",
    "print(prime_numbers)\n",
    "\n",
    "cities = [\"Tokyo\", \"London\", \"Washington D.C\"]\n",
    "cities.sort()\n",
    "print(cities)\n",
    "\n",
    "fruits = [\"banana\", \"apple\", \"cherry\"]\n",
    "fruits.sort()\n",
    "print(fruits)\n",
    "\n"
   ]
  },
  {
   "cell_type": "code",
   "execution_count": 164,
   "id": "ff99c7eb-c2bb-4847-bd50-c3cc3be16185",
   "metadata": {},
   "outputs": [
    {
     "name": "stdout",
     "output_type": "stream",
     "text": [
      "[7, 5, 3, 2]\n",
      "['Linux', 'macOS', 'Windows']\n",
      "['apple', 'banana', 'cherry']\n"
     ]
    }
   ],
   "source": [
    "#reverse\n",
    "\n",
    "prime_numbers = [2, 3, 5, 7]\n",
    "prime_numbers.reverse()\n",
    "print(prime_numbers)\n",
    "\n",
    "systems = ['Windows', 'macOS', 'Linux']\n",
    "systems.reverse()\n",
    "print(systems)\n",
    "\n",
    "fruits = [\"banana\", \"apple\", \"cherry\"]\n",
    "fruits.sort()\n",
    "print(fruits)"
   ]
  },
  {
   "cell_type": "code",
   "execution_count": 182,
   "id": "86af6e0e-242a-4c8e-85d6-58d4bbaa47d3",
   "metadata": {},
   "outputs": [
    {
     "name": "stdout",
     "output_type": "stream",
     "text": [
      "[2, 3, 5]\n",
      "['cat', 0, 6.7]\n",
      "[1, 2, 3, 'a']\n",
      "[1, 2, 3, 'a']\n",
      "[1, 2, 3, 4]\n"
     ]
    }
   ],
   "source": [
    "#copy()\n",
    "\n",
    "prime_numbers = [2, 3, 5]\n",
    "numbers = prime_numbers.copy()\n",
    "print(numbers)\n",
    "\n",
    "my_list = ['cat', 0, 6.7]\n",
    "new_list = my_list.copy()\n",
    "print(new_list)\n",
    "\n",
    "old_list = [1, 2, 3]\n",
    "new_list = old_list\n",
    "new_list.append('a')\n",
    "print(new_list)\n",
    "print(old_list)\n",
    "\n",
    "import copy\n",
    "\n",
    "original_list = [1, 2, 3, 4]\n",
    "copied_list = original_list.copy()\n",
    "print(copied_list)"
   ]
  },
  {
   "cell_type": "code",
   "execution_count": 188,
   "id": "32a117ce-fcfb-4175-b46a-19be2408dbb6",
   "metadata": {},
   "outputs": [
    {
     "name": "stdout",
     "output_type": "stream",
     "text": [
      "[]\n",
      "[]\n",
      "[]\n"
     ]
    }
   ],
   "source": [
    "#clear()\n",
    "\n",
    "prime_numbers = [2, 3, 5, 7, 9, 11]\n",
    "prime_numbers.clear()\n",
    "print(prime_numbers)\n",
    "\n",
    "list = [{1, 2}, ('a'), ['1.1', '2.2']]\n",
    "list.clear()\n",
    "print(list)\n",
    "\n",
    "list = [{1, 2}, ('a'), ['1.1', '2.2']]\n",
    "del list[:]\n",
    "print(list)"
   ]
  },
  {
   "cell_type": "code",
   "execution_count": 192,
   "id": "09d6c947-eed0-45d1-8f8e-74cd2d9f1435",
   "metadata": {},
   "outputs": [
    {
     "name": "stdout",
     "output_type": "stream",
     "text": [
      "21\n",
      "2\n"
     ]
    }
   ],
   "source": [
    "#min()\n",
    "\n",
    "numbers = [23,25,65,21,98]\n",
    "print(min(numbers))\n",
    "\n",
    "numbers = [3, 2, 8, 5, 10, 6]\n",
    "small = min(numbers)\n",
    "print(small)"
   ]
  },
  {
   "cell_type": "code",
   "execution_count": 198,
   "id": "cc88f9e1-abdf-4d75-82df-ff5f27221d9e",
   "metadata": {},
   "outputs": [
    {
     "name": "stdout",
     "output_type": "stream",
     "text": [
      "8\n",
      "1.3\n"
     ]
    },
    {
     "ename": "TypeError",
     "evalue": "'>' not supported between instances of 'str' and 'int'",
     "output_type": "error",
     "traceback": [
      "\u001b[1;31m---------------------------------------------------------------------------\u001b[0m",
      "\u001b[1;31mTypeError\u001b[0m                                 Traceback (most recent call last)",
      "Cell \u001b[1;32mIn[198], line 15\u001b[0m\n\u001b[0;32m     13\u001b[0m integer \u001b[38;5;241m=\u001b[39m \u001b[38;5;241m5\u001b[39m\n\u001b[0;32m     14\u001b[0m string \u001b[38;5;241m=\u001b[39m \u001b[38;5;124m\"\u001b[39m\u001b[38;5;124mgeek\u001b[39m\u001b[38;5;124m\"\u001b[39m\n\u001b[1;32m---> 15\u001b[0m max_val \u001b[38;5;241m=\u001b[39m \u001b[38;5;28mmax\u001b[39m(integer, string)\n\u001b[0;32m     16\u001b[0m \u001b[38;5;28mprint\u001b[39m(max_val)\n",
      "\u001b[1;31mTypeError\u001b[0m: '>' not supported between instances of 'str' and 'int'"
     ]
    }
   ],
   "source": [
    "#max\n",
    "\n",
    "var1 = 4\n",
    "var2 = 8\n",
    "var3 = 2\n",
    "max_val = max(var1, var2, var3)\n",
    "print(max_val)\n",
    "\n",
    "list = [1.2, 1.3, 0.1]\n",
    "max_value = max(list)\n",
    "print(max_value)\n",
    "\n",
    "integer = 5\n",
    "string = \"geek\"\n",
    "max_val = max(integer, string)\n",
    "print(max_val)"
   ]
  },
  {
   "cell_type": "code",
   "execution_count": null,
   "id": "d9f05a08-0428-48df-8d07-95c9263f7776",
   "metadata": {},
   "outputs": [],
   "source": []
  },
  {
   "cell_type": "code",
   "execution_count": null,
   "id": "90489def-9a5f-4c76-8b05-442d56804f35",
   "metadata": {},
   "outputs": [],
   "source": []
  },
  {
   "cell_type": "code",
   "execution_count": null,
   "id": "371419b8-b993-4c19-b603-942506d68dae",
   "metadata": {},
   "outputs": [],
   "source": []
  },
  {
   "cell_type": "code",
   "execution_count": null,
   "id": "7ccc3eef-45f3-48cc-8251-e1d26c1854c6",
   "metadata": {},
   "outputs": [],
   "source": []
  },
  {
   "cell_type": "code",
   "execution_count": null,
   "id": "bcb50d80-1b29-45ec-8440-c0d7a9358e25",
   "metadata": {},
   "outputs": [],
   "source": []
  },
  {
   "cell_type": "code",
   "execution_count": null,
   "id": "8a972373-35db-47e6-a136-2144a7acdb62",
   "metadata": {},
   "outputs": [],
   "source": []
  }
 ],
 "metadata": {
  "kernelspec": {
   "display_name": "Python 3 (ipykernel)",
   "language": "python",
   "name": "python3"
  },
  "language_info": {
   "codemirror_mode": {
    "name": "ipython",
    "version": 3
   },
   "file_extension": ".py",
   "mimetype": "text/x-python",
   "name": "python",
   "nbconvert_exporter": "python",
   "pygments_lexer": "ipython3",
   "version": "3.12.4"
  }
 },
 "nbformat": 4,
 "nbformat_minor": 5
}
